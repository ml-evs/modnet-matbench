{
 "cells": [
  {
   "cell_type": "markdown",
   "metadata": {},
   "source": [
    "# MODNet 'matbench_log_gvrh' and 'matbench_log_kvrh' benchmarking"
   ]
  },
  {
   "cell_type": "markdown",
   "metadata": {},
   "source": [
    "Multi-target benchmarking of the ~11,000 entry elastic properties datasets provided by matminer."
   ]
  },
  {
   "cell_type": "code",
   "execution_count": 1,
   "metadata": {},
   "outputs": [
    {
     "name": "stdout",
     "output_type": "stream",
     "text": [
      "\n",
      "If you use the ChemEnv tool for your research, please consider citing the following reference(s) :\n",
      "==================================================================================================\n",
      "David Waroquiers, Xavier Gonze, Gian-Marco Rignanese, Cathrin Welker-Nieuwoudt, Frank Rosowski,\n",
      "Michael Goebel, Stephan Schenk, Peter Degelmann, Rute Andre, Robert Glaum, and Geoffroy Hautier,\n",
      "\"Statistical analysis of coordination environments in oxides\",\n",
      "Chem. Mater., 2017, 29 (19), pp 8346-8360,\n",
      "DOI: 10.1021/acs.chemmater.7b02766\n",
      "\n"
     ]
    }
   ],
   "source": [
    "from collections import defaultdict\n",
    "import itertools\n",
    "import os\n",
    "import pandas as pd\n",
    "import matplotlib.pyplot as plt \n",
    "import numpy as np\n",
    "from matminer.datasets import load_dataset\n",
    "from pymatgen.core import Composition\n",
    "\n",
    "from IPython.display import Markdown\n",
    "from modnet.preprocessing import MODData\n",
    "from modnet.models import MODNetModel\n",
    "from modnet.featurizers import MODFeaturizer\n",
    "from modnet.featurizers.presets import DeBreuck2020Featurizer\n",
    "\n",
    "os.environ[\"CUDA_VISIBLE_DEVICES\"] = \"1\""
   ]
  },
  {
   "cell_type": "code",
   "execution_count": 2,
   "metadata": {},
   "outputs": [
    {
     "data": {
      "text/markdown": [
       "# matbench_elastic\n",
       "\n",
       "## Introduction\n",
       "\n",
       "- Multi-target prediction of Voigt-Reuss-Hill bulk modulus and shear modulus from structures.\n",
       "- 10,987 structures\n",
       "\n",
       "Results to beat:\n",
       "\n",
       "| Method | log K (log(GPa)) | log G (log(GPa)) |\n",
       "|:-------|-----------------:|-----------------:|\n",
       "| Automatminer | 0.0679 | 0.0849 |\n",
       "| MEGNet | 0.0712 | 0.0914 |\n",
       "| CGCNN | 0.0712 | 0.0895 |\n",
       "\n",
       "## To-do\n",
       "\n",
       "- [x] Featurize\n",
       "- [ ] Feature selection (extremely slow, >months...)\n",
       "\n",
       "## Notes\n",
       "\n",
       "- Very slow to do feature selection; need to do sampling\n",
       "\n",
       "## Results\n",
       "\n",
       "| Method/architecture | log K (log(GPa)) | log G (log(GPa)) |\n",
       "|:--------------------|-----------------:|-----------------:|\n",
       "| MODNet              |                  |                  |\n"
      ],
      "text/plain": [
       "<IPython.core.display.Markdown object>"
      ]
     },
     "execution_count": 2,
     "metadata": {},
     "output_type": "execute_result"
    }
   ],
   "source": [
    "Markdown(filename=\"./README.md\")"
   ]
  },
  {
   "cell_type": "markdown",
   "metadata": {},
   "source": [
    "## Data exploration"
   ]
  },
  {
   "cell_type": "code",
   "execution_count": 3,
   "metadata": {},
   "outputs": [],
   "source": [
    "df_gvrh = load_dataset(\"matbench_log_gvrh\")\n",
    "df_kvrh = load_dataset(\"matbench_log_kvrh\")"
   ]
  },
  {
   "cell_type": "code",
   "execution_count": 4,
   "metadata": {},
   "outputs": [],
   "source": [
    "df_combined = pd.DataFrame(df_gvrh)\n",
    "df_combined[\"log10(K_VRH)\"] = df_kvrh[\"log10(K_VRH)\"]"
   ]
  },
  {
   "cell_type": "code",
   "execution_count": 5,
   "metadata": {},
   "outputs": [],
   "source": [
    "df_temp = df_combined[['structure']]\n",
    "df_temp['structure_dict'] = df_temp['structure'].apply(lambda x: x.as_dict())\n",
    "df_temp = df_temp.drop('structure',axis=1)\n",
    "df_temp.to_csv('df_GK_struc.csv')"
   ]
  },
  {
   "cell_type": "markdown",
   "metadata": {
    "heading_collapsed": true
   },
   "source": [
    "### Target space"
   ]
  },
  {
   "cell_type": "code",
   "execution_count": 6,
   "metadata": {
    "hidden": true
   },
   "outputs": [
    {
     "data": {
      "text/html": [
       "<div>\n",
       "<style scoped>\n",
       "    .dataframe tbody tr th:only-of-type {\n",
       "        vertical-align: middle;\n",
       "    }\n",
       "\n",
       "    .dataframe tbody tr th {\n",
       "        vertical-align: top;\n",
       "    }\n",
       "\n",
       "    .dataframe thead th {\n",
       "        text-align: right;\n",
       "    }\n",
       "</style>\n",
       "<table border=\"1\" class=\"dataframe\">\n",
       "  <thead>\n",
       "    <tr style=\"text-align: right;\">\n",
       "      <th></th>\n",
       "      <th>log10(G_VRH)</th>\n",
       "      <th>log10(K_VRH)</th>\n",
       "    </tr>\n",
       "  </thead>\n",
       "  <tbody>\n",
       "    <tr>\n",
       "      <th>count</th>\n",
       "      <td>10987.000000</td>\n",
       "      <td>10987.000000</td>\n",
       "    </tr>\n",
       "    <tr>\n",
       "      <th>mean</th>\n",
       "      <td>1.553639</td>\n",
       "      <td>1.880446</td>\n",
       "    </tr>\n",
       "    <tr>\n",
       "      <th>std</th>\n",
       "      <td>0.371615</td>\n",
       "      <td>0.369331</td>\n",
       "    </tr>\n",
       "    <tr>\n",
       "      <th>min</th>\n",
       "      <td>0.000000</td>\n",
       "      <td>0.000000</td>\n",
       "    </tr>\n",
       "    <tr>\n",
       "      <th>25%</th>\n",
       "      <td>1.342423</td>\n",
       "      <td>1.672098</td>\n",
       "    </tr>\n",
       "    <tr>\n",
       "      <th>50%</th>\n",
       "      <td>1.579784</td>\n",
       "      <td>1.934498</td>\n",
       "    </tr>\n",
       "    <tr>\n",
       "      <th>75%</th>\n",
       "      <td>1.826075</td>\n",
       "      <td>2.158362</td>\n",
       "    </tr>\n",
       "    <tr>\n",
       "      <th>max</th>\n",
       "      <td>2.718502</td>\n",
       "      <td>2.759668</td>\n",
       "    </tr>\n",
       "  </tbody>\n",
       "</table>\n",
       "</div>"
      ],
      "text/plain": [
       "       log10(G_VRH)  log10(K_VRH)\n",
       "count  10987.000000  10987.000000\n",
       "mean       1.553639      1.880446\n",
       "std        0.371615      0.369331\n",
       "min        0.000000      0.000000\n",
       "25%        1.342423      1.672098\n",
       "50%        1.579784      1.934498\n",
       "75%        1.826075      2.158362\n",
       "max        2.718502      2.759668"
      ]
     },
     "execution_count": 6,
     "metadata": {},
     "output_type": "execute_result"
    }
   ],
   "source": [
    "df_combined.describe()"
   ]
  },
  {
   "cell_type": "code",
   "execution_count": 7,
   "metadata": {
    "hidden": true
   },
   "outputs": [
    {
     "data": {
      "text/plain": [
       "Text(0, 0.5, 'log10(K_VRH)')"
      ]
     },
     "execution_count": 7,
     "metadata": {},
     "output_type": "execute_result"
    },
    {
     "data": {
      "image/png": "[encoded data removed]",
      "text/plain": [
       "<Figure size 432x288 with 1 Axes>"
      ]
     },
     "metadata": {},
     "output_type": "display_data"
    },
    {
     "data": {
      "image/png": "[encoded data removed]",
      "text/plain": [
       "<Figure size 432x288 with 1 Axes>"
      ]
     },
     "metadata": {},
     "output_type": "display_data"
    },
    {
     "data": {
      "image/png": "[encoded data removed]",
      "text/plain": [
       "<Figure size 432x288 with 1 Axes>"
      ]
     },
     "metadata": {},
     "output_type": "display_data"
    }
   ],
   "source": [
    "fig, ax = plt.subplots(facecolor=\"w\")\n",
    "ax.hist(df_combined[\"log10(G_VRH)\"], bins=100, density=True);\n",
    "ax.set_ylabel(\"Frequency\")\n",
    "ax.set_xlabel(\"log10(G_VRH)\")\n",
    "fig, ax = plt.subplots(facecolor=\"w\")\n",
    "ax.hist(df_combined[\"log10(K_VRH)\"], bins=100, density=True);\n",
    "ax.set_ylabel(\"Frequency\")\n",
    "ax.set_xlabel(\"log10(K_VRH)\")\n",
    "fig, ax = plt.subplots(facecolor=\"w\")\n",
    "ax.scatter(df_combined[\"log10(G_VRH)\"], df_combined[\"log10(K_VRH)\"], alpha=0.1)\n",
    "ax.set_xlabel(\"log10(G_VRH)\")\n",
    "ax.set_ylabel(\"log10(K_VRH)\")"
   ]
  },
  {
   "cell_type": "markdown",
   "metadata": {},
   "source": [
    "## Featurization and feature selection"
   ]
  },
  {
   "cell_type": "code",
   "execution_count": 25,
   "metadata": {
    "scrolled": true
   },
   "outputs": [
    {
     "name": "stderr",
     "output_type": "stream",
     "text": [
      "INFO:root:Loaded <modnet.preprocessing.MODData object at 0x7fcd876b3d30> object, created with modnet version 0.1.8~develop\n"
     ]
    }
   ],
   "source": [
    "PRECOMPUTED_MODDATA = \"./precomputed/elastic_benchmark_moddata_MPCNMI.pkl.gz\"\n",
    "\n",
    "if os.path.isfile(PRECOMPUTED_MODDATA):\n",
    "    data = MODData.load(PRECOMPUTED_MODDATA)\n",
    "else:\n",
    "    data = MODData(\n",
    "        structures=df_combined[\"structure\"].tolist(), \n",
    "        targets=df_combined[[\"log10(G_VRH)\", \"log10(K_VRH)\"]],\n",
    "        target_names=[\"log10(G_VRH)\", \"log10(K_VRH)\"],\n",
    "        featurizer=DeBreuck2020Featurizer(n_jobs=8)\n",
    "    )\n",
    "    data.featurize()\n",
    "    # As this is a small data/feature set, order all features \n",
    "    data.feature_selection(n=-1)"
   ]
  },
  {
   "cell_type": "code",
   "execution_count": 26,
   "metadata": {},
   "outputs": [],
   "source": [
    "#data.num_classes = {\"log10(G_VRH)\":0, \"log10(K_VRH)\":0}\n",
    "#data.feature_selection(n=-1)\n",
    "#data.save(\"./precomputed/elastic_benchmark_moddata_MPCNMI.pkl.gz\")"
   ]
  },
  {
   "cell_type": "code",
   "execution_count": 27,
   "metadata": {},
   "outputs": [],
   "source": [
    "#data.save(\"./precomputed/elastic_benchmark_moddata_MPCNMI.pkl.gz\")"
   ]
  },
  {
   "cell_type": "code",
   "execution_count": 28,
   "metadata": {},
   "outputs": [
    {
     "data": {
      "text/html": [
       "<div>\n",
       "<style scoped>\n",
       "    .dataframe tbody tr th:only-of-type {\n",
       "        vertical-align: middle;\n",
       "    }\n",
       "\n",
       "    .dataframe tbody tr th {\n",
       "        vertical-align: top;\n",
       "    }\n",
       "\n",
       "    .dataframe thead th {\n",
       "        text-align: right;\n",
       "    }\n",
       "</style>\n",
       "<table border=\"1\" class=\"dataframe\">\n",
       "  <thead>\n",
       "    <tr style=\"text-align: right;\">\n",
       "      <th></th>\n",
       "      <th>log10(G_VRH)</th>\n",
       "      <th>log10(K_VRH)</th>\n",
       "    </tr>\n",
       "  </thead>\n",
       "  <tbody>\n",
       "    <tr>\n",
       "      <th>id0</th>\n",
       "      <td>1.447158</td>\n",
       "      <td>1.707570</td>\n",
       "    </tr>\n",
       "    <tr>\n",
       "      <th>id1</th>\n",
       "      <td>1.518514</td>\n",
       "      <td>1.633468</td>\n",
       "    </tr>\n",
       "    <tr>\n",
       "      <th>id2</th>\n",
       "      <td>1.740363</td>\n",
       "      <td>1.908485</td>\n",
       "    </tr>\n",
       "    <tr>\n",
       "      <th>id3</th>\n",
       "      <td>1.707570</td>\n",
       "      <td>2.117271</td>\n",
       "    </tr>\n",
       "    <tr>\n",
       "      <th>id4</th>\n",
       "      <td>1.602060</td>\n",
       "      <td>1.690196</td>\n",
       "    </tr>\n",
       "    <tr>\n",
       "      <th>...</th>\n",
       "      <td>...</td>\n",
       "      <td>...</td>\n",
       "    </tr>\n",
       "    <tr>\n",
       "      <th>id10982</th>\n",
       "      <td>1.414973</td>\n",
       "      <td>1.778151</td>\n",
       "    </tr>\n",
       "    <tr>\n",
       "      <th>id10983</th>\n",
       "      <td>1.431364</td>\n",
       "      <td>1.724276</td>\n",
       "    </tr>\n",
       "    <tr>\n",
       "      <th>id10984</th>\n",
       "      <td>1.000000</td>\n",
       "      <td>1.342423</td>\n",
       "    </tr>\n",
       "    <tr>\n",
       "      <th>id10985</th>\n",
       "      <td>1.579784</td>\n",
       "      <td>1.770852</td>\n",
       "    </tr>\n",
       "    <tr>\n",
       "      <th>id10986</th>\n",
       "      <td>1.698970</td>\n",
       "      <td>1.954243</td>\n",
       "    </tr>\n",
       "  </tbody>\n",
       "</table>\n",
       "<p>10987 rows × 2 columns</p>\n",
       "</div>"
      ],
      "text/plain": [
       "         log10(G_VRH)  log10(K_VRH)\n",
       "id0          1.447158      1.707570\n",
       "id1          1.518514      1.633468\n",
       "id2          1.740363      1.908485\n",
       "id3          1.707570      2.117271\n",
       "id4          1.602060      1.690196\n",
       "...               ...           ...\n",
       "id10982      1.414973      1.778151\n",
       "id10983      1.431364      1.724276\n",
       "id10984      1.000000      1.342423\n",
       "id10985      1.579784      1.770852\n",
       "id10986      1.698970      1.954243\n",
       "\n",
       "[10987 rows x 2 columns]"
      ]
     },
     "execution_count": 28,
     "metadata": {},
     "output_type": "execute_result"
    }
   ],
   "source": [
    "data.df_targets"
   ]
  },
  {
   "cell_type": "markdown",
   "metadata": {},
   "source": [
    "## Training"
   ]
  },
  {
   "cell_type": "markdown",
   "metadata": {},
   "source": [
    "This is a very small dataset, so we must make judicious use of what data there is. First, let's generate test folds according to [matbench's suggestions](https://hackingmaterials.lbl.gov/automatminer/datasets.html#benchmarking-and-reporting-your-algorithm):"
   ]
  },
  {
   "cell_type": "code",
   "execution_count": 31,
   "metadata": {},
   "outputs": [
    {
     "name": "stderr",
     "output_type": "stream",
     "text": [
      "INFO:root:Compiling model...\n",
      "INFO:root:Fitting model...\n"
     ]
    },
    {
     "name": "stdout",
     "output_type": "stream",
     "text": [
      "Model #1: MAE = [0.07898848 0.05854952]\n"
     ]
    },
    {
     "name": "stderr",
     "output_type": "stream",
     "text": [
      "INFO:root:Compiling model...\n",
      "INFO:root:Fitting model...\n"
     ]
    },
    {
     "name": "stdout",
     "output_type": "stream",
     "text": [
      "Model #2: MAE = [0.09394978 0.074667  ]\n"
     ]
    },
    {
     "name": "stderr",
     "output_type": "stream",
     "text": [
      "INFO:root:Compiling model...\n",
      "INFO:root:Fitting model...\n"
     ]
    },
    {
     "name": "stdout",
     "output_type": "stream",
     "text": [
      "Model #3: MAE = [0.07890025 0.05582615]\n"
     ]
    },
    {
     "name": "stderr",
     "output_type": "stream",
     "text": [
      "INFO:root:Compiling model...\n",
      "INFO:root:Fitting model...\n"
     ]
    },
    {
     "name": "stdout",
     "output_type": "stream",
     "text": [
      "Model #4: MAE = [ 2.64086913 24.68951497]\n"
     ]
    },
    {
     "name": "stderr",
     "output_type": "stream",
     "text": [
      "INFO:root:Compiling model...\n",
      "INFO:root:Fitting model...\n"
     ]
    },
    {
     "name": "stdout",
     "output_type": "stream",
     "text": [
      "Model #5: MAE = [0.08647578 0.06612804]\n"
     ]
    },
    {
     "data": {
      "text/plain": [
       "array([0.08457857, 0.06379268])"
      ]
     },
     "execution_count": 31,
     "metadata": {},
     "output_type": "execute_result"
    }
   ],
   "source": [
    "data.df_targets.columns=['G','K']\n",
    "try:\n",
    "    plot_benchmark\n",
    "except:\n",
    "    import sys\n",
    "    sys.path.append('..')\n",
    "    from modnet_matbench.utils import *\n",
    "    \n",
    "from sklearn.model_selection import KFold\n",
    "from modnet.models import MODNetModel\n",
    "from tensorflow.keras.callbacks import ReduceLROnPlateau, EarlyStopping\n",
    "\n",
    "best_settings = {\n",
    "    \"increase_bs\":False,\n",
    "    \"num_neurons\": [[256], [64], [64], [32]],\n",
    "    \"n_feat\": 350,\n",
    "    \"lr\": 0.01,\n",
    "    \"epochs\": 200,\n",
    "    \"verbose\": 0,\n",
    "    \"act\": \"elu\",\n",
    "    \"batch_size\": 64,\n",
    "    \"loss\": \"mae\",\n",
    "    \n",
    "}\n",
    "\n",
    "results = matbench_benchmark(data, [[[\"G\"],[\"K\"]]], {\"G\": 1, \"K\":1}, best_settings,multi=True,save_folds=True)\n",
    "np.mean(np.array(results[\"scores\"])[[0,1,2,4]],axis=0)"
   ]
  },
  {
   "cell_type": "code",
   "execution_count": 44,
   "metadata": {},
   "outputs": [
    {
     "name": "stdout",
     "output_type": "stream",
     "text": [
      "count    2198.000000\n",
      "mean        0.058550\n",
      "std         0.086739\n",
      "min         0.000032\n",
      "25%         0.014958\n",
      "50%         0.032772\n",
      "75%         0.066891\n",
      "max         1.592142\n",
      "Name: K_error, dtype: float64\n",
      "count    2198.000000\n",
      "mean        0.074667\n",
      "std         0.193456\n",
      "min         0.000038\n",
      "25%         0.021860\n",
      "50%         0.046441\n",
      "75%         0.082682\n",
      "max         7.980914\n",
      "Name: K_error, dtype: float64\n",
      "count    2197.000000\n",
      "mean        0.055826\n",
      "std         0.083313\n",
      "min         0.000060\n",
      "25%         0.014277\n",
      "50%         0.030809\n",
      "75%         0.062906\n",
      "max         1.206394\n",
      "Name: K_error, dtype: float64\n",
      "id\n",
      "id6951     54107.837275\n",
      "id10605        1.288851\n",
      "id5845         0.922461\n",
      "id4537         0.900193\n",
      "id7030         0.894927\n",
      "Name: K_error, dtype: float64\n",
      "count    2196.000000\n",
      "mean        0.061488\n",
      "std         0.097603\n",
      "min         0.000018\n",
      "25%         0.015042\n",
      "50%         0.032031\n",
      "75%         0.065414\n",
      "max         1.288851\n",
      "Name: K_error, dtype: float64\n",
      "count    2197.000000\n",
      "mean        0.066128\n",
      "std         0.089592\n",
      "min         0.000072\n",
      "25%         0.020227\n",
      "50%         0.041449\n",
      "75%         0.076942\n",
      "max         1.381024\n",
      "Name: K_error, dtype: float64\n",
      "0.06333169427908776\n",
      "0.08455150974167379\n"
     ]
    }
   ],
   "source": [
    "errors_K = []\n",
    "errors_G = []\n",
    "for f in range(5):\n",
    "    df = pd.read_csv('folds/test_f{}.csv'.format(f+1),index_col=0)\n",
    "    if f==3:\n",
    "        print(df['K_error'].abs().nlargest(n=5))\n",
    "        df = df.drop('id6951')\n",
    "    print(df['K_error'].abs().describe())\n",
    "    errors_K.append(df['K_error'].abs().mean())\n",
    "    errors_G.append(df['G_error'].abs().mean())\n",
    "print(np.mean(errors_K))\n",
    "print(np.mean(errors_G))"
   ]
  },
  {
   "cell_type": "code",
   "execution_count": 51,
   "metadata": {},
   "outputs": [
    {
     "data": {
      "text/plain": [
       "'Pt1 Rh3'"
      ]
     },
     "execution_count": 51,
     "metadata": {},
     "output_type": "execute_result"
    }
   ],
   "source": [
    "data.df_structure.loc['id6951']['structure'].formula"
   ]
  },
  {
   "cell_type": "code",
   "execution_count": null,
   "metadata": {},
   "outputs": [],
   "source": [
    "for i,c in zip(range(5),['b','k','r','g','y']):\n",
    "    plt.plot(results[\"models\"][i].history.history[\"loss\"][50:],c=c)"
   ]
  },
  {
   "cell_type": "code",
   "execution_count": null,
   "metadata": {},
   "outputs": [],
   "source": []
  }
 ],
 "metadata": {
  "kernelspec": {
   "display_name": "Python [conda env:modnet]",
   "language": "python",
   "name": "conda-env-modnet-py"
  },
  "language_info": {
   "codemirror_mode": {
    "name": "ipython",
    "version": 3
   },
   "file_extension": ".py",
   "mimetype": "text/x-python",
   "name": "python",
   "nbconvert_exporter": "python",
   "pygments_lexer": "ipython3",
   "version": "3.8.5"
  }
 },
 "nbformat": 4,
 "nbformat_minor": 4
}
