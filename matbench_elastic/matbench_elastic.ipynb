{
 "cells": [
  {
   "cell_type": "markdown",
   "metadata": {},
   "source": [
    "# MODNet 'matbench_log_gvrh' and 'matbench_log_kvrh' benchmarking"
   ]
  },
  {
   "cell_type": "markdown",
   "metadata": {},
   "source": [
    "Multi-target benchmarking of the ~11,000 entry elastic properties datasets provided by matminer."
   ]
  },
  {
   "cell_type": "code",
   "execution_count": null,
   "metadata": {},
   "outputs": [],
   "source": [
    "from collections import defaultdict\n",
    "import itertools\n",
    "import os\n",
    "import pandas as pd\n",
    "import matplotlib.pyplot as plt \n",
    "import numpy as np\n",
    "from matminer.datasets import load_dataset\n",
    "from pymatgen.core import Composition\n",
    "\n",
    "from IPython.display import Markdown\n",
    "from modnet.preprocessing import MODData\n",
    "from modnet.models import MODNetModel\n",
    "from modnet.featurizers import MODFeaturizer\n",
    "from modnet.featurizers.presets import DeBreuck2020Featurizer\n",
    "\n",
    "os.environ[\"CUDA_VISIBLE_DEVICES\"] = \"1\""
   ]
  },
  {
   "cell_type": "code",
   "execution_count": null,
   "metadata": {},
   "outputs": [],
   "source": [
    "Markdown(filename=\"./README.md\")"
   ]
  },
  {
   "cell_type": "markdown",
   "metadata": {},
   "source": [
    "## Data exploration"
   ]
  },
  {
   "cell_type": "code",
   "execution_count": null,
   "metadata": {},
   "outputs": [],
   "source": [
    "df_gvrh = load_dataset(\"matbench_log_gvrh\")\n",
    "df_kvrh = load_dataset(\"matbench_log_kvrh\")"
   ]
  },
  {
   "cell_type": "code",
   "execution_count": null,
   "metadata": {},
   "outputs": [],
   "source": [
    "df_combined = pd.DataFrame(df_gvrh)\n",
    "df_combined[\"log10(K_VRH)\"] = df_kvrh[\"log10(K_VRH)\"]"
   ]
  },
  {
   "cell_type": "code",
   "execution_count": null,
   "metadata": {},
   "outputs": [],
   "source": [
    "df_temp = df_combined[['structure']]\n",
    "df_temp['structure_dict'] = df_temp['structure'].apply(lambda x: x.as_dict())\n",
    "df_temp = df_temp.drop('structure',axis=1)\n",
    "df_temp.to_csv('df_GK_struc.csv')"
   ]
  },
  {
   "cell_type": "markdown",
   "metadata": {
    "heading_collapsed": true
   },
   "source": [
    "### Target space"
   ]
  },
  {
   "cell_type": "code",
   "execution_count": null,
   "metadata": {
    "hidden": true
   },
   "outputs": [],
   "source": [
    "df_combined.describe()"
   ]
  },
  {
   "cell_type": "code",
   "execution_count": null,
   "metadata": {
    "hidden": true
   },
   "outputs": [],
   "source": [
    "fig, ax = plt.subplots(facecolor=\"w\")\n",
    "ax.hist(df_combined[\"log10(G_VRH)\"], bins=100, density=True);\n",
    "ax.set_ylabel(\"Frequency\")\n",
    "ax.set_xlabel(\"log10(G_VRH)\")\n",
    "fig, ax = plt.subplots(facecolor=\"w\")\n",
    "ax.hist(df_combined[\"log10(K_VRH)\"], bins=100, density=True);\n",
    "ax.set_ylabel(\"Frequency\")\n",
    "ax.set_xlabel(\"log10(K_VRH)\")\n",
    "fig, ax = plt.subplots(facecolor=\"w\")\n",
    "ax.scatter(df_combined[\"log10(G_VRH)\"], df_combined[\"log10(K_VRH)\"], alpha=0.1)\n",
    "ax.set_xlabel(\"log10(G_VRH)\")\n",
    "ax.set_ylabel(\"log10(K_VRH)\")"
   ]
  },
  {
   "cell_type": "markdown",
   "metadata": {},
   "source": [
    "## Featurization and feature selection"
   ]
  },
  {
   "cell_type": "code",
   "execution_count": null,
   "metadata": {
    "scrolled": true
   },
   "outputs": [],
   "source": [
    "PRECOMPUTED_MODDATA = \"./precomputed/elastic_benchmark_moddata_MPCNMI.pkl.gz\"\n",
    "\n",
    "if os.path.isfile(PRECOMPUTED_MODDATA):\n",
    "    data = MODData.load(PRECOMPUTED_MODDATA)\n",
    "else:\n",
    "    data = MODData(\n",
    "        structures=df_combined[\"structure\"].tolist(), \n",
    "        targets=df_combined[[\"log10(G_VRH)\", \"log10(K_VRH)\"]],\n",
    "        target_names=[\"log10(G_VRH)\", \"log10(K_VRH)\"],\n",
    "        featurizer=DeBreuck2020Featurizer(n_jobs=8)\n",
    "    )\n",
    "    data.featurize()\n",
    "    # As this is a small data/feature set, order all features \n",
    "    data.feature_selection(n=-1)"
   ]
  },
  {
   "cell_type": "code",
   "execution_count": null,
   "metadata": {},
   "outputs": [],
   "source": [
    "#data.num_classes = {\"log10(G_VRH)\":0, \"log10(K_VRH)\":0}\n",
    "#data.feature_selection(n=-1)\n",
    "#data.save(\"./precomputed/elastic_benchmark_moddata_MPCNMI.pkl.gz\")"
   ]
  },
  {
   "cell_type": "code",
   "execution_count": null,
   "metadata": {},
   "outputs": [],
   "source": [
    "#data.save(\"./precomputed/elastic_benchmark_moddata_MPCNMI.pkl.gz\")"
   ]
  },
  {
   "cell_type": "code",
   "execution_count": null,
   "metadata": {},
   "outputs": [],
   "source": [
    "data.df_targets"
   ]
  },
  {
   "cell_type": "markdown",
   "metadata": {},
   "source": [
    "## Training"
   ]
  },
  {
   "cell_type": "markdown",
   "metadata": {},
   "source": [
    "This is a very small dataset, so we must make judicious use of what data there is. First, let's generate test folds according to [matbench's suggestions](https://hackingmaterials.lbl.gov/automatminer/datasets.html#benchmarking-and-reporting-your-algorithm):"
   ]
  },
  {
   "cell_type": "code",
   "execution_count": null,
   "metadata": {},
   "outputs": [],
   "source": [
    "#data.df_targets.columns=['G','K']\n",
    "try:\n",
    "    plot_benchmark\n",
    "except:\n",
    "    import sys\n",
    "    sys.path.append('..')\n",
    "    from modnet_matbench.utils import *\n",
    "    \n",
    "from sklearn.model_selection import KFold\n",
    "from modnet.models import MODNetModel\n",
    "from tensorflow.keras.callbacks import ReduceLROnPlateau, EarlyStopping\n",
    "\n",
    "best_settings = {\n",
    "    \"increase_bs\":False,\n",
    "    \"num_neurons\": [[256], [64], [64], [32]],\n",
    "    \"n_feat\": 350,\n",
    "    \"lr\": 0.01,\n",
    "    \"epochs\": 200,\n",
    "    \"verbose\": 0,\n",
    "    \"act\": \"elu\",\n",
    "    \"batch_size\": 64,\n",
    "    \"loss\": \"mae\",\n",
    "    \n",
    "}\n",
    "\n",
    "results = matbench_benchmark(data, [[[\"log10(G_VRH)\"],[\"log10(K_VRH)\"]]],\n",
    "                             {\"log10(G_VRH)\": 1, \"log10(K_VRH)\":1}, best_settings,multi=True,save_folds=True)\n",
    "np.mean(np.array(results[\"scores\"])[[0,1,2,4]],axis=0)"
   ]
  },
  {
   "cell_type": "code",
   "execution_count": null,
   "metadata": {},
   "outputs": [],
   "source": [
    "errors_K = []\n",
    "errors_G = []\n",
    "for f in range(5):\n",
    "    df = pd.read_csv('folds/test_f{}.csv'.format(f+1),index_col=0)\n",
    "    if f==3:\n",
    "        print(df['K_error'].abs().nlargest(n=5))\n",
    "        df = df.drop('id6951')\n",
    "    print(df['K_error'].abs().describe())\n",
    "    errors_K.append(df['K_error'].abs().mean())\n",
    "    errors_G.append(df['G_error'].abs().mean())\n",
    "print(np.mean(errors_K))\n",
    "print(np.mean(errors_G))"
   ]
  },
  {
   "cell_type": "code",
   "execution_count": null,
   "metadata": {},
   "outputs": [],
   "source": [
    "data.df_structure.loc['id6951']['structure'].formula"
   ]
  },
  {
   "cell_type": "code",
   "execution_count": null,
   "metadata": {},
   "outputs": [],
   "source": [
    "for i,c in zip(range(5),['b','k','r','g','y']):\n",
    "    plt.plot(results[\"models\"][i].history.history[\"loss\"][50:],c=c)"
   ]
  },
  {
   "cell_type": "code",
   "execution_count": null,
   "metadata": {},
   "outputs": [],
   "source": []
  }
 ],
 "metadata": {
  "kernelspec": {
   "display_name": "Python [conda env:modnet-develop]",
   "language": "python",
   "name": "conda-env-modnet-develop-py"
  },
  "language_info": {
   "codemirror_mode": {
    "name": "ipython",
    "version": 3
   },
   "file_extension": ".py",
   "mimetype": "text/x-python",
   "name": "python",
   "nbconvert_exporter": "python",
   "pygments_lexer": "ipython3",
   "version": "3.8.5"
  }
 },
 "nbformat": 4,
 "nbformat_minor": 4
}
