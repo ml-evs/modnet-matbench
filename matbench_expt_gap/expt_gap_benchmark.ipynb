{
 "cells": [
  {
   "cell_type": "markdown",
   "metadata": {},
   "source": [
    "# MODNet 'matbench_expt_gap' benchmarking"
   ]
  },
  {
   "cell_type": "markdown",
   "metadata": {},
   "source": [
    "The `matbench_expt_gap` dataset contains measured band gaps for 4604 compositions of inorganic semiconductors from Zhuo *et al.*, JPCL."
   ]
  },
  {
   "cell_type": "code",
   "execution_count": null,
   "metadata": {},
   "outputs": [],
   "source": [
    "from collections import defaultdict\n",
    "import itertools\n",
    "import os\n",
    "import pandas as pd\n",
    "import matplotlib.pyplot as plt \n",
    "import numpy as np\n",
    "from IPython.display import Markdown\n",
    "from matminer.datasets import load_dataset, get_all_dataset_info\n",
    "from pymatgen.core import Composition\n",
    "\n",
    "from modnet.preprocessing import MODData\n",
    "from modnet.featurizers import MODFeaturizer\n",
    "from modnet.featurizers.presets import DeBreuck2020Featurizer\n",
    "\n",
    "os.environ[\"CUDA_VISIBLE_DEVICES\"] = \"5\""
   ]
  },
  {
   "cell_type": "code",
   "execution_count": null,
   "metadata": {},
   "outputs": [],
   "source": [
    "Markdown(filename=\"./README.md\")"
   ]
  },
  {
   "cell_type": "markdown",
   "metadata": {},
   "source": [
    "## Data exploration"
   ]
  },
  {
   "cell_type": "code",
   "execution_count": null,
   "metadata": {},
   "outputs": [],
   "source": [
    "df = load_dataset(\"matbench_expt_gap\")\n",
    "df[\"composition\"] = df[\"composition\"].map(Composition)"
   ]
  },
  {
   "cell_type": "markdown",
   "metadata": {
    "heading_collapsed": true
   },
   "source": [
    "### Target space"
   ]
  },
  {
   "cell_type": "code",
   "execution_count": null,
   "metadata": {
    "hidden": true
   },
   "outputs": [],
   "source": [
    "df.describe()"
   ]
  },
  {
   "cell_type": "code",
   "execution_count": null,
   "metadata": {
    "hidden": true
   },
   "outputs": [],
   "source": [
    "fig, ax = plt.subplots(facecolor=\"w\")\n",
    "ax.hist(df.where(df[\"gap expt\"] == 0)[\"gap expt\"], bins=1, density=False, label=\"Zero band gap\")\n",
    "ax.hist(df.where(df[\"gap expt\"] > 0)[\"gap expt\"], bins=11, density=False, label=\"Non-zero band gap\")\n",
    "ax.set_ylabel(\"Frequency\")\n",
    "ax.set_xlabel(\"Band gap (eV)\")\n",
    "ax.legend()"
   ]
  },
  {
   "cell_type": "markdown",
   "metadata": {},
   "source": [
    "## Featurization and feature selection"
   ]
  },
  {
   "cell_type": "markdown",
   "metadata": {},
   "source": [
    "First, we define some convenience classes that pass wraps composition data in a fake structure containe, and we define a composition only featurizer preset based on `DeBreuck2020Featurizer`."
   ]
  },
  {
   "cell_type": "code",
   "execution_count": null,
   "metadata": {},
   "outputs": [],
   "source": [
    "class CompositionOnlyFeaturizer(MODFeaturizer):\n",
    "    composition_featurizers = DeBreuck2020Featurizer.composition_featurizers\n",
    "    \n",
    "    def featurize_composition(self, df):\n",
    "        \"\"\" Applies the preset composition featurizers to the input dataframe,\n",
    "        renames some fields and cleans the output dataframe.\n",
    "\n",
    "        \"\"\"\n",
    "        from pymatgen.core.periodic_table import Element \n",
    "        import numpy as np\n",
    "        from modnet.featurizers import clean_df\n",
    "        df = super().featurize_composition(df)\n",
    "        _orbitals = {\"s\": 1, \"p\": 2, \"d\": 3, \"f\": 4}\n",
    "        df['AtomicOrbitals|HOMO_character'] = df['AtomicOrbitals|HOMO_character'].map(_orbitals)\n",
    "        df['AtomicOrbitals|LUMO_character'] = df['AtomicOrbitals|LUMO_character'].map(_orbitals)\n",
    "\n",
    "        df['AtomicOrbitals|HOMO_element'] = df['AtomicOrbitals|HOMO_element'].apply(\n",
    "            lambda x: -1 if not isinstance(x, str) else Element(x).Z\n",
    "        )\n",
    "        df['AtomicOrbitals|LUMO_element'] = df['AtomicOrbitals|LUMO_element'].apply(\n",
    "            lambda x: -1 if not isinstance(x, str) else Element(x).Z\n",
    "        )\n",
    "\n",
    "        df = df.replace([np.inf, -np.inf, np.nan], 0)\n",
    "        \n",
    "        return clean_df(df)\n",
    "\n",
    "class CompositionContainer:\n",
    "    def __init__(self, composition):\n",
    "        self.composition = composition"
   ]
  },
  {
   "cell_type": "code",
   "execution_count": null,
   "metadata": {},
   "outputs": [],
   "source": [
    "PRECOMPUTED_MODDATA = \"./precomputed/expt_gap_benchmark_moddata.pkl.gz\"\n",
    "\n",
    "if os.path.isfile(PRECOMPUTED_MODDATA):\n",
    "    data = MODData.load(PRECOMPUTED_MODDATA)\n",
    "else:\n",
    "    # Use a fresh copy of the dataset\n",
    "    df = load_dataset(\"matbench_expt_gap\")\n",
    "    df[\"composition\"] = df[\"composition\"].map(Composition)\n",
    "    df[\"structure\"] = df[\"composition\"].map(CompositionContainer)\n",
    "    \n",
    "    data = MODData(\n",
    "        structures=df[\"structure\"].tolist(), \n",
    "        targets=df[\"E_g\"].tolist(), \n",
    "        target_names=[\"gap expt (eV)\"],\n",
    "        featurizer=CompositionOnlyFeaturizer(n_jobs=8)\n",
    "    )\n",
    "    data.featurize()\n",
    "    data.feature_selection(n=-1)"
   ]
  },
  {
   "cell_type": "code",
   "execution_count": null,
   "metadata": {},
   "outputs": [],
   "source": [
    "#data.optimal_features=None\n",
    "#data.cross_nmi = None\n",
    "#data.num_classes = {\"E_g\":0}\n",
    "#data.feature_selection(n=-1)\n",
    "#data.save(\"./precomputed/expt_gap_benchmark_moddata_MPCNMI.pkl.gz\")"
   ]
  },
  {
   "cell_type": "markdown",
   "metadata": {},
   "source": [
    "## Training"
   ]
  },
  {
   "cell_type": "code",
   "execution_count": null,
   "metadata": {},
   "outputs": [],
   "source": [
    "try:\n",
    "    plot_benchmark\n",
    "except:\n",
    "    import sys\n",
    "    sys.path.append('..')\n",
    "    from modnet_matbench.utils import *\n",
    "    \n",
    "from sklearn.model_selection import KFold\n",
    "from modnet.models import MODNetModel\n",
    "from tensorflow.keras.callbacks import ReduceLROnPlateau, EarlyStopping\n",
    "\n",
    "best_settings = {\n",
    "    \"increase_bs\":False,\n",
    "    \"num_neurons\": [[256], [128], [16], [16]],\n",
    "    \"n_feat\": 100,\n",
    "    \"lr\": 0.007,\n",
    "    \"epochs\": 400,\n",
    "    \"verbose\": 0,\n",
    "    \"act\": \"elu\",\n",
    "    \"batch_size\": 64,\n",
    "    \"loss\": \"mae\",\n",
    "}\n",
    "\n",
    "results = matbench_benchmark(data, [[[\"E_g\"]]], {\"E_g\": 1}, best_settings, save_folds=True)\n",
    "np.mean(results['scores'])"
   ]
  },
  {
   "cell_type": "code",
   "execution_count": null,
   "metadata": {},
   "outputs": [],
   "source": [
    "best_settings = {\n",
    "    \"increase_bs\":False,\n",
    "    \"num_neurons\": [[256], [128], [16], [16]],\n",
    "    \"n_feat\": 100,\n",
    "    \"lr\": 0.007,\n",
    "    \"epochs\": 400,\n",
    "    \"verbose\": 0,\n",
    "    \"act\": \"elu\",\n",
    "    \"batch_size\": 64,\n",
    "    \"loss\": \"mae\",\n",
    "} #0.31"
   ]
  },
  {
   "cell_type": "code",
   "execution_count": null,
   "metadata": {},
   "outputs": [],
   "source": [
    "for i in range(5):\n",
    "    plt.plot(results[\"models\"][i].history.history[\"loss\"][10:])"
   ]
  },
  {
   "cell_type": "code",
   "execution_count": null,
   "metadata": {},
   "outputs": [],
   "source": [
    "import seaborn as sns\n",
    "reg_df = pd.DataFrame(\n",
    "    np.array([\n",
    "        [x for targ in results[\"targets\"] for x in targ],\n",
    "        [y for pred in results[\"predictions\"] for y in pred],\n",
    "        [e for err in results[\"errors\"] for e in err]\n",
    "    ]).T,\n",
    "    columns=[\"targets\", \"predictions\", \"errors\"]\n",
    ")\n",
    "splits = []\n",
    "for i in range(5):\n",
    "    for j in range(len(results[\"targets\"][i])):\n",
    "        splits.append(i)\n",
    "reg_df[\"split\"] = splits"
   ]
  },
  {
   "cell_type": "code",
   "execution_count": null,
   "metadata": {},
   "outputs": [],
   "source": [
    "fig, ax = plt.subplots()\n",
    "#ax.set_aspect(\"equal\")\n",
    "sns.scatterplot(data=reg_df, x=\"targets\", y=\"predictions\", hue=\"split\", palette=\"Dark2\", ax=ax, alpha=0.2)\n",
    "sns.regplot(data=reg_df, x=\"targets\", y=\"predictions\", ax=ax, scatter=False)\n",
    "# plt.plot(*ax.get_xlim(), *ax.get_xlim(), c=\"k\",alpha=0.5)\n",
    "ax.set_xlim(-1)\n",
    "plt.xlabel(\"True\")\n",
    "plt.ylabel(\"Pred.\")"
   ]
  },
  {
   "cell_type": "code",
   "execution_count": null,
   "metadata": {},
   "outputs": [],
   "source": [
    "g = sns.jointplot(data=reg_df, x=\"errors\", y=\"targets\", hue=\"split\", palette=\"Dark2\", alpha=0.0, marginal_kws={\"shade\": False})\n",
    "g.plot_joint(sns.scatterplot, hue=None, c=\"black\", s=5, alpha=0.5)\n",
    "g.plot_joint(sns.kdeplot, color=\"split\", zorder=0, levels=5, alpha=0.5)"
   ]
  },
  {
   "cell_type": "code",
   "execution_count": null,
   "metadata": {},
   "outputs": [],
   "source": []
  }
 ],
 "metadata": {
  "kernelspec": {
   "display_name": "Python [conda env:modnet-develop]",
   "language": "python",
   "name": "conda-env-modnet-develop-py"
  },
  "language_info": {
   "codemirror_mode": {
    "name": "ipython",
    "version": 3
   },
   "file_extension": ".py",
   "mimetype": "text/x-python",
   "name": "python",
   "nbconvert_exporter": "python",
   "pygments_lexer": "ipython3",
   "version": "3.8.5"
  }
 },
 "nbformat": 4,
 "nbformat_minor": 4
}
