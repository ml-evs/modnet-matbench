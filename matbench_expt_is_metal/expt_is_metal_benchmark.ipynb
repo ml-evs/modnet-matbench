{
 "cells": [
  {
   "cell_type": "markdown",
   "metadata": {},
   "source": [
    "# MODNet 'matbench_expt_is_metal' benchmarking"
   ]
  },
  {
   "cell_type": "markdown",
   "metadata": {},
   "source": [
    "Matbench v0.1 test dataset for classifying metallicity from composition alone. Retrieved from Zhuo et al. supplementary information. Deduplicated according to composition, ensuring no conflicting reports were entered for any compositions (i.e., no reported compositions were both metal and nonmetal). For benchmarking w/ nested cross validation, the order of the dataset must be identical to the retrieved data; refer to the Automatminer/Matbench publication for more details.\n",
    "Columns:\n",
    "\tcomposition: Chemical formula.\n",
    "\tis_metal: Target variable. 1 if is a metal, 0 if nonmetal.\n",
    "Num Entries: 4921\n",
    "Reference: Y. Zhuo, A. Masouri Tehrani, J. Brgoch (2018) Predicting the Band Gaps of Inorganic Solids by Machine Learning J. Phys. Chem. Lett. 2018, 9, 7, 1668-1673 \n",
    " https//:doi.org/10.1021/acs.jpclett.8b00124."
   ]
  },
  {
   "cell_type": "code",
   "execution_count": null,
   "metadata": {},
   "outputs": [],
   "source": [
    "from collections import defaultdict\n",
    "import itertools\n",
    "import os\n",
    "import pandas as pd\n",
    "import matplotlib.pyplot as plt \n",
    "import numpy as np\n",
    "from IPython.display import Markdown\n",
    "from matminer.datasets import load_dataset\n",
    "from pymatgen.core import Composition\n",
    "\n",
    "from modnet.preprocessing import MODData\n",
    "#from modnet.models import MODNetModel\n",
    "from modnet.featurizers import MODFeaturizer\n",
    "from modnet.featurizers.presets import DeBreuck2020Featurizer\n",
    "\n",
    "os.environ[\"CUDA_VISIBLE_DEVICES\"] = \"\""
   ]
  },
  {
   "cell_type": "code",
   "execution_count": null,
   "metadata": {},
   "outputs": [],
   "source": [
    "import modnet\n",
    "modnet.__version__"
   ]
  },
  {
   "cell_type": "code",
   "execution_count": null,
   "metadata": {},
   "outputs": [],
   "source": [
    "Markdown(filename=\"./README.md\")"
   ]
  },
  {
   "cell_type": "markdown",
   "metadata": {},
   "source": [
    "## Data exploration"
   ]
  },
  {
   "cell_type": "code",
   "execution_count": null,
   "metadata": {},
   "outputs": [],
   "source": [
    "df = load_dataset(\"matbench_expt_is_metal\")\n",
    "df[\"composition\"] = df[\"composition\"].map(Composition)"
   ]
  },
  {
   "cell_type": "code",
   "execution_count": null,
   "metadata": {},
   "outputs": [],
   "source": [
    "df.columns"
   ]
  },
  {
   "cell_type": "code",
   "execution_count": null,
   "metadata": {},
   "outputs": [],
   "source": [
    "df.head()"
   ]
  },
  {
   "cell_type": "markdown",
   "metadata": {},
   "source": [
    "### Composition space"
   ]
  },
  {
   "cell_type": "code",
   "execution_count": null,
   "metadata": {},
   "outputs": [],
   "source": [
    "## /!\\ the interpretation is different from the steels\n",
    "values = df[\"composition\"].apply(lambda s: s.get_el_amt_dict())\n",
    "elements = defaultdict(float)\n",
    "proportions = defaultdict(list)\n",
    "for s in values:\n",
    "    tot = np.sum(list(s.values()))\n",
    "    for e in s:\n",
    "        elements[e] += 1\n",
    "        proportions[e] += [s[e]/tot]\n",
    "        \n",
    "for elem in elements:\n",
    "    elements[elem] /= len(values)\n",
    "\n",
    "mean_proportions = {elem: np.mean(proportions[elem]) for elem in proportions}\n",
    "mean_proportions = dict(sorted(mean_proportions.items(), key=lambda x: x[1], reverse=True))\n",
    "elements = dict(sorted(elements.items(), key=lambda x: x[1], reverse=True))\n",
    "\n",
    "fig, ax = plt.subplots(facecolor=\"w\",figsize=(22,7));\n",
    "#ax.set_yscale(\"log\")\n",
    "ax.bar(elements.keys(), elements.values())\n",
    "ax.set_ylabel(\" compound fraction containing element e\");"
   ]
  },
  {
   "cell_type": "code",
   "execution_count": null,
   "metadata": {},
   "outputs": [],
   "source": [
    "# distribution of element proportions across compositions\n",
    "fig, axis = plt.subplots(11, 8, facecolor=\"w\", figsize=(20, 20))\n",
    "for ax, elem in zip(axis.flatten(), mean_proportions):\n",
    "    ax.hist(\n",
    "        proportions[elem], \n",
    "        bins=np.linspace(0, 1, 50), \n",
    "        density=False, \n",
    "    )\n",
    "    ax.set_xlim(-0.1, 1.1)\n",
    "    ax.text(0.75, 0.8, elem, fontsize=24, transform=ax.transAxes, )\n",
    "    #ax[axis].set_ylim(0, 312)\n",
    "\n",
    "plt.tight_layout()"
   ]
  },
  {
   "cell_type": "markdown",
   "metadata": {
    "heading_collapsed": true
   },
   "source": [
    "### Target space"
   ]
  },
  {
   "cell_type": "code",
   "execution_count": null,
   "metadata": {
    "hidden": true
   },
   "outputs": [],
   "source": [
    "df['is_metal'] = df['is_metal'].map(int)\n",
    "df.describe()"
   ]
  },
  {
   "cell_type": "code",
   "execution_count": null,
   "metadata": {
    "hidden": true
   },
   "outputs": [],
   "source": [
    "fig, ax = plt.subplots(facecolor=\"w\")\n",
    "ax.hist(df[\"is_metal\"]);\n",
    "ax.set_ylabel(\"Frequency\")\n",
    "ax.set_xlabel(\"is metal\")"
   ]
  },
  {
   "cell_type": "markdown",
   "metadata": {},
   "source": [
    "## Featurization and feature selection"
   ]
  },
  {
   "cell_type": "markdown",
   "metadata": {},
   "source": [
    "First, we define some convenience classes that pass wraps composition data in a fake structure containe, and we define a composition only featurizer preset based on `DeBreuck2020Featurizer`."
   ]
  },
  {
   "cell_type": "code",
   "execution_count": null,
   "metadata": {},
   "outputs": [],
   "source": [
    "class CompositionOnlyFeaturizer(MODFeaturizer):\n",
    "    composition_featurizers = DeBreuck2020Featurizer.composition_featurizers\n",
    "    \n",
    "    def featurize_composition(self, df):\n",
    "        \"\"\" Applies the preset composition featurizers to the input dataframe,\n",
    "        renames some fields and cleans the output dataframe.\n",
    "\n",
    "        \"\"\"\n",
    "        from pymatgen.core.periodic_table import Element \n",
    "        import numpy as np\n",
    "        from modnet.featurizers import clean_df\n",
    "        df = super().featurize_composition(df)\n",
    "        _orbitals = {\"s\": 1, \"p\": 2, \"d\": 3, \"f\": 4}\n",
    "        df['AtomicOrbitals|HOMO_character'] = df['AtomicOrbitals|HOMO_character'].map(_orbitals)\n",
    "        df['AtomicOrbitals|LUMO_character'] = df['AtomicOrbitals|LUMO_character'].map(_orbitals)\n",
    "\n",
    "        df['AtomicOrbitals|HOMO_element'] = df['AtomicOrbitals|HOMO_element'].apply(\n",
    "            lambda x: -1 if not isinstance(x, str) else Element(x).Z\n",
    "        )\n",
    "        df['AtomicOrbitals|LUMO_element'] = df['AtomicOrbitals|LUMO_element'].apply(\n",
    "            lambda x: -1 if not isinstance(x, str) else Element(x).Z\n",
    "        )\n",
    "\n",
    "        df = df.replace([np.inf, -np.inf, np.nan], 0)\n",
    "        \n",
    "        return clean_df(df)\n",
    "\n",
    "class CompositionContainer:\n",
    "    def __init__(self, composition):\n",
    "        self.composition = composition"
   ]
  },
  {
   "cell_type": "code",
   "execution_count": null,
   "metadata": {},
   "outputs": [],
   "source": [
    "PRECOMPUTED_MODDATA = \"./precomputed/expt_is_metal_benchmark_moddata.pkl.gz\"\n",
    "\n",
    "if os.path.isfile(PRECOMPUTED_MODDATA):\n",
    "    data = MODData.load(PRECOMPUTED_MODDATA)\n",
    "else:\n",
    "    # Use a fresh copy of the dataset\n",
    "    df = load_dataset(\"matbench_expt_is_metal\")\n",
    "    df[\"composition\"] = df[\"composition\"].map(Composition)\n",
    "    df[\"structure\"] = df[\"composition\"].map(CompositionContainer)\n",
    "    \n",
    "    data = MODData(\n",
    "        structures=df[\"structure\"].tolist(), \n",
    "        targets=df[\"is_metal\"].tolist(), \n",
    "        target_names=[\"is_metal\"],\n",
    "        featurizer=CompositionOnlyFeaturizer(n_jobs=8),\n",
    "        num_classes = {'is_metal':2}\n",
    "    )\n",
    "    data.featurize()\n",
    "    # As this is a small data/feature set, order all features \n",
    "    data.feature_selection(n=-1)"
   ]
  },
  {
   "cell_type": "code",
   "execution_count": null,
   "metadata": {
    "scrolled": true
   },
   "outputs": [],
   "source": [
    "# Look at some of the top features chosen by MODNet\n",
    "for feat in data.optimal_features[:10]:\n",
    "    fig, ax = plt.subplots(facecolor=\"w\")\n",
    "    plt.scatter(data.df_featurized[feat], data.df_targets, alpha=0.5)\n",
    "    plt.xlabel(feat)\n",
    "    plt.ylabel(\"is_metal\")"
   ]
  },
  {
   "cell_type": "markdown",
   "metadata": {},
   "source": [
    "## Training"
   ]
  },
  {
   "cell_type": "markdown",
   "metadata": {},
   "source": [
    "This is a very small dataset, so we must make judicious use of what data there is. First, let's generate test folds according to [matbench's suggestions](https://hackingmaterials.lbl.gov/automatminer/datasets.html#benchmarking-and-reporting-your-algorithm):"
   ]
  },
  {
   "cell_type": "code",
   "execution_count": null,
   "metadata": {},
   "outputs": [],
   "source": [
    "try:\n",
    "    plot_benchmark\n",
    "except:\n",
    "    import sys\n",
    "    sys.path.append('..')\n",
    "    from modnet_matbench.utils import *"
   ]
  },
  {
   "cell_type": "code",
   "execution_count": null,
   "metadata": {
    "scrolled": true
   },
   "outputs": [],
   "source": [
    "from sklearn.model_selection import KFold\n",
    "#from modnet.models import MODNetModel\n",
    "from tensorflow.keras.callbacks import ReduceLROnPlateau, EarlyStopping\n",
    "\n",
    "data.df_targets['is_metal'] = data.df_targets['is_metal'].map(int)\n",
    "\n",
    "best_settings = {\n",
    "    \"increase_bs\":False,\n",
    "    \"num_neurons\": [[128], [32], [32], [16]],\n",
    "    \"n_feat\": 120,\n",
    "    \"lr\": 0.005, #0.005\n",
    "    \"epochs\": 100,\n",
    "    \"verbose\": 0,\n",
    "    \"act\": \"elu\",\n",
    "    \"batch_size\": 64,\n",
    "    \"num_classes\": {'is_metal':2},\n",
    "    \"loss\": \"categorical_crossentropy\",\n",
    "    #\"xscale\": \"standard\",\n",
    "}\n",
    "\n",
    "results = matbench_benchmark(data, [[[\"is_metal\"]]], {\"is_metal\": 1}, best_settings,classification=True, save_folds=True)\n",
    "np.mean(results['scores'])"
   ]
  },
  {
   "cell_type": "code",
   "execution_count": null,
   "metadata": {},
   "outputs": [],
   "source": [
    "for i,c in zip(range(5),['b','k','r','g','y']):\n",
    "    plt.plot(results[\"models\"][i].history.history[\"loss\"][50:],c=c)\n",
    "    #plt.plot(results[\"models\"][i].history.history[\"val_loss\"][50:],':',c=c)"
   ]
  },
  {
   "cell_type": "markdown",
   "metadata": {},
   "source": [
    "## Feature selection"
   ]
  },
  {
   "cell_type": "code",
   "execution_count": null,
   "metadata": {},
   "outputs": [],
   "source": [
    "model = results['models'][0]"
   ]
  },
  {
   "cell_type": "code",
   "execution_count": null,
   "metadata": {},
   "outputs": [],
   "source": [
    "def process(data):\n",
    "    x = data.get_featurized_df()[model.optimal_descriptors[:model.n_feat]]\n",
    "    x = model._scaler.transform(x)\n",
    "    x = np.nan_to_num(x)\n",
    "    return x"
   ]
  },
  {
   "cell_type": "code",
   "execution_count": null,
   "metadata": {},
   "outputs": [],
   "source": [
    "try:\n",
    "    matbench_kfold_splits()\n",
    "except:\n",
    "    os.chdir(\"..\")\n",
    "    from modnet_matbench.utils import matbench_kfold_splits\n"
   ]
  },
  {
   "cell_type": "code",
   "execution_count": null,
   "metadata": {},
   "outputs": [],
   "source": [
    "import shap\n",
    "shap.initjs()\n",
    "for train, test in matbench_kfold_splits(data):\n",
    "    train_moddata, test_moddata = data.split((train, test))\n",
    "    break\n",
    "\n",
    "X_train = shap.sample(process(train_moddata))\n",
    "explainer = shap.KernelExplainer(model.model.predict, X_train)"
   ]
  },
  {
   "cell_type": "code",
   "execution_count": null,
   "metadata": {
    "scrolled": true
   },
   "outputs": [],
   "source": [
    "shap_values = explainer.shap_values(X_train, nsamples=1000)"
   ]
  },
  {
   "cell_type": "code",
   "execution_count": null,
   "metadata": {},
   "outputs": [],
   "source": [
    "shap.force_plot(\n",
    "    explainer.expected_value[0], \n",
    "    shap_values[0], \n",
    "    feature_names=model.optimal_descriptors[:model.n_feat], \n",
    "    out_names=[\"is_not_metal\"],\n",
    ")"
   ]
  },
  {
   "cell_type": "code",
   "execution_count": null,
   "metadata": {},
   "outputs": [],
   "source": [
    "shap.summary_plot(shap_values[0], X_train, max_display=32, plot_type=\"dot\", feature_names=model.optimal_descriptors[:model.n_feat])"
   ]
  },
  {
   "cell_type": "code",
   "execution_count": null,
   "metadata": {},
   "outputs": [],
   "source": []
  }
 ],
 "metadata": {
  "kernelspec": {
   "display_name": "Python [conda env:.conda-modnet] *",
   "language": "python",
   "name": "conda-env-.conda-modnet-py"
  },
  "language_info": {
   "codemirror_mode": {
    "name": "ipython",
    "version": 3
   },
   "file_extension": ".py",
   "mimetype": "text/x-python",
   "name": "python",
   "nbconvert_exporter": "python",
   "pygments_lexer": "ipython3",
   "version": "3.8.0"
  }
 },
 "nbformat": 4,
 "nbformat_minor": 4
}
