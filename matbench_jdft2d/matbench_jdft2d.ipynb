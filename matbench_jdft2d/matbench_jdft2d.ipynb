{
 "cells": [
  {
   "cell_type": "markdown",
   "metadata": {},
   "source": [
    "# MODNet 'matbench_jdft2d' benchmarking"
   ]
  },
  {
   "cell_type": "markdown",
   "metadata": {},
   "source": [
    "Matbench v0.1 test dataset for predicting exfoliation energies from crystal structure (computed with the OptB88vdW and TBmBJ functionals). Adapted from the JARVIS DFT database. For benchmarking w/ nested cross validation, the order of the dataset must be identical to the retrieved data; refer to the Automatminer/Matbench publication for more details."
   ]
  },
  {
   "cell_type": "code",
   "execution_count": 1,
   "metadata": {},
   "outputs": [
    {
     "name": "stdout",
     "output_type": "stream",
     "text": [
      "\n",
      "If you use the ChemEnv tool for your research, please consider citing the following reference(s) :\n",
      "==================================================================================================\n",
      "David Waroquiers, Xavier Gonze, Gian-Marco Rignanese, Cathrin Welker-Nieuwoudt, Frank Rosowski,\n",
      "Michael Goebel, Stephan Schenk, Peter Degelmann, Rute Andre, Robert Glaum, and Geoffroy Hautier,\n",
      "\"Statistical analysis of coordination environments in oxides\",\n",
      "Chem. Mater., 2017, 29 (19), pp 8346-8360,\n",
      "DOI: 10.1021/acs.chemmater.7b02766\n",
      "\n"
     ]
    }
   ],
   "source": [
    "from collections import defaultdict\n",
    "import itertools\n",
    "import os\n",
    "import pandas as pd\n",
    "import matplotlib.pyplot as plt \n",
    "import numpy as np\n",
    "from matminer.datasets import load_dataset, get_all_dataset_info\n",
    "\n",
    "from modnet.preprocessing import MODData\n",
    "from modnet.models import MODNetModel\n",
    "from modnet.featurizers import MODFeaturizer\n",
    "from modnet.featurizers.presets import DeBreuck2020Featurizer\n",
    "\n",
    "os.environ[\"CUDA_VISIBLE_DEVICES\"] = \"0\""
   ]
  },
  {
   "cell_type": "code",
   "execution_count": null,
   "metadata": {},
   "outputs": [],
   "source": [
    "info = get_all_dataset_info(\"matbench_steels\")"
   ]
  },
  {
   "cell_type": "markdown",
   "metadata": {},
   "source": [
    "## Data exploration"
   ]
  },
  {
   "cell_type": "code",
   "execution_count": 2,
   "metadata": {},
   "outputs": [],
   "source": [
    "df = load_dataset(\"matbench_jdft2d\")"
   ]
  },
  {
   "cell_type": "code",
   "execution_count": 3,
   "metadata": {},
   "outputs": [
    {
     "data": {
      "text/plain": [
       "Index(['structure', 'exfoliation_en'], dtype='object')"
      ]
     },
     "execution_count": 3,
     "metadata": {},
     "output_type": "execute_result"
    }
   ],
   "source": [
    "df.columns"
   ]
  },
  {
   "cell_type": "markdown",
   "metadata": {},
   "source": [
    "### Target space"
   ]
  },
  {
   "cell_type": "code",
   "execution_count": 4,
   "metadata": {},
   "outputs": [
    {
     "data": {
      "text/html": [
       "<div>\n",
       "<style scoped>\n",
       "    .dataframe tbody tr th:only-of-type {\n",
       "        vertical-align: middle;\n",
       "    }\n",
       "\n",
       "    .dataframe tbody tr th {\n",
       "        vertical-align: top;\n",
       "    }\n",
       "\n",
       "    .dataframe thead th {\n",
       "        text-align: right;\n",
       "    }\n",
       "</style>\n",
       "<table border=\"1\" class=\"dataframe\">\n",
       "  <thead>\n",
       "    <tr style=\"text-align: right;\">\n",
       "      <th></th>\n",
       "      <th>exfoliation_en</th>\n",
       "    </tr>\n",
       "  </thead>\n",
       "  <tbody>\n",
       "    <tr>\n",
       "      <th>count</th>\n",
       "      <td>636.000000</td>\n",
       "    </tr>\n",
       "    <tr>\n",
       "      <th>mean</th>\n",
       "      <td>112.698309</td>\n",
       "    </tr>\n",
       "    <tr>\n",
       "      <th>std</th>\n",
       "      <td>134.276663</td>\n",
       "    </tr>\n",
       "    <tr>\n",
       "      <th>min</th>\n",
       "      <td>0.026500</td>\n",
       "    </tr>\n",
       "    <tr>\n",
       "      <th>25%</th>\n",
       "      <td>58.811481</td>\n",
       "    </tr>\n",
       "    <tr>\n",
       "      <th>50%</th>\n",
       "      <td>79.803667</td>\n",
       "    </tr>\n",
       "    <tr>\n",
       "      <th>75%</th>\n",
       "      <td>101.289264</td>\n",
       "    </tr>\n",
       "    <tr>\n",
       "      <th>max</th>\n",
       "      <td>1604.038286</td>\n",
       "    </tr>\n",
       "  </tbody>\n",
       "</table>\n",
       "</div>"
      ],
      "text/plain": [
       "       exfoliation_en\n",
       "count      636.000000\n",
       "mean       112.698309\n",
       "std        134.276663\n",
       "min          0.026500\n",
       "25%         58.811481\n",
       "50%         79.803667\n",
       "75%        101.289264\n",
       "max       1604.038286"
      ]
     },
     "execution_count": 4,
     "metadata": {},
     "output_type": "execute_result"
    }
   ],
   "source": [
    "df.describe()"
   ]
  },
  {
   "cell_type": "code",
   "execution_count": 5,
   "metadata": {},
   "outputs": [
    {
     "data": {
      "text/plain": [
       "Text(0.5, 0, 'Exfoliation energy (meV)')"
      ]
     },
     "execution_count": 5,
     "metadata": {},
     "output_type": "execute_result"
    },
    {
     "data": {
      "image/png": "[encoded data removed]",
      "text/plain": [
       "<Figure size 432x288 with 1 Axes>"
      ]
     },
     "metadata": {},
     "output_type": "display_data"
    }
   ],
   "source": [
    "fig, ax = plt.subplots(facecolor=\"w\")\n",
    "ax.hist(df[\"exfoliation_en\"], bins=100, density=True);\n",
    "ax.set_ylabel(\"Frequency\")\n",
    "ax.set_xlabel(\"Exfoliation energy (meV)\")"
   ]
  },
  {
   "cell_type": "markdown",
   "metadata": {},
   "source": [
    "## Featurization and feature selection"
   ]
  },
  {
   "cell_type": "markdown",
   "metadata": {},
   "source": [
    "First, we define some convenience classes that pass wraps composition data in a fake structure containe, and we define a composition only featurizer preset based on `DeBreuck2020Featurizer`."
   ]
  },
  {
   "cell_type": "code",
   "execution_count": 13,
   "metadata": {
    "scrolled": true
   },
   "outputs": [
    {
     "name": "stderr",
     "output_type": "stream",
     "text": [
      "INFO:root:Loaded DeBreuck2020Featurizer featurizer.\n",
      "INFO:root:Computing features, this can take time...\n",
      "INFO:root:Applying composition featurizers...\n",
      "INFO:root:Applying featurizers (AtomicOrbitals(), AtomicPackingEfficiency(), BandCenter(), ElementFraction(), ElementProperty(data_source=<matminer.utils.data.MagpieData object at 0x7fa8035d5910>,\n",
      "                features=['Number', 'MendeleevNumber', 'AtomicWeight',\n",
      "                          'MeltingT', 'Column', 'Row', 'CovalentRadius',\n",
      "                          'Electronegativity', 'NsValence', 'NpValence',\n",
      "                          'NdValence', 'NfValence', 'NValence', 'NsUnfilled',\n",
      "                          'NpUnfilled', 'NdUnfilled', 'NfUnfilled', 'NUnfilled',\n",
      "                          'GSvolume_pa', 'GSbandgap', 'GSmagmom',\n",
      "                          'SpaceGroupNumber'],\n",
      "                stats=['minimum', 'maximum', 'range', 'mean', 'avg_dev',\n",
      "                       'mode']), IonProperty(), Miedema(ss_types=['min'], struct_types=['inter', 'amor', 'ss']), Stoichiometry(), TMetalFraction(), ValenceOrbital(), YangSolidSolution()) to column 'composition'.\n"
     ]
    },
    {
     "data": {
      "application/vnd.jupyter.widget-view+json": {
       "model_id": "711ab6d1f2ff4732ab9f9ab7efe6af04",
       "version_major": 2,
       "version_minor": 0
      },
      "text/plain": [
       "HBox(children=(HTML(value='MultipleFeaturizer'), FloatProgress(value=0.0, max=636.0), HTML(value='')))"
      ]
     },
     "metadata": {},
     "output_type": "display_data"
    },
    {
     "name": "stderr",
     "output_type": "stream",
     "text": [
      "/home/modl/mevans/.conda/envs/modnet/lib/python3.8/site-packages/matminer/featurizers/composition.py:1357: RuntimeWarning: invalid value encountered in power\n",
      "  alp_a = (np.multiply(1.5, np.power(v_a, 2 / 3)) /\n",
      "/home/modl/mevans/.conda/envs/modnet/lib/python3.8/site-packages/matminer/featurizers/composition.py:1357: RuntimeWarning: invalid value encountered in power\n",
      "  alp_a = (np.multiply(1.5, np.power(v_a, 2 / 3)) /\n",
      "/home/modl/mevans/.conda/envs/modnet/lib/python3.8/site-packages/matminer/featurizers/composition.py:1357: RuntimeWarning: invalid value encountered in power\n",
      "  alp_a = (np.multiply(1.5, np.power(v_a, 2 / 3)) /\n",
      "/home/modl/mevans/.conda/envs/modnet/lib/python3.8/site-packages/matminer/featurizers/composition.py:1357: RuntimeWarning: invalid value encountered in power\n",
      "  alp_a = (np.multiply(1.5, np.power(v_a, 2 / 3)) /\n",
      "/home/modl/mevans/.conda/envs/modnet/lib/python3.8/site-packages/matminer/featurizers/composition.py:1357: RuntimeWarning: invalid value encountered in power\n",
      "  alp_a = (np.multiply(1.5, np.power(v_a, 2 / 3)) /\n",
      "/home/modl/mevans/.conda/envs/modnet/lib/python3.8/site-packages/matminer/featurizers/composition.py:1357: RuntimeWarning: invalid value encountered in power\n",
      "  alp_a = (np.multiply(1.5, np.power(v_a, 2 / 3)) /\n",
      "/home/modl/mevans/.conda/envs/modnet/lib/python3.8/site-packages/matminer/featurizers/composition.py:1369: RuntimeWarning: invalid value encountered in double_scalars\n",
      "  hab_elast = ((2 * compr[0] * shear_mod[1] *\n",
      "/home/modl/mevans/.conda/envs/modnet/lib/python3.8/site-packages/matminer/featurizers/composition.py:1374: RuntimeWarning: invalid value encountered in double_scalars\n",
      "  hba_elast = ((2 * compr[1] * shear_mod[0] *\n",
      "/home/modl/mevans/.conda/envs/modnet/lib/python3.8/site-packages/matminer/featurizers/composition.py:1357: RuntimeWarning: invalid value encountered in power\n",
      "  alp_a = (np.multiply(1.5, np.power(v_a, 2 / 3)) /\n",
      "/home/modl/mevans/.conda/envs/modnet/lib/python3.8/site-packages/matminer/featurizers/composition.py:1357: RuntimeWarning: invalid value encountered in power\n",
      "  alp_a = (np.multiply(1.5, np.power(v_a, 2 / 3)) /\n",
      "/home/modl/mevans/.conda/envs/modnet/lib/python3.8/site-packages/matminer/featurizers/composition.py:1357: RuntimeWarning: invalid value encountered in power\n",
      "  alp_a = (np.multiply(1.5, np.power(v_a, 2 / 3)) /\n",
      "/home/modl/mevans/.conda/envs/modnet/lib/python3.8/site-packages/matminer/featurizers/composition.py:1357: RuntimeWarning: invalid value encountered in power\n",
      "  alp_a = (np.multiply(1.5, np.power(v_a, 2 / 3)) /\n",
      "/home/modl/mevans/.conda/envs/modnet/lib/python3.8/site-packages/matminer/featurizers/composition.py:1357: RuntimeWarning: invalid value encountered in power\n",
      "  alp_a = (np.multiply(1.5, np.power(v_a, 2 / 3)) /\n",
      "/home/modl/mevans/.conda/envs/modnet/lib/python3.8/site-packages/matminer/featurizers/composition.py:1357: RuntimeWarning: invalid value encountered in power\n",
      "  alp_a = (np.multiply(1.5, np.power(v_a, 2 / 3)) /\n",
      "/home/modl/mevans/.conda/envs/modnet/lib/python3.8/site-packages/matminer/featurizers/composition.py:1357: RuntimeWarning: invalid value encountered in power\n",
      "  alp_a = (np.multiply(1.5, np.power(v_a, 2 / 3)) /\n",
      "/home/modl/mevans/.conda/envs/modnet/lib/python3.8/site-packages/matminer/featurizers/composition.py:1357: RuntimeWarning: invalid value encountered in power\n",
      "  alp_a = (np.multiply(1.5, np.power(v_a, 2 / 3)) /\n",
      "/home/modl/mevans/.conda/envs/modnet/lib/python3.8/site-packages/matminer/featurizers/composition.py:1357: RuntimeWarning: invalid value encountered in power\n",
      "  alp_a = (np.multiply(1.5, np.power(v_a, 2 / 3)) /\n",
      "/home/modl/mevans/.conda/envs/modnet/lib/python3.8/site-packages/matminer/featurizers/composition.py:1357: RuntimeWarning: invalid value encountered in power\n",
      "  alp_a = (np.multiply(1.5, np.power(v_a, 2 / 3)) /\n",
      "/home/modl/mevans/.conda/envs/modnet/lib/python3.8/site-packages/matminer/featurizers/composition.py:1357: RuntimeWarning: invalid value encountered in power\n",
      "  alp_a = (np.multiply(1.5, np.power(v_a, 2 / 3)) /\n",
      "/home/modl/mevans/.conda/envs/modnet/lib/python3.8/site-packages/matminer/featurizers/composition.py:1357: RuntimeWarning: invalid value encountered in power\n",
      "  alp_a = (np.multiply(1.5, np.power(v_a, 2 / 3)) /\n",
      "/home/modl/mevans/.conda/envs/modnet/lib/python3.8/site-packages/matminer/featurizers/composition.py:1357: RuntimeWarning: invalid value encountered in power\n",
      "  alp_a = (np.multiply(1.5, np.power(v_a, 2 / 3)) /\n",
      "/home/modl/mevans/.conda/envs/modnet/lib/python3.8/site-packages/matminer/featurizers/composition.py:1357: RuntimeWarning: invalid value encountered in power\n",
      "  alp_a = (np.multiply(1.5, np.power(v_a, 2 / 3)) /\n",
      "/home/modl/mevans/.conda/envs/modnet/lib/python3.8/site-packages/matminer/featurizers/composition.py:1357: RuntimeWarning: invalid value encountered in power\n",
      "  alp_a = (np.multiply(1.5, np.power(v_a, 2 / 3)) /\n",
      "/home/modl/mevans/.conda/envs/modnet/lib/python3.8/site-packages/matminer/featurizers/composition.py:1357: RuntimeWarning: invalid value encountered in power\n",
      "  alp_a = (np.multiply(1.5, np.power(v_a, 2 / 3)) /\n",
      "/home/modl/mevans/.conda/envs/modnet/lib/python3.8/site-packages/matminer/featurizers/composition.py:1357: RuntimeWarning: invalid value encountered in power\n",
      "  alp_a = (np.multiply(1.5, np.power(v_a, 2 / 3)) /\n",
      "/home/modl/mevans/.conda/envs/modnet/lib/python3.8/site-packages/matminer/featurizers/composition.py:1357: RuntimeWarning: invalid value encountered in power\n",
      "  alp_a = (np.multiply(1.5, np.power(v_a, 2 / 3)) /\n",
      "/home/modl/mevans/.conda/envs/modnet/lib/python3.8/site-packages/matminer/featurizers/composition.py:1357: RuntimeWarning: invalid value encountered in power\n",
      "  alp_a = (np.multiply(1.5, np.power(v_a, 2 / 3)) /\n"
     ]
    },
    {
     "name": "stdout",
     "output_type": "stream",
     "text": [
      "\n"
     ]
    },
    {
     "name": "stderr",
     "output_type": "stream",
     "text": [
      "/home/modl/mevans/.conda/envs/modnet/lib/python3.8/site-packages/matminer/featurizers/composition.py:1357: RuntimeWarning: invalid value encountered in power\n",
      "  alp_a = (np.multiply(1.5, np.power(v_a, 2 / 3)) /\n",
      "/home/modl/mevans/.conda/envs/modnet/lib/python3.8/site-packages/matminer/featurizers/composition.py:1357: RuntimeWarning: invalid value encountered in power\n",
      "  alp_a = (np.multiply(1.5, np.power(v_a, 2 / 3)) /\n",
      "/home/modl/mevans/.conda/envs/modnet/lib/python3.8/site-packages/matminer/featurizers/composition.py:1357: RuntimeWarning: invalid value encountered in power\n",
      "  alp_a = (np.multiply(1.5, np.power(v_a, 2 / 3)) /\n",
      "/home/modl/mevans/.conda/envs/modnet/lib/python3.8/site-packages/matminer/featurizers/composition.py:1357: RuntimeWarning: invalid value encountered in power\n",
      "  alp_a = (np.multiply(1.5, np.power(v_a, 2 / 3)) /\n",
      "/home/modl/mevans/.conda/envs/modnet/lib/python3.8/site-packages/matminer/featurizers/composition.py:1357: RuntimeWarning: invalid value encountered in power\n",
      "  alp_a = (np.multiply(1.5, np.power(v_a, 2 / 3)) /\n",
      "/home/modl/mevans/.conda/envs/modnet/lib/python3.8/site-packages/matminer/featurizers/composition.py:1357: RuntimeWarning: invalid value encountered in power\n",
      "  alp_a = (np.multiply(1.5, np.power(v_a, 2 / 3)) /\n",
      "/home/modl/mevans/.conda/envs/modnet/lib/python3.8/site-packages/matminer/featurizers/composition.py:1357: RuntimeWarning: invalid value encountered in power\n",
      "  alp_a = (np.multiply(1.5, np.power(v_a, 2 / 3)) /\n",
      "INFO:root:Applying oxidation state featurizers...\n"
     ]
    },
    {
     "data": {
      "application/vnd.jupyter.widget-view+json": {
       "model_id": "8a73bd5cd84048dcb6d0a6aae32516de",
       "version_major": 2,
       "version_minor": 0
      },
      "text/plain": [
       "HBox(children=(HTML(value='CompositionToOxidComposition'), FloatProgress(value=0.0, max=636.0), HTML(value='')…"
      ]
     },
     "metadata": {},
     "output_type": "display_data"
    },
    {
     "name": "stdout",
     "output_type": "stream",
     "text": [
      "\n"
     ]
    },
    {
     "name": "stderr",
     "output_type": "stream",
     "text": [
      "INFO:root:Applying featurizers (ElectronegativityDiff(stats=['minimum', 'maximum', 'range', 'mean', 'std_dev']), OxidationStates(stats=['minimum', 'maximum', 'range', 'std_dev'])) to column 'composition_oxid'.\n"
     ]
    },
    {
     "data": {
      "application/vnd.jupyter.widget-view+json": {
       "model_id": "cd4a1826474849e1b9d7727d4de600fe",
       "version_major": 2,
       "version_minor": 0
      },
      "text/plain": [
       "HBox(children=(HTML(value='MultipleFeaturizer'), FloatProgress(value=0.0, max=636.0), HTML(value='')))"
      ]
     },
     "metadata": {},
     "output_type": "display_data"
    },
    {
     "name": "stderr",
     "output_type": "stream",
     "text": [
      "INFO:root:Applying structure featurizers...\n",
      "/home/modl/mevans/.conda/envs/modnet/lib/python3.8/site-packages/sklearn/base.py:209: FutureWarning: From version 0.24, get_params will raise an AttributeError if a parameter cannot be retrieved as an instance attribute. Previously it would return None.\n",
      "  warnings.warn('From version 0.24, get_params will raise an '\n",
      "INFO:root:Applying featurizers (DensityFeatures(), GlobalSymmetryFeatures(), RadialDistributionFunction(), CoulombMatrix(), SineCoulombMatrix(), EwaldEnergy(), BondFractions(), StructuralHeterogeneity(), MaximumPackingEfficiency(), ChemicalOrdering(), XRDPowderPattern(pattern_length=128)) to column 'structure'.\n"
     ]
    },
    {
     "name": "stdout",
     "output_type": "stream",
     "text": [
      "\n"
     ]
    },
    {
     "data": {
      "application/vnd.jupyter.widget-view+json": {
       "model_id": "f51a663b52b446e898d0b635ea7377b0",
       "version_major": 2,
       "version_minor": 0
      },
      "text/plain": [
       "HBox(children=(HTML(value='MultipleFeaturizer'), FloatProgress(value=0.0, max=636.0), HTML(value='')))"
      ]
     },
     "metadata": {},
     "output_type": "display_data"
    },
    {
     "name": "stderr",
     "output_type": "stream",
     "text": [
      "/home/modl/mevans/.conda/envs/modnet/lib/python3.8/site-packages/pymatgen/analysis/local_env.py:4302: UserWarning: No oxidation states specified on sites! For better results, set the site oxidation states in the structure.\n",
      "  warnings.warn(\n",
      "/home/modl/mevans/.conda/envs/modnet/lib/python3.8/site-packages/pymatgen/analysis/local_env.py:4085: UserWarning: CrystalNN: cannot locate an appropriate radius, covalent or atomic radii will be used, this can lead to non-optimal results.\n",
      "  warnings.warn(\n",
      "/home/modl/mevans/.conda/envs/modnet/lib/python3.8/site-packages/pymatgen/analysis/local_env.py:4302: UserWarning: No oxidation states specified on sites! For better results, set the site oxidation states in the structure.\n",
      "  warnings.warn(\n",
      "/home/modl/mevans/.conda/envs/modnet/lib/python3.8/site-packages/pymatgen/analysis/local_env.py:4085: UserWarning: CrystalNN: cannot locate an appropriate radius, covalent or atomic radii will be used, this can lead to non-optimal results.\n",
      "  warnings.warn(\n",
      "/home/modl/mevans/.conda/envs/modnet/lib/python3.8/site-packages/pymatgen/analysis/local_env.py:4302: UserWarning: No oxidation states specified on sites! For better results, set the site oxidation states in the structure.\n",
      "  warnings.warn(\n",
      "/home/modl/mevans/.conda/envs/modnet/lib/python3.8/site-packages/pymatgen/analysis/local_env.py:4085: UserWarning: CrystalNN: cannot locate an appropriate radius, covalent or atomic radii will be used, this can lead to non-optimal results.\n",
      "  warnings.warn(\n",
      "/home/modl/mevans/.conda/envs/modnet/lib/python3.8/site-packages/pymatgen/analysis/local_env.py:4302: UserWarning: No oxidation states specified on sites! For better results, set the site oxidation states in the structure.\n",
      "  warnings.warn(\n",
      "/home/modl/mevans/.conda/envs/modnet/lib/python3.8/site-packages/pymatgen/analysis/local_env.py:4085: UserWarning: CrystalNN: cannot locate an appropriate radius, covalent or atomic radii will be used, this can lead to non-optimal results.\n",
      "  warnings.warn(\n",
      "/home/modl/mevans/.conda/envs/modnet/lib/python3.8/site-packages/pymatgen/analysis/local_env.py:4302: UserWarning: No oxidation states specified on sites! For better results, set the site oxidation states in the structure.\n",
      "  warnings.warn(\n",
      "/home/modl/mevans/.conda/envs/modnet/lib/python3.8/site-packages/pymatgen/analysis/local_env.py:4085: UserWarning: CrystalNN: cannot locate an appropriate radius, covalent or atomic radii will be used, this can lead to non-optimal results.\n",
      "  warnings.warn(\n",
      "/home/modl/mevans/.conda/envs/modnet/lib/python3.8/site-packages/pymatgen/analysis/local_env.py:4302: UserWarning: No oxidation states specified on sites! For better results, set the site oxidation states in the structure.\n",
      "  warnings.warn(\n",
      "/home/modl/mevans/.conda/envs/modnet/lib/python3.8/site-packages/pymatgen/analysis/local_env.py:4302: UserWarning: No oxidation states specified on sites! For better results, set the site oxidation states in the structure.\n",
      "  warnings.warn(\n",
      "/home/modl/mevans/.conda/envs/modnet/lib/python3.8/site-packages/pymatgen/analysis/local_env.py:4085: UserWarning: CrystalNN: cannot locate an appropriate radius, covalent or atomic radii will be used, this can lead to non-optimal results.\n",
      "  warnings.warn(\n",
      "/home/modl/mevans/.conda/envs/modnet/lib/python3.8/site-packages/pymatgen/analysis/local_env.py:4085: UserWarning: CrystalNN: cannot locate an appropriate radius, covalent or atomic radii will be used, this can lead to non-optimal results.\n",
      "  warnings.warn(\n",
      "/home/modl/mevans/.conda/envs/modnet/lib/python3.8/site-packages/pymatgen/analysis/local_env.py:4302: UserWarning: No oxidation states specified on sites! For better results, set the site oxidation states in the structure.\n",
      "  warnings.warn(\n",
      "/home/modl/mevans/.conda/envs/modnet/lib/python3.8/site-packages/pymatgen/analysis/local_env.py:4085: UserWarning: CrystalNN: cannot locate an appropriate radius, covalent or atomic radii will be used, this can lead to non-optimal results.\n",
      "  warnings.warn(\n",
      "/home/modl/mevans/.conda/envs/modnet/lib/python3.8/site-packages/pymatgen/analysis/local_env.py:805: VisibleDeprecationWarning: Creating an ndarray from ragged nested sequences (which is a list-or-tuple of lists-or-tuples-or ndarrays with different lengths or shapes) is deprecated. If you meant to do this, you must specify 'dtype=object' when creating the ndarray\n",
      "  sites = np.array(sites)[uniq_inds]\n",
      "/home/modl/mevans/.conda/envs/modnet/lib/python3.8/site-packages/pymatgen/analysis/local_env.py:805: VisibleDeprecationWarning: Creating an ndarray from ragged nested sequences (which is a list-or-tuple of lists-or-tuples-or ndarrays with different lengths or shapes) is deprecated. If you meant to do this, you must specify 'dtype=object' when creating the ndarray\n",
      "  sites = np.array(sites)[uniq_inds]\n",
      "/home/modl/mevans/.conda/envs/modnet/lib/python3.8/site-packages/pymatgen/analysis/local_env.py:805: VisibleDeprecationWarning: Creating an ndarray from ragged nested sequences (which is a list-or-tuple of lists-or-tuples-or ndarrays with different lengths or shapes) is deprecated. If you meant to do this, you must specify 'dtype=object' when creating the ndarray\n",
      "  sites = np.array(sites)[uniq_inds]\n",
      "/home/modl/mevans/.conda/envs/modnet/lib/python3.8/site-packages/pymatgen/analysis/local_env.py:805: VisibleDeprecationWarning: Creating an ndarray from ragged nested sequences (which is a list-or-tuple of lists-or-tuples-or ndarrays with different lengths or shapes) is deprecated. If you meant to do this, you must specify 'dtype=object' when creating the ndarray\n",
      "  sites = np.array(sites)[uniq_inds]\n",
      "/home/modl/mevans/.conda/envs/modnet/lib/python3.8/site-packages/pymatgen/analysis/local_env.py:805: VisibleDeprecationWarning: Creating an ndarray from ragged nested sequences (which is a list-or-tuple of lists-or-tuples-or ndarrays with different lengths or shapes) is deprecated. If you meant to do this, you must specify 'dtype=object' when creating the ndarray\n",
      "  sites = np.array(sites)[uniq_inds]\n",
      "/home/modl/mevans/.conda/envs/modnet/lib/python3.8/site-packages/pymatgen/analysis/local_env.py:805: VisibleDeprecationWarning: Creating an ndarray from ragged nested sequences (which is a list-or-tuple of lists-or-tuples-or ndarrays with different lengths or shapes) is deprecated. If you meant to do this, you must specify 'dtype=object' when creating the ndarray\n",
      "  sites = np.array(sites)[uniq_inds]\n",
      "/home/modl/mevans/.conda/envs/modnet/lib/python3.8/site-packages/pymatgen/analysis/local_env.py:805: VisibleDeprecationWarning: Creating an ndarray from ragged nested sequences (which is a list-or-tuple of lists-or-tuples-or ndarrays with different lengths or shapes) is deprecated. If you meant to do this, you must specify 'dtype=object' when creating the ndarray\n",
      "  sites = np.array(sites)[uniq_inds]\n",
      "/home/modl/mevans/.conda/envs/modnet/lib/python3.8/site-packages/pymatgen/analysis/local_env.py:805: VisibleDeprecationWarning: Creating an ndarray from ragged nested sequences (which is a list-or-tuple of lists-or-tuples-or ndarrays with different lengths or shapes) is deprecated. If you meant to do this, you must specify 'dtype=object' when creating the ndarray\n",
      "  sites = np.array(sites)[uniq_inds]\n"
     ]
    },
    {
     "name": "stdout",
     "output_type": "stream",
     "text": [
      "\n"
     ]
    },
    {
     "name": "stderr",
     "output_type": "stream",
     "text": [
      "INFO:root:Applying site featurizers...\n"
     ]
    },
    {
     "data": {
      "application/vnd.jupyter.widget-view+json": {
       "model_id": "0202c7d8ca7f4b0da71120391c28ea96",
       "version_major": 2,
       "version_minor": 0
      },
      "text/plain": [
       "HBox(children=(HTML(value='SiteStatsFingerprint'), FloatProgress(value=0.0, max=636.0), HTML(value='')))"
      ]
     },
     "metadata": {},
     "output_type": "display_data"
    },
    {
     "name": "stdout",
     "output_type": "stream",
     "text": [
      "\n"
     ]
    },
    {
     "data": {
      "application/vnd.jupyter.widget-view+json": {
       "model_id": "d4580cc4c1324e33a8f3567eae897f71",
       "version_major": 2,
       "version_minor": 0
      },
      "text/plain": [
       "HBox(children=(HTML(value='SiteStatsFingerprint'), FloatProgress(value=0.0, max=636.0), HTML(value='')))"
      ]
     },
     "metadata": {},
     "output_type": "display_data"
    },
    {
     "name": "stderr",
     "output_type": "stream",
     "text": [
      "/home/modl/mevans/.conda/envs/modnet/lib/python3.8/site-packages/matminer/featurizers/site.py:2383: RuntimeWarning: invalid value encountered in arccos\n",
      "  if np.isnan(np.arccos(dot)):\n",
      "/home/modl/mevans/.conda/envs/modnet/lib/python3.8/site-packages/matminer/featurizers/site.py:2383: RuntimeWarning: invalid value encountered in arccos\n",
      "  if np.isnan(np.arccos(dot)):\n",
      "/home/modl/mevans/.conda/envs/modnet/lib/python3.8/site-packages/matminer/featurizers/site.py:2383: RuntimeWarning: invalid value encountered in arccos\n",
      "  if np.isnan(np.arccos(dot)):\n",
      "/home/modl/mevans/.conda/envs/modnet/lib/python3.8/site-packages/matminer/featurizers/site.py:2383: RuntimeWarning: invalid value encountered in arccos\n",
      "  if np.isnan(np.arccos(dot)):\n",
      "/home/modl/mevans/.conda/envs/modnet/lib/python3.8/site-packages/matminer/featurizers/site.py:2383: RuntimeWarning: invalid value encountered in arccos\n",
      "  if np.isnan(np.arccos(dot)):\n",
      "/home/modl/mevans/.conda/envs/modnet/lib/python3.8/site-packages/matminer/featurizers/site.py:2383: RuntimeWarning: invalid value encountered in arccos\n",
      "  if np.isnan(np.arccos(dot)):\n",
      "/home/modl/mevans/.conda/envs/modnet/lib/python3.8/site-packages/matminer/featurizers/site.py:2383: RuntimeWarning: invalid value encountered in arccos\n",
      "  if np.isnan(np.arccos(dot)):\n",
      "/home/modl/mevans/.conda/envs/modnet/lib/python3.8/site-packages/matminer/featurizers/site.py:2383: RuntimeWarning: invalid value encountered in arccos\n",
      "  if np.isnan(np.arccos(dot)):\n",
      "/home/modl/mevans/.conda/envs/modnet/lib/python3.8/site-packages/matminer/featurizers/site.py:2383: RuntimeWarning: invalid value encountered in arccos\n",
      "  if np.isnan(np.arccos(dot)):\n",
      "/home/modl/mevans/.conda/envs/modnet/lib/python3.8/site-packages/matminer/featurizers/site.py:2383: RuntimeWarning: invalid value encountered in arccos\n",
      "  if np.isnan(np.arccos(dot)):\n",
      "/home/modl/mevans/.conda/envs/modnet/lib/python3.8/site-packages/matminer/featurizers/site.py:2383: RuntimeWarning: invalid value encountered in arccos\n",
      "  if np.isnan(np.arccos(dot)):\n",
      "/home/modl/mevans/.conda/envs/modnet/lib/python3.8/site-packages/matminer/featurizers/site.py:2383: RuntimeWarning: invalid value encountered in arccos\n",
      "  if np.isnan(np.arccos(dot)):\n",
      "/home/modl/mevans/.conda/envs/modnet/lib/python3.8/site-packages/matminer/featurizers/site.py:2383: RuntimeWarning: invalid value encountered in arccos\n",
      "  if np.isnan(np.arccos(dot)):\n",
      "/home/modl/mevans/.conda/envs/modnet/lib/python3.8/site-packages/matminer/featurizers/site.py:2383: RuntimeWarning: invalid value encountered in arccos\n",
      "  if np.isnan(np.arccos(dot)):\n",
      "/home/modl/mevans/.conda/envs/modnet/lib/python3.8/site-packages/matminer/featurizers/site.py:2383: RuntimeWarning: invalid value encountered in arccos\n",
      "  if np.isnan(np.arccos(dot)):\n",
      "/home/modl/mevans/.conda/envs/modnet/lib/python3.8/site-packages/matminer/featurizers/site.py:2383: RuntimeWarning: invalid value encountered in arccos\n",
      "  if np.isnan(np.arccos(dot)):\n",
      "/home/modl/mevans/.conda/envs/modnet/lib/python3.8/site-packages/matminer/featurizers/site.py:2383: RuntimeWarning: invalid value encountered in arccos\n",
      "  if np.isnan(np.arccos(dot)):\n",
      "/home/modl/mevans/.conda/envs/modnet/lib/python3.8/site-packages/matminer/featurizers/site.py:2383: RuntimeWarning: invalid value encountered in arccos\n",
      "  if np.isnan(np.arccos(dot)):\n",
      "/home/modl/mevans/.conda/envs/modnet/lib/python3.8/site-packages/matminer/featurizers/site.py:2383: RuntimeWarning: invalid value encountered in arccos\n",
      "  if np.isnan(np.arccos(dot)):\n",
      "/home/modl/mevans/.conda/envs/modnet/lib/python3.8/site-packages/matminer/featurizers/site.py:2383: RuntimeWarning: invalid value encountered in arccos\n",
      "  if np.isnan(np.arccos(dot)):\n",
      "/home/modl/mevans/.conda/envs/modnet/lib/python3.8/site-packages/matminer/featurizers/site.py:2383: RuntimeWarning: invalid value encountered in arccos\n",
      "  if np.isnan(np.arccos(dot)):\n",
      "/home/modl/mevans/.conda/envs/modnet/lib/python3.8/site-packages/matminer/featurizers/site.py:2383: RuntimeWarning: invalid value encountered in arccos\n",
      "  if np.isnan(np.arccos(dot)):\n",
      "/home/modl/mevans/.conda/envs/modnet/lib/python3.8/site-packages/matminer/featurizers/site.py:2383: RuntimeWarning: invalid value encountered in arccos\n",
      "  if np.isnan(np.arccos(dot)):\n",
      "/home/modl/mevans/.conda/envs/modnet/lib/python3.8/site-packages/matminer/featurizers/site.py:2383: RuntimeWarning: invalid value encountered in arccos\n",
      "  if np.isnan(np.arccos(dot)):\n",
      "/home/modl/mevans/.conda/envs/modnet/lib/python3.8/site-packages/matminer/featurizers/site.py:2383: RuntimeWarning: invalid value encountered in arccos\n",
      "  if np.isnan(np.arccos(dot)):\n",
      "/home/modl/mevans/.conda/envs/modnet/lib/python3.8/site-packages/matminer/featurizers/site.py:2383: RuntimeWarning: invalid value encountered in arccos\n",
      "  if np.isnan(np.arccos(dot)):\n",
      "/home/modl/mevans/.conda/envs/modnet/lib/python3.8/site-packages/matminer/featurizers/site.py:2383: RuntimeWarning: invalid value encountered in arccos\n",
      "  if np.isnan(np.arccos(dot)):\n",
      "/home/modl/mevans/.conda/envs/modnet/lib/python3.8/site-packages/matminer/featurizers/site.py:2383: RuntimeWarning: invalid value encountered in arccos\n",
      "  if np.isnan(np.arccos(dot)):\n",
      "/home/modl/mevans/.conda/envs/modnet/lib/python3.8/site-packages/matminer/featurizers/site.py:2383: RuntimeWarning: invalid value encountered in arccos\n",
      "  if np.isnan(np.arccos(dot)):\n",
      "/home/modl/mevans/.conda/envs/modnet/lib/python3.8/site-packages/matminer/featurizers/site.py:2383: RuntimeWarning: invalid value encountered in arccos\n",
      "  if np.isnan(np.arccos(dot)):\n",
      "/home/modl/mevans/.conda/envs/modnet/lib/python3.8/site-packages/matminer/featurizers/site.py:2383: RuntimeWarning: invalid value encountered in arccos\n",
      "  if np.isnan(np.arccos(dot)):\n",
      "/home/modl/mevans/.conda/envs/modnet/lib/python3.8/site-packages/matminer/featurizers/site.py:2383: RuntimeWarning: invalid value encountered in arccos\n",
      "  if np.isnan(np.arccos(dot)):\n"
     ]
    },
    {
     "name": "stdout",
     "output_type": "stream",
     "text": [
      "\n"
     ]
    },
    {
     "data": {
      "application/vnd.jupyter.widget-view+json": {
       "model_id": "c679a5c6af9b4977ac5e246021da6417",
       "version_major": 2,
       "version_minor": 0
      },
      "text/plain": [
       "HBox(children=(HTML(value='SiteStatsFingerprint'), FloatProgress(value=0.0, max=636.0), HTML(value='')))"
      ]
     },
     "metadata": {},
     "output_type": "display_data"
    },
    {
     "name": "stdout",
     "output_type": "stream",
     "text": [
      "\n"
     ]
    },
    {
     "data": {
      "application/vnd.jupyter.widget-view+json": {
       "model_id": "4d79f1332eb546bba1aff59baed1d249",
       "version_major": 2,
       "version_minor": 0
      },
      "text/plain": [
       "HBox(children=(HTML(value='SiteStatsFingerprint'), FloatProgress(value=0.0, max=636.0), HTML(value='')))"
      ]
     },
     "metadata": {},
     "output_type": "display_data"
    },
    {
     "name": "stderr",
     "output_type": "stream",
     "text": [
      "/home/modl/mevans/.conda/envs/modnet/lib/python3.8/site-packages/pymatgen/analysis/local_env.py:805: VisibleDeprecationWarning: Creating an ndarray from ragged nested sequences (which is a list-or-tuple of lists-or-tuples-or ndarrays with different lengths or shapes) is deprecated. If you meant to do this, you must specify 'dtype=object' when creating the ndarray\n",
      "  sites = np.array(sites)[uniq_inds]\n",
      "/home/modl/mevans/.conda/envs/modnet/lib/python3.8/site-packages/pymatgen/analysis/local_env.py:805: VisibleDeprecationWarning: Creating an ndarray from ragged nested sequences (which is a list-or-tuple of lists-or-tuples-or ndarrays with different lengths or shapes) is deprecated. If you meant to do this, you must specify 'dtype=object' when creating the ndarray\n",
      "  sites = np.array(sites)[uniq_inds]\n",
      "/home/modl/mevans/.conda/envs/modnet/lib/python3.8/site-packages/pymatgen/analysis/local_env.py:805: VisibleDeprecationWarning: Creating an ndarray from ragged nested sequences (which is a list-or-tuple of lists-or-tuples-or ndarrays with different lengths or shapes) is deprecated. If you meant to do this, you must specify 'dtype=object' when creating the ndarray\n",
      "  sites = np.array(sites)[uniq_inds]\n",
      "/home/modl/mevans/.conda/envs/modnet/lib/python3.8/site-packages/pymatgen/analysis/local_env.py:805: VisibleDeprecationWarning: Creating an ndarray from ragged nested sequences (which is a list-or-tuple of lists-or-tuples-or ndarrays with different lengths or shapes) is deprecated. If you meant to do this, you must specify 'dtype=object' when creating the ndarray\n",
      "  sites = np.array(sites)[uniq_inds]\n",
      "/home/modl/mevans/.conda/envs/modnet/lib/python3.8/site-packages/pymatgen/analysis/local_env.py:805: VisibleDeprecationWarning: Creating an ndarray from ragged nested sequences (which is a list-or-tuple of lists-or-tuples-or ndarrays with different lengths or shapes) is deprecated. If you meant to do this, you must specify 'dtype=object' when creating the ndarray\n",
      "  sites = np.array(sites)[uniq_inds]\n",
      "/home/modl/mevans/.conda/envs/modnet/lib/python3.8/site-packages/pymatgen/analysis/local_env.py:805: VisibleDeprecationWarning: Creating an ndarray from ragged nested sequences (which is a list-or-tuple of lists-or-tuples-or ndarrays with different lengths or shapes) is deprecated. If you meant to do this, you must specify 'dtype=object' when creating the ndarray\n",
      "  sites = np.array(sites)[uniq_inds]\n",
      "/home/modl/mevans/.conda/envs/modnet/lib/python3.8/site-packages/pymatgen/analysis/local_env.py:805: VisibleDeprecationWarning: Creating an ndarray from ragged nested sequences (which is a list-or-tuple of lists-or-tuples-or ndarrays with different lengths or shapes) is deprecated. If you meant to do this, you must specify 'dtype=object' when creating the ndarray\n",
      "  sites = np.array(sites)[uniq_inds]\n",
      "/home/modl/mevans/.conda/envs/modnet/lib/python3.8/site-packages/pymatgen/analysis/local_env.py:805: VisibleDeprecationWarning: Creating an ndarray from ragged nested sequences (which is a list-or-tuple of lists-or-tuples-or ndarrays with different lengths or shapes) is deprecated. If you meant to do this, you must specify 'dtype=object' when creating the ndarray\n",
      "  sites = np.array(sites)[uniq_inds]\n",
      "/home/modl/mevans/.conda/envs/modnet/lib/python3.8/site-packages/pymatgen/analysis/local_env.py:805: VisibleDeprecationWarning: Creating an ndarray from ragged nested sequences (which is a list-or-tuple of lists-or-tuples-or ndarrays with different lengths or shapes) is deprecated. If you meant to do this, you must specify 'dtype=object' when creating the ndarray\n",
      "  sites = np.array(sites)[uniq_inds]\n",
      "/home/modl/mevans/.conda/envs/modnet/lib/python3.8/site-packages/pymatgen/analysis/local_env.py:805: VisibleDeprecationWarning: Creating an ndarray from ragged nested sequences (which is a list-or-tuple of lists-or-tuples-or ndarrays with different lengths or shapes) is deprecated. If you meant to do this, you must specify 'dtype=object' when creating the ndarray\n",
      "  sites = np.array(sites)[uniq_inds]\n",
      "/home/modl/mevans/.conda/envs/modnet/lib/python3.8/site-packages/pymatgen/analysis/local_env.py:805: VisibleDeprecationWarning: Creating an ndarray from ragged nested sequences (which is a list-or-tuple of lists-or-tuples-or ndarrays with different lengths or shapes) is deprecated. If you meant to do this, you must specify 'dtype=object' when creating the ndarray\n",
      "  sites = np.array(sites)[uniq_inds]\n",
      "/home/modl/mevans/.conda/envs/modnet/lib/python3.8/site-packages/pymatgen/analysis/local_env.py:805: VisibleDeprecationWarning: Creating an ndarray from ragged nested sequences (which is a list-or-tuple of lists-or-tuples-or ndarrays with different lengths or shapes) is deprecated. If you meant to do this, you must specify 'dtype=object' when creating the ndarray\n",
      "  sites = np.array(sites)[uniq_inds]\n",
      "/home/modl/mevans/.conda/envs/modnet/lib/python3.8/site-packages/pymatgen/analysis/local_env.py:805: VisibleDeprecationWarning: Creating an ndarray from ragged nested sequences (which is a list-or-tuple of lists-or-tuples-or ndarrays with different lengths or shapes) is deprecated. If you meant to do this, you must specify 'dtype=object' when creating the ndarray\n",
      "  sites = np.array(sites)[uniq_inds]\n",
      "/home/modl/mevans/.conda/envs/modnet/lib/python3.8/site-packages/pymatgen/analysis/local_env.py:805: VisibleDeprecationWarning: Creating an ndarray from ragged nested sequences (which is a list-or-tuple of lists-or-tuples-or ndarrays with different lengths or shapes) is deprecated. If you meant to do this, you must specify 'dtype=object' when creating the ndarray\n",
      "  sites = np.array(sites)[uniq_inds]\n",
      "/home/modl/mevans/.conda/envs/modnet/lib/python3.8/site-packages/pymatgen/analysis/local_env.py:805: VisibleDeprecationWarning: Creating an ndarray from ragged nested sequences (which is a list-or-tuple of lists-or-tuples-or ndarrays with different lengths or shapes) is deprecated. If you meant to do this, you must specify 'dtype=object' when creating the ndarray\n",
      "  sites = np.array(sites)[uniq_inds]\n",
      "/home/modl/mevans/.conda/envs/modnet/lib/python3.8/site-packages/pymatgen/analysis/local_env.py:805: VisibleDeprecationWarning: Creating an ndarray from ragged nested sequences (which is a list-or-tuple of lists-or-tuples-or ndarrays with different lengths or shapes) is deprecated. If you meant to do this, you must specify 'dtype=object' when creating the ndarray\n",
      "  sites = np.array(sites)[uniq_inds]\n",
      "/home/modl/mevans/.conda/envs/modnet/lib/python3.8/site-packages/pymatgen/analysis/local_env.py:805: VisibleDeprecationWarning: Creating an ndarray from ragged nested sequences (which is a list-or-tuple of lists-or-tuples-or ndarrays with different lengths or shapes) is deprecated. If you meant to do this, you must specify 'dtype=object' when creating the ndarray\n",
      "  sites = np.array(sites)[uniq_inds]\n",
      "/home/modl/mevans/.conda/envs/modnet/lib/python3.8/site-packages/pymatgen/analysis/local_env.py:805: VisibleDeprecationWarning: Creating an ndarray from ragged nested sequences (which is a list-or-tuple of lists-or-tuples-or ndarrays with different lengths or shapes) is deprecated. If you meant to do this, you must specify 'dtype=object' when creating the ndarray\n",
      "  sites = np.array(sites)[uniq_inds]\n",
      "/home/modl/mevans/.conda/envs/modnet/lib/python3.8/site-packages/pymatgen/analysis/local_env.py:805: VisibleDeprecationWarning: Creating an ndarray from ragged nested sequences (which is a list-or-tuple of lists-or-tuples-or ndarrays with different lengths or shapes) is deprecated. If you meant to do this, you must specify 'dtype=object' when creating the ndarray\n",
      "  sites = np.array(sites)[uniq_inds]\n",
      "/home/modl/mevans/.conda/envs/modnet/lib/python3.8/site-packages/pymatgen/analysis/local_env.py:805: VisibleDeprecationWarning: Creating an ndarray from ragged nested sequences (which is a list-or-tuple of lists-or-tuples-or ndarrays with different lengths or shapes) is deprecated. If you meant to do this, you must specify 'dtype=object' when creating the ndarray\n",
      "  sites = np.array(sites)[uniq_inds]\n",
      "/home/modl/mevans/.conda/envs/modnet/lib/python3.8/site-packages/pymatgen/analysis/local_env.py:805: VisibleDeprecationWarning: Creating an ndarray from ragged nested sequences (which is a list-or-tuple of lists-or-tuples-or ndarrays with different lengths or shapes) is deprecated. If you meant to do this, you must specify 'dtype=object' when creating the ndarray\n",
      "  sites = np.array(sites)[uniq_inds]\n"
     ]
    },
    {
     "name": "stderr",
     "output_type": "stream",
     "text": [
      "/home/modl/mevans/.conda/envs/modnet/lib/python3.8/site-packages/pymatgen/analysis/local_env.py:805: VisibleDeprecationWarning: Creating an ndarray from ragged nested sequences (which is a list-or-tuple of lists-or-tuples-or ndarrays with different lengths or shapes) is deprecated. If you meant to do this, you must specify 'dtype=object' when creating the ndarray\n",
      "  sites = np.array(sites)[uniq_inds]\n",
      "/home/modl/mevans/.conda/envs/modnet/lib/python3.8/site-packages/pymatgen/analysis/local_env.py:805: VisibleDeprecationWarning: Creating an ndarray from ragged nested sequences (which is a list-or-tuple of lists-or-tuples-or ndarrays with different lengths or shapes) is deprecated. If you meant to do this, you must specify 'dtype=object' when creating the ndarray\n",
      "  sites = np.array(sites)[uniq_inds]\n",
      "/home/modl/mevans/.conda/envs/modnet/lib/python3.8/site-packages/pymatgen/analysis/local_env.py:805: VisibleDeprecationWarning: Creating an ndarray from ragged nested sequences (which is a list-or-tuple of lists-or-tuples-or ndarrays with different lengths or shapes) is deprecated. If you meant to do this, you must specify 'dtype=object' when creating the ndarray\n",
      "  sites = np.array(sites)[uniq_inds]\n",
      "/home/modl/mevans/.conda/envs/modnet/lib/python3.8/site-packages/pymatgen/analysis/local_env.py:805: VisibleDeprecationWarning: Creating an ndarray from ragged nested sequences (which is a list-or-tuple of lists-or-tuples-or ndarrays with different lengths or shapes) is deprecated. If you meant to do this, you must specify 'dtype=object' when creating the ndarray\n",
      "  sites = np.array(sites)[uniq_inds]\n",
      "/home/modl/mevans/.conda/envs/modnet/lib/python3.8/site-packages/pymatgen/analysis/local_env.py:805: VisibleDeprecationWarning: Creating an ndarray from ragged nested sequences (which is a list-or-tuple of lists-or-tuples-or ndarrays with different lengths or shapes) is deprecated. If you meant to do this, you must specify 'dtype=object' when creating the ndarray\n",
      "  sites = np.array(sites)[uniq_inds]\n",
      "/home/modl/mevans/.conda/envs/modnet/lib/python3.8/site-packages/pymatgen/analysis/local_env.py:805: VisibleDeprecationWarning: Creating an ndarray from ragged nested sequences (which is a list-or-tuple of lists-or-tuples-or ndarrays with different lengths or shapes) is deprecated. If you meant to do this, you must specify 'dtype=object' when creating the ndarray\n",
      "  sites = np.array(sites)[uniq_inds]\n",
      "/home/modl/mevans/.conda/envs/modnet/lib/python3.8/site-packages/pymatgen/analysis/local_env.py:805: VisibleDeprecationWarning: Creating an ndarray from ragged nested sequences (which is a list-or-tuple of lists-or-tuples-or ndarrays with different lengths or shapes) is deprecated. If you meant to do this, you must specify 'dtype=object' when creating the ndarray\n",
      "  sites = np.array(sites)[uniq_inds]\n",
      "/home/modl/mevans/.conda/envs/modnet/lib/python3.8/site-packages/pymatgen/analysis/local_env.py:805: VisibleDeprecationWarning: Creating an ndarray from ragged nested sequences (which is a list-or-tuple of lists-or-tuples-or ndarrays with different lengths or shapes) is deprecated. If you meant to do this, you must specify 'dtype=object' when creating the ndarray\n",
      "  sites = np.array(sites)[uniq_inds]\n",
      "/home/modl/mevans/.conda/envs/modnet/lib/python3.8/site-packages/pymatgen/analysis/local_env.py:805: VisibleDeprecationWarning: Creating an ndarray from ragged nested sequences (which is a list-or-tuple of lists-or-tuples-or ndarrays with different lengths or shapes) is deprecated. If you meant to do this, you must specify 'dtype=object' when creating the ndarray\n",
      "  sites = np.array(sites)[uniq_inds]\n",
      "/home/modl/mevans/.conda/envs/modnet/lib/python3.8/site-packages/pymatgen/analysis/local_env.py:805: VisibleDeprecationWarning: Creating an ndarray from ragged nested sequences (which is a list-or-tuple of lists-or-tuples-or ndarrays with different lengths or shapes) is deprecated. If you meant to do this, you must specify 'dtype=object' when creating the ndarray\n",
      "  sites = np.array(sites)[uniq_inds]\n",
      "/home/modl/mevans/.conda/envs/modnet/lib/python3.8/site-packages/pymatgen/analysis/local_env.py:805: VisibleDeprecationWarning: Creating an ndarray from ragged nested sequences (which is a list-or-tuple of lists-or-tuples-or ndarrays with different lengths or shapes) is deprecated. If you meant to do this, you must specify 'dtype=object' when creating the ndarray\n",
      "  sites = np.array(sites)[uniq_inds]\n"
     ]
    },
    {
     "name": "stdout",
     "output_type": "stream",
     "text": [
      "\n"
     ]
    },
    {
     "data": {
      "application/vnd.jupyter.widget-view+json": {
       "model_id": "ab98696056f44953a1b7ed3bc9422c2a",
       "version_major": 2,
       "version_minor": 0
      },
      "text/plain": [
       "HBox(children=(HTML(value='SiteStatsFingerprint'), FloatProgress(value=0.0, max=636.0), HTML(value='')))"
      ]
     },
     "metadata": {},
     "output_type": "display_data"
    },
    {
     "name": "stdout",
     "output_type": "stream",
     "text": [
      "\n"
     ]
    },
    {
     "data": {
      "application/vnd.jupyter.widget-view+json": {
       "model_id": "15b07b60fcb94fe09badcd65652d6c48",
       "version_major": 2,
       "version_minor": 0
      },
      "text/plain": [
       "HBox(children=(HTML(value='SiteStatsFingerprint'), FloatProgress(value=0.0, max=636.0), HTML(value='')))"
      ]
     },
     "metadata": {},
     "output_type": "display_data"
    },
    {
     "name": "stdout",
     "output_type": "stream",
     "text": [
      "\n"
     ]
    },
    {
     "data": {
      "application/vnd.jupyter.widget-view+json": {
       "model_id": "4250722ba24c42a2b50ac0cdd6e32c2b",
       "version_major": 2,
       "version_minor": 0
      },
      "text/plain": [
       "HBox(children=(HTML(value='SiteStatsFingerprint'), FloatProgress(value=0.0, max=636.0), HTML(value='')))"
      ]
     },
     "metadata": {},
     "output_type": "display_data"
    },
    {
     "name": "stderr",
     "output_type": "stream",
     "text": [
      "/home/modl/mevans/.conda/envs/modnet/lib/python3.8/site-packages/pymatgen/analysis/local_env.py:4302: UserWarning: No oxidation states specified on sites! For better results, set the site oxidation states in the structure.\n",
      "  warnings.warn(\n",
      "/home/modl/mevans/.conda/envs/modnet/lib/python3.8/site-packages/pymatgen/analysis/local_env.py:4085: UserWarning: CrystalNN: cannot locate an appropriate radius, covalent or atomic radii will be used, this can lead to non-optimal results.\n",
      "  warnings.warn(\n",
      "/home/modl/mevans/.conda/envs/modnet/lib/python3.8/site-packages/pymatgen/analysis/local_env.py:4302: UserWarning: No oxidation states specified on sites! For better results, set the site oxidation states in the structure.\n",
      "  warnings.warn(\n",
      "/home/modl/mevans/.conda/envs/modnet/lib/python3.8/site-packages/pymatgen/analysis/local_env.py:4302: UserWarning: No oxidation states specified on sites! For better results, set the site oxidation states in the structure.\n",
      "  warnings.warn(\n",
      "/home/modl/mevans/.conda/envs/modnet/lib/python3.8/site-packages/pymatgen/analysis/local_env.py:4085: UserWarning: CrystalNN: cannot locate an appropriate radius, covalent or atomic radii will be used, this can lead to non-optimal results.\n",
      "  warnings.warn(\n",
      "/home/modl/mevans/.conda/envs/modnet/lib/python3.8/site-packages/pymatgen/analysis/local_env.py:4085: UserWarning: CrystalNN: cannot locate an appropriate radius, covalent or atomic radii will be used, this can lead to non-optimal results.\n",
      "  warnings.warn(\n",
      "/home/modl/mevans/.conda/envs/modnet/lib/python3.8/site-packages/pymatgen/analysis/local_env.py:4302: UserWarning: No oxidation states specified on sites! For better results, set the site oxidation states in the structure.\n",
      "  warnings.warn(\n",
      "/home/modl/mevans/.conda/envs/modnet/lib/python3.8/site-packages/pymatgen/analysis/local_env.py:4085: UserWarning: CrystalNN: cannot locate an appropriate radius, covalent or atomic radii will be used, this can lead to non-optimal results.\n",
      "  warnings.warn(\n",
      "/home/modl/mevans/.conda/envs/modnet/lib/python3.8/site-packages/pymatgen/analysis/local_env.py:4302: UserWarning: No oxidation states specified on sites! For better results, set the site oxidation states in the structure.\n",
      "  warnings.warn(\n",
      "/home/modl/mevans/.conda/envs/modnet/lib/python3.8/site-packages/pymatgen/analysis/local_env.py:4085: UserWarning: CrystalNN: cannot locate an appropriate radius, covalent or atomic radii will be used, this can lead to non-optimal results.\n",
      "  warnings.warn(\n",
      "/home/modl/mevans/.conda/envs/modnet/lib/python3.8/site-packages/pymatgen/analysis/local_env.py:4302: UserWarning: No oxidation states specified on sites! For better results, set the site oxidation states in the structure.\n",
      "  warnings.warn(\n",
      "/home/modl/mevans/.conda/envs/modnet/lib/python3.8/site-packages/pymatgen/analysis/local_env.py:4085: UserWarning: CrystalNN: cannot locate an appropriate radius, covalent or atomic radii will be used, this can lead to non-optimal results.\n",
      "  warnings.warn(\n",
      "/home/modl/mevans/.conda/envs/modnet/lib/python3.8/site-packages/pymatgen/analysis/local_env.py:4302: UserWarning: No oxidation states specified on sites! For better results, set the site oxidation states in the structure.\n",
      "  warnings.warn(\n",
      "/home/modl/mevans/.conda/envs/modnet/lib/python3.8/site-packages/pymatgen/analysis/local_env.py:4302: UserWarning: No oxidation states specified on sites! For better results, set the site oxidation states in the structure.\n",
      "  warnings.warn(\n",
      "/home/modl/mevans/.conda/envs/modnet/lib/python3.8/site-packages/pymatgen/analysis/local_env.py:4085: UserWarning: CrystalNN: cannot locate an appropriate radius, covalent or atomic radii will be used, this can lead to non-optimal results.\n",
      "  warnings.warn(\n",
      "/home/modl/mevans/.conda/envs/modnet/lib/python3.8/site-packages/pymatgen/analysis/local_env.py:4085: UserWarning: CrystalNN: cannot locate an appropriate radius, covalent or atomic radii will be used, this can lead to non-optimal results.\n",
      "  warnings.warn(\n",
      "/home/modl/mevans/.conda/envs/modnet/lib/python3.8/site-packages/pymatgen/analysis/local_env.py:4302: UserWarning: No oxidation states specified on sites! For better results, set the site oxidation states in the structure.\n",
      "  warnings.warn(\n",
      "/home/modl/mevans/.conda/envs/modnet/lib/python3.8/site-packages/pymatgen/analysis/local_env.py:4085: UserWarning: CrystalNN: cannot locate an appropriate radius, covalent or atomic radii will be used, this can lead to non-optimal results.\n",
      "  warnings.warn(\n",
      "/home/modl/mevans/.conda/envs/modnet/lib/python3.8/site-packages/pymatgen/analysis/local_env.py:4302: UserWarning: No oxidation states specified on sites! For better results, set the site oxidation states in the structure.\n",
      "  warnings.warn(\n",
      "/home/modl/mevans/.conda/envs/modnet/lib/python3.8/site-packages/pymatgen/analysis/local_env.py:4302: UserWarning: No oxidation states specified on sites! For better results, set the site oxidation states in the structure.\n",
      "  warnings.warn(\n",
      "/home/modl/mevans/.conda/envs/modnet/lib/python3.8/site-packages/pymatgen/analysis/local_env.py:4085: UserWarning: CrystalNN: cannot locate an appropriate radius, covalent or atomic radii will be used, this can lead to non-optimal results.\n",
      "  warnings.warn(\n",
      "/home/modl/mevans/.conda/envs/modnet/lib/python3.8/site-packages/pymatgen/analysis/local_env.py:4085: UserWarning: CrystalNN: cannot locate an appropriate radius, covalent or atomic radii will be used, this can lead to non-optimal results.\n",
      "  warnings.warn(\n",
      "/home/modl/mevans/.conda/envs/modnet/lib/python3.8/site-packages/pymatgen/analysis/local_env.py:4302: UserWarning: No oxidation states specified on sites! For better results, set the site oxidation states in the structure.\n",
      "  warnings.warn(\n",
      "/home/modl/mevans/.conda/envs/modnet/lib/python3.8/site-packages/pymatgen/analysis/local_env.py:4085: UserWarning: CrystalNN: cannot locate an appropriate radius, covalent or atomic radii will be used, this can lead to non-optimal results.\n",
      "  warnings.warn(\n",
      "/home/modl/mevans/.conda/envs/modnet/lib/python3.8/site-packages/pymatgen/analysis/local_env.py:4302: UserWarning: No oxidation states specified on sites! For better results, set the site oxidation states in the structure.\n",
      "  warnings.warn(\n",
      "/home/modl/mevans/.conda/envs/modnet/lib/python3.8/site-packages/pymatgen/analysis/local_env.py:4085: UserWarning: CrystalNN: cannot locate an appropriate radius, covalent or atomic radii will be used, this can lead to non-optimal results.\n",
      "  warnings.warn(\n",
      "/home/modl/mevans/.conda/envs/modnet/lib/python3.8/site-packages/pymatgen/analysis/local_env.py:4302: UserWarning: No oxidation states specified on sites! For better results, set the site oxidation states in the structure.\n",
      "  warnings.warn(\n",
      "/home/modl/mevans/.conda/envs/modnet/lib/python3.8/site-packages/pymatgen/analysis/local_env.py:4085: UserWarning: CrystalNN: cannot locate an appropriate radius, covalent or atomic radii will be used, this can lead to non-optimal results.\n",
      "  warnings.warn(\n",
      "/home/modl/mevans/.conda/envs/modnet/lib/python3.8/site-packages/pymatgen/analysis/local_env.py:4302: UserWarning: No oxidation states specified on sites! For better results, set the site oxidation states in the structure.\n",
      "  warnings.warn(\n",
      "/home/modl/mevans/.conda/envs/modnet/lib/python3.8/site-packages/pymatgen/analysis/local_env.py:4302: UserWarning: No oxidation states specified on sites! For better results, set the site oxidation states in the structure.\n",
      "  warnings.warn(\n",
      "/home/modl/mevans/.conda/envs/modnet/lib/python3.8/site-packages/pymatgen/analysis/local_env.py:4085: UserWarning: CrystalNN: cannot locate an appropriate radius, covalent or atomic radii will be used, this can lead to non-optimal results.\n",
      "  warnings.warn(\n",
      "/home/modl/mevans/.conda/envs/modnet/lib/python3.8/site-packages/pymatgen/analysis/local_env.py:4085: UserWarning: CrystalNN: cannot locate an appropriate radius, covalent or atomic radii will be used, this can lead to non-optimal results.\n",
      "  warnings.warn(\n",
      "/home/modl/mevans/.conda/envs/modnet/lib/python3.8/site-packages/pymatgen/analysis/local_env.py:4302: UserWarning: No oxidation states specified on sites! For better results, set the site oxidation states in the structure.\n",
      "  warnings.warn(\n",
      "/home/modl/mevans/.conda/envs/modnet/lib/python3.8/site-packages/pymatgen/analysis/local_env.py:4085: UserWarning: CrystalNN: cannot locate an appropriate radius, covalent or atomic radii will be used, this can lead to non-optimal results.\n",
      "  warnings.warn(\n"
     ]
    },
    {
     "name": "stderr",
     "output_type": "stream",
     "text": [
      "/home/modl/mevans/.conda/envs/modnet/lib/python3.8/site-packages/pymatgen/analysis/local_env.py:4302: UserWarning: No oxidation states specified on sites! For better results, set the site oxidation states in the structure.\n",
      "  warnings.warn(\n",
      "/home/modl/mevans/.conda/envs/modnet/lib/python3.8/site-packages/pymatgen/analysis/local_env.py:4085: UserWarning: CrystalNN: cannot locate an appropriate radius, covalent or atomic radii will be used, this can lead to non-optimal results.\n",
      "  warnings.warn(\n",
      "/home/modl/mevans/.conda/envs/modnet/lib/python3.8/site-packages/pymatgen/analysis/local_env.py:4302: UserWarning: No oxidation states specified on sites! For better results, set the site oxidation states in the structure.\n",
      "  warnings.warn(\n",
      "/home/modl/mevans/.conda/envs/modnet/lib/python3.8/site-packages/pymatgen/analysis/local_env.py:4085: UserWarning: CrystalNN: cannot locate an appropriate radius, covalent or atomic radii will be used, this can lead to non-optimal results.\n",
      "  warnings.warn(\n",
      "/home/modl/mevans/.conda/envs/modnet/lib/python3.8/site-packages/pymatgen/analysis/local_env.py:4302: UserWarning: No oxidation states specified on sites! For better results, set the site oxidation states in the structure.\n",
      "  warnings.warn(\n",
      "/home/modl/mevans/.conda/envs/modnet/lib/python3.8/site-packages/pymatgen/analysis/local_env.py:4085: UserWarning: CrystalNN: cannot locate an appropriate radius, covalent or atomic radii will be used, this can lead to non-optimal results.\n",
      "  warnings.warn(\n",
      "/home/modl/mevans/.conda/envs/modnet/lib/python3.8/site-packages/pymatgen/analysis/local_env.py:4302: UserWarning: No oxidation states specified on sites! For better results, set the site oxidation states in the structure.\n",
      "  warnings.warn(\n",
      "/home/modl/mevans/.conda/envs/modnet/lib/python3.8/site-packages/pymatgen/analysis/local_env.py:4085: UserWarning: CrystalNN: cannot locate an appropriate radius, covalent or atomic radii will be used, this can lead to non-optimal results.\n",
      "  warnings.warn(\n",
      "/home/modl/mevans/.conda/envs/modnet/lib/python3.8/site-packages/pymatgen/analysis/local_env.py:4302: UserWarning: No oxidation states specified on sites! For better results, set the site oxidation states in the structure.\n",
      "  warnings.warn(\n",
      "/home/modl/mevans/.conda/envs/modnet/lib/python3.8/site-packages/pymatgen/analysis/local_env.py:4085: UserWarning: CrystalNN: cannot locate an appropriate radius, covalent or atomic radii will be used, this can lead to non-optimal results.\n",
      "  warnings.warn(\n",
      "/home/modl/mevans/.conda/envs/modnet/lib/python3.8/site-packages/pymatgen/analysis/local_env.py:4302: UserWarning: No oxidation states specified on sites! For better results, set the site oxidation states in the structure.\n",
      "  warnings.warn(\n",
      "/home/modl/mevans/.conda/envs/modnet/lib/python3.8/site-packages/pymatgen/analysis/local_env.py:4085: UserWarning: CrystalNN: cannot locate an appropriate radius, covalent or atomic radii will be used, this can lead to non-optimal results.\n",
      "  warnings.warn(\n",
      "/home/modl/mevans/.conda/envs/modnet/lib/python3.8/site-packages/pymatgen/analysis/local_env.py:4302: UserWarning: No oxidation states specified on sites! For better results, set the site oxidation states in the structure.\n",
      "  warnings.warn(\n",
      "/home/modl/mevans/.conda/envs/modnet/lib/python3.8/site-packages/pymatgen/analysis/local_env.py:4302: UserWarning: No oxidation states specified on sites! For better results, set the site oxidation states in the structure.\n",
      "  warnings.warn(\n",
      "/home/modl/mevans/.conda/envs/modnet/lib/python3.8/site-packages/pymatgen/analysis/local_env.py:4302: UserWarning: No oxidation states specified on sites! For better results, set the site oxidation states in the structure.\n",
      "  warnings.warn(\n",
      "/home/modl/mevans/.conda/envs/modnet/lib/python3.8/site-packages/pymatgen/analysis/local_env.py:4085: UserWarning: CrystalNN: cannot locate an appropriate radius, covalent or atomic radii will be used, this can lead to non-optimal results.\n",
      "  warnings.warn(\n",
      "/home/modl/mevans/.conda/envs/modnet/lib/python3.8/site-packages/pymatgen/analysis/local_env.py:4085: UserWarning: CrystalNN: cannot locate an appropriate radius, covalent or atomic radii will be used, this can lead to non-optimal results.\n",
      "  warnings.warn(\n",
      "/home/modl/mevans/.conda/envs/modnet/lib/python3.8/site-packages/pymatgen/analysis/local_env.py:4085: UserWarning: CrystalNN: cannot locate an appropriate radius, covalent or atomic radii will be used, this can lead to non-optimal results.\n",
      "  warnings.warn(\n",
      "/home/modl/mevans/.conda/envs/modnet/lib/python3.8/site-packages/pymatgen/analysis/local_env.py:4302: UserWarning: No oxidation states specified on sites! For better results, set the site oxidation states in the structure.\n",
      "  warnings.warn(\n",
      "/home/modl/mevans/.conda/envs/modnet/lib/python3.8/site-packages/pymatgen/analysis/local_env.py:4085: UserWarning: CrystalNN: cannot locate an appropriate radius, covalent or atomic radii will be used, this can lead to non-optimal results.\n",
      "  warnings.warn(\n",
      "/home/modl/mevans/.conda/envs/modnet/lib/python3.8/site-packages/pymatgen/analysis/local_env.py:4302: UserWarning: No oxidation states specified on sites! For better results, set the site oxidation states in the structure.\n",
      "  warnings.warn(\n",
      "/home/modl/mevans/.conda/envs/modnet/lib/python3.8/site-packages/pymatgen/analysis/local_env.py:4085: UserWarning: CrystalNN: cannot locate an appropriate radius, covalent or atomic radii will be used, this can lead to non-optimal results.\n",
      "  warnings.warn(\n",
      "/home/modl/mevans/.conda/envs/modnet/lib/python3.8/site-packages/pymatgen/analysis/local_env.py:4302: UserWarning: No oxidation states specified on sites! For better results, set the site oxidation states in the structure.\n",
      "  warnings.warn(\n",
      "/home/modl/mevans/.conda/envs/modnet/lib/python3.8/site-packages/pymatgen/analysis/local_env.py:4085: UserWarning: CrystalNN: cannot locate an appropriate radius, covalent or atomic radii will be used, this can lead to non-optimal results.\n",
      "  warnings.warn(\n",
      "/home/modl/mevans/.conda/envs/modnet/lib/python3.8/site-packages/pymatgen/analysis/local_env.py:4302: UserWarning: No oxidation states specified on sites! For better results, set the site oxidation states in the structure.\n",
      "  warnings.warn(\n",
      "/home/modl/mevans/.conda/envs/modnet/lib/python3.8/site-packages/pymatgen/analysis/local_env.py:4085: UserWarning: CrystalNN: cannot locate an appropriate radius, covalent or atomic radii will be used, this can lead to non-optimal results.\n",
      "  warnings.warn(\n",
      "/home/modl/mevans/.conda/envs/modnet/lib/python3.8/site-packages/pymatgen/analysis/local_env.py:4302: UserWarning: No oxidation states specified on sites! For better results, set the site oxidation states in the structure.\n",
      "  warnings.warn(\n",
      "/home/modl/mevans/.conda/envs/modnet/lib/python3.8/site-packages/pymatgen/analysis/local_env.py:4302: UserWarning: No oxidation states specified on sites! For better results, set the site oxidation states in the structure.\n",
      "  warnings.warn(\n",
      "/home/modl/mevans/.conda/envs/modnet/lib/python3.8/site-packages/pymatgen/analysis/local_env.py:4085: UserWarning: CrystalNN: cannot locate an appropriate radius, covalent or atomic radii will be used, this can lead to non-optimal results.\n",
      "  warnings.warn(\n",
      "/home/modl/mevans/.conda/envs/modnet/lib/python3.8/site-packages/pymatgen/analysis/local_env.py:4085: UserWarning: CrystalNN: cannot locate an appropriate radius, covalent or atomic radii will be used, this can lead to non-optimal results.\n",
      "  warnings.warn(\n"
     ]
    },
    {
     "name": "stdout",
     "output_type": "stream",
     "text": [
      "\n"
     ]
    },
    {
     "data": {
      "application/vnd.jupyter.widget-view+json": {
       "model_id": "ed34eff6643b4ef28674cdbb6ce033af",
       "version_major": 2,
       "version_minor": 0
      },
      "text/plain": [
       "HBox(children=(HTML(value='SiteStatsFingerprint'), FloatProgress(value=0.0, max=636.0), HTML(value='')))"
      ]
     },
     "metadata": {},
     "output_type": "display_data"
    },
    {
     "name": "stdout",
     "output_type": "stream",
     "text": [
      "\n"
     ]
    },
    {
     "data": {
      "application/vnd.jupyter.widget-view+json": {
       "model_id": "80b00e0fc69448869cefe5cd163d6da8",
       "version_major": 2,
       "version_minor": 0
      },
      "text/plain": [
       "HBox(children=(HTML(value='SiteStatsFingerprint'), FloatProgress(value=0.0, max=636.0), HTML(value='')))"
      ]
     },
     "metadata": {},
     "output_type": "display_data"
    },
    {
     "name": "stdout",
     "output_type": "stream",
     "text": [
      "\n"
     ]
    },
    {
     "data": {
      "application/vnd.jupyter.widget-view+json": {
       "model_id": "9464c70d36274d4783bb2ee372ed8240",
       "version_major": 2,
       "version_minor": 0
      },
      "text/plain": [
       "HBox(children=(HTML(value='SiteStatsFingerprint'), FloatProgress(value=0.0, max=636.0), HTML(value='')))"
      ]
     },
     "metadata": {},
     "output_type": "display_data"
    },
    {
     "name": "stderr",
     "output_type": "stream",
     "text": [
      "/home/modl/mevans/.conda/envs/modnet/lib/python3.8/site-packages/pymatgen/analysis/local_env.py:805: VisibleDeprecationWarning: Creating an ndarray from ragged nested sequences (which is a list-or-tuple of lists-or-tuples-or ndarrays with different lengths or shapes) is deprecated. If you meant to do this, you must specify 'dtype=object' when creating the ndarray\n",
      "  sites = np.array(sites)[uniq_inds]\n",
      "/home/modl/mevans/.conda/envs/modnet/lib/python3.8/site-packages/pymatgen/analysis/local_env.py:805: VisibleDeprecationWarning: Creating an ndarray from ragged nested sequences (which is a list-or-tuple of lists-or-tuples-or ndarrays with different lengths or shapes) is deprecated. If you meant to do this, you must specify 'dtype=object' when creating the ndarray\n",
      "  sites = np.array(sites)[uniq_inds]\n",
      "/home/modl/mevans/.conda/envs/modnet/lib/python3.8/site-packages/pymatgen/analysis/local_env.py:805: VisibleDeprecationWarning: Creating an ndarray from ragged nested sequences (which is a list-or-tuple of lists-or-tuples-or ndarrays with different lengths or shapes) is deprecated. If you meant to do this, you must specify 'dtype=object' when creating the ndarray\n",
      "  sites = np.array(sites)[uniq_inds]\n",
      "/home/modl/mevans/.conda/envs/modnet/lib/python3.8/site-packages/pymatgen/analysis/local_env.py:805: VisibleDeprecationWarning: Creating an ndarray from ragged nested sequences (which is a list-or-tuple of lists-or-tuples-or ndarrays with different lengths or shapes) is deprecated. If you meant to do this, you must specify 'dtype=object' when creating the ndarray\n",
      "  sites = np.array(sites)[uniq_inds]\n",
      "/home/modl/mevans/.conda/envs/modnet/lib/python3.8/site-packages/pymatgen/analysis/local_env.py:805: VisibleDeprecationWarning: Creating an ndarray from ragged nested sequences (which is a list-or-tuple of lists-or-tuples-or ndarrays with different lengths or shapes) is deprecated. If you meant to do this, you must specify 'dtype=object' when creating the ndarray\n",
      "  sites = np.array(sites)[uniq_inds]\n",
      "/home/modl/mevans/.conda/envs/modnet/lib/python3.8/site-packages/pymatgen/analysis/local_env.py:805: VisibleDeprecationWarning: Creating an ndarray from ragged nested sequences (which is a list-or-tuple of lists-or-tuples-or ndarrays with different lengths or shapes) is deprecated. If you meant to do this, you must specify 'dtype=object' when creating the ndarray\n",
      "  sites = np.array(sites)[uniq_inds]\n",
      "/home/modl/mevans/.conda/envs/modnet/lib/python3.8/site-packages/pymatgen/analysis/local_env.py:805: VisibleDeprecationWarning: Creating an ndarray from ragged nested sequences (which is a list-or-tuple of lists-or-tuples-or ndarrays with different lengths or shapes) is deprecated. If you meant to do this, you must specify 'dtype=object' when creating the ndarray\n",
      "  sites = np.array(sites)[uniq_inds]\n",
      "/home/modl/mevans/.conda/envs/modnet/lib/python3.8/site-packages/pymatgen/analysis/local_env.py:805: VisibleDeprecationWarning: Creating an ndarray from ragged nested sequences (which is a list-or-tuple of lists-or-tuples-or ndarrays with different lengths or shapes) is deprecated. If you meant to do this, you must specify 'dtype=object' when creating the ndarray\n",
      "  sites = np.array(sites)[uniq_inds]\n",
      "/home/modl/mevans/.conda/envs/modnet/lib/python3.8/site-packages/pymatgen/analysis/local_env.py:805: VisibleDeprecationWarning: Creating an ndarray from ragged nested sequences (which is a list-or-tuple of lists-or-tuples-or ndarrays with different lengths or shapes) is deprecated. If you meant to do this, you must specify 'dtype=object' when creating the ndarray\n",
      "  sites = np.array(sites)[uniq_inds]\n",
      "/home/modl/mevans/.conda/envs/modnet/lib/python3.8/site-packages/pymatgen/analysis/local_env.py:805: VisibleDeprecationWarning: Creating an ndarray from ragged nested sequences (which is a list-or-tuple of lists-or-tuples-or ndarrays with different lengths or shapes) is deprecated. If you meant to do this, you must specify 'dtype=object' when creating the ndarray\n",
      "  sites = np.array(sites)[uniq_inds]\n",
      "/home/modl/mevans/.conda/envs/modnet/lib/python3.8/site-packages/pymatgen/analysis/local_env.py:805: VisibleDeprecationWarning: Creating an ndarray from ragged nested sequences (which is a list-or-tuple of lists-or-tuples-or ndarrays with different lengths or shapes) is deprecated. If you meant to do this, you must specify 'dtype=object' when creating the ndarray\n",
      "  sites = np.array(sites)[uniq_inds]\n",
      "/home/modl/mevans/.conda/envs/modnet/lib/python3.8/site-packages/pymatgen/analysis/local_env.py:805: VisibleDeprecationWarning: Creating an ndarray from ragged nested sequences (which is a list-or-tuple of lists-or-tuples-or ndarrays with different lengths or shapes) is deprecated. If you meant to do this, you must specify 'dtype=object' when creating the ndarray\n",
      "  sites = np.array(sites)[uniq_inds]\n",
      "/home/modl/mevans/.conda/envs/modnet/lib/python3.8/site-packages/pymatgen/analysis/local_env.py:805: VisibleDeprecationWarning: Creating an ndarray from ragged nested sequences (which is a list-or-tuple of lists-or-tuples-or ndarrays with different lengths or shapes) is deprecated. If you meant to do this, you must specify 'dtype=object' when creating the ndarray\n",
      "  sites = np.array(sites)[uniq_inds]\n",
      "/home/modl/mevans/.conda/envs/modnet/lib/python3.8/site-packages/pymatgen/analysis/local_env.py:805: VisibleDeprecationWarning: Creating an ndarray from ragged nested sequences (which is a list-or-tuple of lists-or-tuples-or ndarrays with different lengths or shapes) is deprecated. If you meant to do this, you must specify 'dtype=object' when creating the ndarray\n",
      "  sites = np.array(sites)[uniq_inds]\n",
      "/home/modl/mevans/.conda/envs/modnet/lib/python3.8/site-packages/pymatgen/analysis/local_env.py:805: VisibleDeprecationWarning: Creating an ndarray from ragged nested sequences (which is a list-or-tuple of lists-or-tuples-or ndarrays with different lengths or shapes) is deprecated. If you meant to do this, you must specify 'dtype=object' when creating the ndarray\n",
      "  sites = np.array(sites)[uniq_inds]\n",
      "/home/modl/mevans/.conda/envs/modnet/lib/python3.8/site-packages/pymatgen/analysis/local_env.py:805: VisibleDeprecationWarning: Creating an ndarray from ragged nested sequences (which is a list-or-tuple of lists-or-tuples-or ndarrays with different lengths or shapes) is deprecated. If you meant to do this, you must specify 'dtype=object' when creating the ndarray\n",
      "  sites = np.array(sites)[uniq_inds]\n",
      "/home/modl/mevans/.conda/envs/modnet/lib/python3.8/site-packages/pymatgen/analysis/local_env.py:805: VisibleDeprecationWarning: Creating an ndarray from ragged nested sequences (which is a list-or-tuple of lists-or-tuples-or ndarrays with different lengths or shapes) is deprecated. If you meant to do this, you must specify 'dtype=object' when creating the ndarray\n",
      "  sites = np.array(sites)[uniq_inds]\n",
      "/home/modl/mevans/.conda/envs/modnet/lib/python3.8/site-packages/pymatgen/analysis/local_env.py:805: VisibleDeprecationWarning: Creating an ndarray from ragged nested sequences (which is a list-or-tuple of lists-or-tuples-or ndarrays with different lengths or shapes) is deprecated. If you meant to do this, you must specify 'dtype=object' when creating the ndarray\n",
      "  sites = np.array(sites)[uniq_inds]\n",
      "/home/modl/mevans/.conda/envs/modnet/lib/python3.8/site-packages/pymatgen/analysis/local_env.py:805: VisibleDeprecationWarning: Creating an ndarray from ragged nested sequences (which is a list-or-tuple of lists-or-tuples-or ndarrays with different lengths or shapes) is deprecated. If you meant to do this, you must specify 'dtype=object' when creating the ndarray\n",
      "  sites = np.array(sites)[uniq_inds]\n",
      "/home/modl/mevans/.conda/envs/modnet/lib/python3.8/site-packages/pymatgen/analysis/local_env.py:805: VisibleDeprecationWarning: Creating an ndarray from ragged nested sequences (which is a list-or-tuple of lists-or-tuples-or ndarrays with different lengths or shapes) is deprecated. If you meant to do this, you must specify 'dtype=object' when creating the ndarray\n",
      "  sites = np.array(sites)[uniq_inds]\n",
      "/home/modl/mevans/.conda/envs/modnet/lib/python3.8/site-packages/pymatgen/analysis/local_env.py:805: VisibleDeprecationWarning: Creating an ndarray from ragged nested sequences (which is a list-or-tuple of lists-or-tuples-or ndarrays with different lengths or shapes) is deprecated. If you meant to do this, you must specify 'dtype=object' when creating the ndarray\n",
      "  sites = np.array(sites)[uniq_inds]\n"
     ]
    },
    {
     "name": "stderr",
     "output_type": "stream",
     "text": [
      "/home/modl/mevans/.conda/envs/modnet/lib/python3.8/site-packages/pymatgen/analysis/local_env.py:805: VisibleDeprecationWarning: Creating an ndarray from ragged nested sequences (which is a list-or-tuple of lists-or-tuples-or ndarrays with different lengths or shapes) is deprecated. If you meant to do this, you must specify 'dtype=object' when creating the ndarray\n",
      "  sites = np.array(sites)[uniq_inds]\n",
      "/home/modl/mevans/.conda/envs/modnet/lib/python3.8/site-packages/pymatgen/analysis/local_env.py:805: VisibleDeprecationWarning: Creating an ndarray from ragged nested sequences (which is a list-or-tuple of lists-or-tuples-or ndarrays with different lengths or shapes) is deprecated. If you meant to do this, you must specify 'dtype=object' when creating the ndarray\n",
      "  sites = np.array(sites)[uniq_inds]\n",
      "/home/modl/mevans/.conda/envs/modnet/lib/python3.8/site-packages/pymatgen/analysis/local_env.py:805: VisibleDeprecationWarning: Creating an ndarray from ragged nested sequences (which is a list-or-tuple of lists-or-tuples-or ndarrays with different lengths or shapes) is deprecated. If you meant to do this, you must specify 'dtype=object' when creating the ndarray\n",
      "  sites = np.array(sites)[uniq_inds]\n",
      "/home/modl/mevans/.conda/envs/modnet/lib/python3.8/site-packages/pymatgen/analysis/local_env.py:805: VisibleDeprecationWarning: Creating an ndarray from ragged nested sequences (which is a list-or-tuple of lists-or-tuples-or ndarrays with different lengths or shapes) is deprecated. If you meant to do this, you must specify 'dtype=object' when creating the ndarray\n",
      "  sites = np.array(sites)[uniq_inds]\n",
      "/home/modl/mevans/.conda/envs/modnet/lib/python3.8/site-packages/pymatgen/analysis/local_env.py:805: VisibleDeprecationWarning: Creating an ndarray from ragged nested sequences (which is a list-or-tuple of lists-or-tuples-or ndarrays with different lengths or shapes) is deprecated. If you meant to do this, you must specify 'dtype=object' when creating the ndarray\n",
      "  sites = np.array(sites)[uniq_inds]\n",
      "/home/modl/mevans/.conda/envs/modnet/lib/python3.8/site-packages/pymatgen/analysis/local_env.py:805: VisibleDeprecationWarning: Creating an ndarray from ragged nested sequences (which is a list-or-tuple of lists-or-tuples-or ndarrays with different lengths or shapes) is deprecated. If you meant to do this, you must specify 'dtype=object' when creating the ndarray\n",
      "  sites = np.array(sites)[uniq_inds]\n",
      "/home/modl/mevans/.conda/envs/modnet/lib/python3.8/site-packages/pymatgen/analysis/local_env.py:805: VisibleDeprecationWarning: Creating an ndarray from ragged nested sequences (which is a list-or-tuple of lists-or-tuples-or ndarrays with different lengths or shapes) is deprecated. If you meant to do this, you must specify 'dtype=object' when creating the ndarray\n",
      "  sites = np.array(sites)[uniq_inds]\n",
      "/home/modl/mevans/.conda/envs/modnet/lib/python3.8/site-packages/pymatgen/analysis/local_env.py:805: VisibleDeprecationWarning: Creating an ndarray from ragged nested sequences (which is a list-or-tuple of lists-or-tuples-or ndarrays with different lengths or shapes) is deprecated. If you meant to do this, you must specify 'dtype=object' when creating the ndarray\n",
      "  sites = np.array(sites)[uniq_inds]\n",
      "/home/modl/mevans/.conda/envs/modnet/lib/python3.8/site-packages/pymatgen/analysis/local_env.py:805: VisibleDeprecationWarning: Creating an ndarray from ragged nested sequences (which is a list-or-tuple of lists-or-tuples-or ndarrays with different lengths or shapes) is deprecated. If you meant to do this, you must specify 'dtype=object' when creating the ndarray\n",
      "  sites = np.array(sites)[uniq_inds]\n",
      "/home/modl/mevans/.conda/envs/modnet/lib/python3.8/site-packages/pymatgen/analysis/local_env.py:805: VisibleDeprecationWarning: Creating an ndarray from ragged nested sequences (which is a list-or-tuple of lists-or-tuples-or ndarrays with different lengths or shapes) is deprecated. If you meant to do this, you must specify 'dtype=object' when creating the ndarray\n",
      "  sites = np.array(sites)[uniq_inds]\n",
      "/home/modl/mevans/.conda/envs/modnet/lib/python3.8/site-packages/pymatgen/analysis/local_env.py:805: VisibleDeprecationWarning: Creating an ndarray from ragged nested sequences (which is a list-or-tuple of lists-or-tuples-or ndarrays with different lengths or shapes) is deprecated. If you meant to do this, you must specify 'dtype=object' when creating the ndarray\n",
      "  sites = np.array(sites)[uniq_inds]\n"
     ]
    },
    {
     "name": "stdout",
     "output_type": "stream",
     "text": [
      "\n"
     ]
    },
    {
     "data": {
      "application/vnd.jupyter.widget-view+json": {
       "model_id": "9789fa5d9707468193222cb2f52def09",
       "version_major": 2,
       "version_minor": 0
      },
      "text/plain": [
       "HBox(children=(HTML(value='SiteStatsFingerprint'), FloatProgress(value=0.0, max=636.0), HTML(value='')))"
      ]
     },
     "metadata": {},
     "output_type": "display_data"
    },
    {
     "name": "stdout",
     "output_type": "stream",
     "text": [
      "\n"
     ]
    },
    {
     "data": {
      "application/vnd.jupyter.widget-view+json": {
       "model_id": "e0887197c534431d956e4d4107a18f33",
       "version_major": 2,
       "version_minor": 0
      },
      "text/plain": [
       "HBox(children=(HTML(value='SiteStatsFingerprint'), FloatProgress(value=0.0, max=636.0), HTML(value='')))"
      ]
     },
     "metadata": {},
     "output_type": "display_data"
    },
    {
     "name": "stderr",
     "output_type": "stream",
     "text": [
      "/home/modl/mevans/.conda/envs/modnet/lib/python3.8/site-packages/pymatgen/analysis/local_env.py:805: VisibleDeprecationWarning: Creating an ndarray from ragged nested sequences (which is a list-or-tuple of lists-or-tuples-or ndarrays with different lengths or shapes) is deprecated. If you meant to do this, you must specify 'dtype=object' when creating the ndarray\n",
      "  sites = np.array(sites)[uniq_inds]\n",
      "/home/modl/mevans/.conda/envs/modnet/lib/python3.8/site-packages/pymatgen/analysis/local_env.py:805: VisibleDeprecationWarning: Creating an ndarray from ragged nested sequences (which is a list-or-tuple of lists-or-tuples-or ndarrays with different lengths or shapes) is deprecated. If you meant to do this, you must specify 'dtype=object' when creating the ndarray\n",
      "  sites = np.array(sites)[uniq_inds]\n",
      "/home/modl/mevans/.conda/envs/modnet/lib/python3.8/site-packages/pymatgen/analysis/local_env.py:805: VisibleDeprecationWarning: Creating an ndarray from ragged nested sequences (which is a list-or-tuple of lists-or-tuples-or ndarrays with different lengths or shapes) is deprecated. If you meant to do this, you must specify 'dtype=object' when creating the ndarray\n",
      "  sites = np.array(sites)[uniq_inds]\n",
      "/home/modl/mevans/.conda/envs/modnet/lib/python3.8/site-packages/pymatgen/analysis/local_env.py:805: VisibleDeprecationWarning: Creating an ndarray from ragged nested sequences (which is a list-or-tuple of lists-or-tuples-or ndarrays with different lengths or shapes) is deprecated. If you meant to do this, you must specify 'dtype=object' when creating the ndarray\n",
      "  sites = np.array(sites)[uniq_inds]\n",
      "/home/modl/mevans/.conda/envs/modnet/lib/python3.8/site-packages/pymatgen/analysis/local_env.py:805: VisibleDeprecationWarning: Creating an ndarray from ragged nested sequences (which is a list-or-tuple of lists-or-tuples-or ndarrays with different lengths or shapes) is deprecated. If you meant to do this, you must specify 'dtype=object' when creating the ndarray\n",
      "  sites = np.array(sites)[uniq_inds]\n",
      "/home/modl/mevans/.conda/envs/modnet/lib/python3.8/site-packages/pymatgen/analysis/local_env.py:805: VisibleDeprecationWarning: Creating an ndarray from ragged nested sequences (which is a list-or-tuple of lists-or-tuples-or ndarrays with different lengths or shapes) is deprecated. If you meant to do this, you must specify 'dtype=object' when creating the ndarray\n",
      "  sites = np.array(sites)[uniq_inds]\n",
      "/home/modl/mevans/.conda/envs/modnet/lib/python3.8/site-packages/pymatgen/analysis/local_env.py:805: VisibleDeprecationWarning: Creating an ndarray from ragged nested sequences (which is a list-or-tuple of lists-or-tuples-or ndarrays with different lengths or shapes) is deprecated. If you meant to do this, you must specify 'dtype=object' when creating the ndarray\n",
      "  sites = np.array(sites)[uniq_inds]\n",
      "/home/modl/mevans/.conda/envs/modnet/lib/python3.8/site-packages/pymatgen/analysis/local_env.py:805: VisibleDeprecationWarning: Creating an ndarray from ragged nested sequences (which is a list-or-tuple of lists-or-tuples-or ndarrays with different lengths or shapes) is deprecated. If you meant to do this, you must specify 'dtype=object' when creating the ndarray\n",
      "  sites = np.array(sites)[uniq_inds]\n",
      "/home/modl/mevans/.conda/envs/modnet/lib/python3.8/site-packages/pymatgen/analysis/local_env.py:805: VisibleDeprecationWarning: Creating an ndarray from ragged nested sequences (which is a list-or-tuple of lists-or-tuples-or ndarrays with different lengths or shapes) is deprecated. If you meant to do this, you must specify 'dtype=object' when creating the ndarray\n",
      "  sites = np.array(sites)[uniq_inds]\n",
      "/home/modl/mevans/.conda/envs/modnet/lib/python3.8/site-packages/pymatgen/analysis/local_env.py:805: VisibleDeprecationWarning: Creating an ndarray from ragged nested sequences (which is a list-or-tuple of lists-or-tuples-or ndarrays with different lengths or shapes) is deprecated. If you meant to do this, you must specify 'dtype=object' when creating the ndarray\n",
      "  sites = np.array(sites)[uniq_inds]\n",
      "/home/modl/mevans/.conda/envs/modnet/lib/python3.8/site-packages/pymatgen/analysis/local_env.py:805: VisibleDeprecationWarning: Creating an ndarray from ragged nested sequences (which is a list-or-tuple of lists-or-tuples-or ndarrays with different lengths or shapes) is deprecated. If you meant to do this, you must specify 'dtype=object' when creating the ndarray\n",
      "  sites = np.array(sites)[uniq_inds]\n",
      "/home/modl/mevans/.conda/envs/modnet/lib/python3.8/site-packages/pymatgen/analysis/local_env.py:805: VisibleDeprecationWarning: Creating an ndarray from ragged nested sequences (which is a list-or-tuple of lists-or-tuples-or ndarrays with different lengths or shapes) is deprecated. If you meant to do this, you must specify 'dtype=object' when creating the ndarray\n",
      "  sites = np.array(sites)[uniq_inds]\n",
      "/home/modl/mevans/.conda/envs/modnet/lib/python3.8/site-packages/pymatgen/analysis/local_env.py:805: VisibleDeprecationWarning: Creating an ndarray from ragged nested sequences (which is a list-or-tuple of lists-or-tuples-or ndarrays with different lengths or shapes) is deprecated. If you meant to do this, you must specify 'dtype=object' when creating the ndarray\n",
      "  sites = np.array(sites)[uniq_inds]\n",
      "/home/modl/mevans/.conda/envs/modnet/lib/python3.8/site-packages/pymatgen/analysis/local_env.py:805: VisibleDeprecationWarning: Creating an ndarray from ragged nested sequences (which is a list-or-tuple of lists-or-tuples-or ndarrays with different lengths or shapes) is deprecated. If you meant to do this, you must specify 'dtype=object' when creating the ndarray\n",
      "  sites = np.array(sites)[uniq_inds]\n",
      "/home/modl/mevans/.conda/envs/modnet/lib/python3.8/site-packages/pymatgen/analysis/local_env.py:805: VisibleDeprecationWarning: Creating an ndarray from ragged nested sequences (which is a list-or-tuple of lists-or-tuples-or ndarrays with different lengths or shapes) is deprecated. If you meant to do this, you must specify 'dtype=object' when creating the ndarray\n",
      "  sites = np.array(sites)[uniq_inds]\n",
      "/home/modl/mevans/.conda/envs/modnet/lib/python3.8/site-packages/pymatgen/analysis/local_env.py:805: VisibleDeprecationWarning: Creating an ndarray from ragged nested sequences (which is a list-or-tuple of lists-or-tuples-or ndarrays with different lengths or shapes) is deprecated. If you meant to do this, you must specify 'dtype=object' when creating the ndarray\n",
      "  sites = np.array(sites)[uniq_inds]\n",
      "/home/modl/mevans/.conda/envs/modnet/lib/python3.8/site-packages/pymatgen/analysis/local_env.py:805: VisibleDeprecationWarning: Creating an ndarray from ragged nested sequences (which is a list-or-tuple of lists-or-tuples-or ndarrays with different lengths or shapes) is deprecated. If you meant to do this, you must specify 'dtype=object' when creating the ndarray\n",
      "  sites = np.array(sites)[uniq_inds]\n",
      "/home/modl/mevans/.conda/envs/modnet/lib/python3.8/site-packages/pymatgen/analysis/local_env.py:805: VisibleDeprecationWarning: Creating an ndarray from ragged nested sequences (which is a list-or-tuple of lists-or-tuples-or ndarrays with different lengths or shapes) is deprecated. If you meant to do this, you must specify 'dtype=object' when creating the ndarray\n",
      "  sites = np.array(sites)[uniq_inds]\n",
      "/home/modl/mevans/.conda/envs/modnet/lib/python3.8/site-packages/pymatgen/analysis/local_env.py:805: VisibleDeprecationWarning: Creating an ndarray from ragged nested sequences (which is a list-or-tuple of lists-or-tuples-or ndarrays with different lengths or shapes) is deprecated. If you meant to do this, you must specify 'dtype=object' when creating the ndarray\n",
      "  sites = np.array(sites)[uniq_inds]\n",
      "/home/modl/mevans/.conda/envs/modnet/lib/python3.8/site-packages/pymatgen/analysis/local_env.py:805: VisibleDeprecationWarning: Creating an ndarray from ragged nested sequences (which is a list-or-tuple of lists-or-tuples-or ndarrays with different lengths or shapes) is deprecated. If you meant to do this, you must specify 'dtype=object' when creating the ndarray\n",
      "  sites = np.array(sites)[uniq_inds]\n",
      "/home/modl/mevans/.conda/envs/modnet/lib/python3.8/site-packages/pymatgen/analysis/local_env.py:805: VisibleDeprecationWarning: Creating an ndarray from ragged nested sequences (which is a list-or-tuple of lists-or-tuples-or ndarrays with different lengths or shapes) is deprecated. If you meant to do this, you must specify 'dtype=object' when creating the ndarray\n",
      "  sites = np.array(sites)[uniq_inds]\n"
     ]
    },
    {
     "name": "stderr",
     "output_type": "stream",
     "text": [
      "/home/modl/mevans/.conda/envs/modnet/lib/python3.8/site-packages/pymatgen/analysis/local_env.py:805: VisibleDeprecationWarning: Creating an ndarray from ragged nested sequences (which is a list-or-tuple of lists-or-tuples-or ndarrays with different lengths or shapes) is deprecated. If you meant to do this, you must specify 'dtype=object' when creating the ndarray\n",
      "  sites = np.array(sites)[uniq_inds]\n",
      "/home/modl/mevans/.conda/envs/modnet/lib/python3.8/site-packages/pymatgen/analysis/local_env.py:805: VisibleDeprecationWarning: Creating an ndarray from ragged nested sequences (which is a list-or-tuple of lists-or-tuples-or ndarrays with different lengths or shapes) is deprecated. If you meant to do this, you must specify 'dtype=object' when creating the ndarray\n",
      "  sites = np.array(sites)[uniq_inds]\n",
      "/home/modl/mevans/.conda/envs/modnet/lib/python3.8/site-packages/pymatgen/analysis/local_env.py:805: VisibleDeprecationWarning: Creating an ndarray from ragged nested sequences (which is a list-or-tuple of lists-or-tuples-or ndarrays with different lengths or shapes) is deprecated. If you meant to do this, you must specify 'dtype=object' when creating the ndarray\n",
      "  sites = np.array(sites)[uniq_inds]\n",
      "/home/modl/mevans/.conda/envs/modnet/lib/python3.8/site-packages/pymatgen/analysis/local_env.py:805: VisibleDeprecationWarning: Creating an ndarray from ragged nested sequences (which is a list-or-tuple of lists-or-tuples-or ndarrays with different lengths or shapes) is deprecated. If you meant to do this, you must specify 'dtype=object' when creating the ndarray\n",
      "  sites = np.array(sites)[uniq_inds]\n",
      "/home/modl/mevans/.conda/envs/modnet/lib/python3.8/site-packages/pymatgen/analysis/local_env.py:805: VisibleDeprecationWarning: Creating an ndarray from ragged nested sequences (which is a list-or-tuple of lists-or-tuples-or ndarrays with different lengths or shapes) is deprecated. If you meant to do this, you must specify 'dtype=object' when creating the ndarray\n",
      "  sites = np.array(sites)[uniq_inds]\n",
      "/home/modl/mevans/.conda/envs/modnet/lib/python3.8/site-packages/pymatgen/analysis/local_env.py:805: VisibleDeprecationWarning: Creating an ndarray from ragged nested sequences (which is a list-or-tuple of lists-or-tuples-or ndarrays with different lengths or shapes) is deprecated. If you meant to do this, you must specify 'dtype=object' when creating the ndarray\n",
      "  sites = np.array(sites)[uniq_inds]\n",
      "/home/modl/mevans/.conda/envs/modnet/lib/python3.8/site-packages/pymatgen/analysis/local_env.py:805: VisibleDeprecationWarning: Creating an ndarray from ragged nested sequences (which is a list-or-tuple of lists-or-tuples-or ndarrays with different lengths or shapes) is deprecated. If you meant to do this, you must specify 'dtype=object' when creating the ndarray\n",
      "  sites = np.array(sites)[uniq_inds]\n",
      "/home/modl/mevans/.conda/envs/modnet/lib/python3.8/site-packages/pymatgen/analysis/local_env.py:805: VisibleDeprecationWarning: Creating an ndarray from ragged nested sequences (which is a list-or-tuple of lists-or-tuples-or ndarrays with different lengths or shapes) is deprecated. If you meant to do this, you must specify 'dtype=object' when creating the ndarray\n",
      "  sites = np.array(sites)[uniq_inds]\n",
      "/home/modl/mevans/.conda/envs/modnet/lib/python3.8/site-packages/pymatgen/analysis/local_env.py:805: VisibleDeprecationWarning: Creating an ndarray from ragged nested sequences (which is a list-or-tuple of lists-or-tuples-or ndarrays with different lengths or shapes) is deprecated. If you meant to do this, you must specify 'dtype=object' when creating the ndarray\n",
      "  sites = np.array(sites)[uniq_inds]\n",
      "/home/modl/mevans/.conda/envs/modnet/lib/python3.8/site-packages/pymatgen/analysis/local_env.py:805: VisibleDeprecationWarning: Creating an ndarray from ragged nested sequences (which is a list-or-tuple of lists-or-tuples-or ndarrays with different lengths or shapes) is deprecated. If you meant to do this, you must specify 'dtype=object' when creating the ndarray\n",
      "  sites = np.array(sites)[uniq_inds]\n",
      "/home/modl/mevans/.conda/envs/modnet/lib/python3.8/site-packages/pymatgen/analysis/local_env.py:805: VisibleDeprecationWarning: Creating an ndarray from ragged nested sequences (which is a list-or-tuple of lists-or-tuples-or ndarrays with different lengths or shapes) is deprecated. If you meant to do this, you must specify 'dtype=object' when creating the ndarray\n",
      "  sites = np.array(sites)[uniq_inds]\n"
     ]
    },
    {
     "name": "stdout",
     "output_type": "stream",
     "text": [
      "\n"
     ]
    },
    {
     "name": "stderr",
     "output_type": "stream",
     "text": [
      "INFO:root:Data has successfully been featurized!\n",
      "INFO:root:Data successfully saved as ./precomputed/matbench_jdft2d.pkl.gz!\n"
     ]
    }
   ],
   "source": [
    "PRECOMPUTED_MODDATA = \"./precomputed/matbench_jdft2d.pkl.gz\"\n",
    "\n",
    "if os.path.isfile(PRECOMPUTED_MODDATA):\n",
    "    data = MODData.load(PRECOMPUTED_MODDATA)\n",
    "else:\n",
    "    # Use a fresh copy of the dataset\n",
    "    df = load_dataset(\"matbench_jdft2d\")\n",
    "    \n",
    "    data = MODData(\n",
    "        structures=df[\"structure\"].tolist(), \n",
    "        targets=df[\"exfoliation_en\"].tolist(), \n",
    "        target_names=[\"Exfoliation energy (meV)\"],\n",
    "        featurizer=DeBreuck2020Featurizer(n_jobs=8)\n",
    "    )\n",
    "    data.featurize()\n",
    "    data.save(PRECOMPUTED_MODDATA)"
   ]
  },
  {
   "cell_type": "code",
   "execution_count": 18,
   "metadata": {},
   "outputs": [
    {
     "name": "stderr",
     "output_type": "stream",
     "text": [
      "INFO:root:Data successfully saved as ./precomputed/matbench_jdft2d.pkl.gz!\n"
     ]
    }
   ],
   "source": [
    "data.save(PRECOMPUTED_MODDATA)"
   ]
  },
  {
   "cell_type": "code",
   "execution_count": 17,
   "metadata": {},
   "outputs": [
    {
     "name": "stderr",
     "output_type": "stream",
     "text": [
      "INFO:root:Starting target 1/1: Exfoliation energy (meV) ...\n",
      "INFO:root:Computing mutual information between features and target...\n",
      "INFO:root:Computing optimal features...\n",
      "INFO:root:Selected 50/650 features...\n",
      "INFO:root:Selected 100/650 features...\n",
      "INFO:root:Selected 150/650 features...\n",
      "INFO:root:Selected 200/650 features...\n",
      "INFO:root:Selected 250/650 features...\n",
      "INFO:root:Selected 300/650 features...\n",
      "INFO:root:Selected 350/650 features...\n",
      "INFO:root:Selected 400/650 features...\n",
      "INFO:root:Selected 450/650 features...\n",
      "INFO:root:Selected 500/650 features...\n",
      "INFO:root:Selected 550/650 features...\n",
      "INFO:root:Selected 600/650 features...\n",
      "INFO:root:Done with target 1/636: Exfoliation energy (meV).\n",
      "INFO:root:Merging all features...\n",
      "INFO:root:Done.\n"
     ]
    }
   ],
   "source": [
    "data.feature_selection(n=650)"
   ]
  },
  {
   "cell_type": "code",
   "execution_count": 19,
   "metadata": {
    "scrolled": true
   },
   "outputs": [],
   "source": [
    "bs = 64\n",
    "lr = 0.01\n",
    "archs = [\n",
    "    (64, [[64], [8], [8], []]),\n",
    "    (64, [[64], [32], [8], [8]]),\n",
    "    (64, [[128], [64], [32], [8]]),\n",
    "    (128, [[128], [64], [32], [8]]),\n",
    "]\n",
    "\n",
    "epochs = 5000\n",
    "loss = \"mse\"\n",
    "act = \"elu\"\n",
    "\n",
    "presets = [dict(batch_size=bs, lr=lr, epochs=epochs, loss=loss, act=act, n_feat=a[0], num_neurons=a[1]) for a in archs]"
   ]
  },
  {
   "cell_type": "code",
   "execution_count": null,
   "metadata": {},
   "outputs": [
    {
     "name": "stderr",
     "output_type": "stream",
     "text": [
      "INFO:root:Training preset #1/4\n",
      "INFO:root:Compiling model...\n",
      "INFO:root:Fitting model...\n"
     ]
    }
   ],
   "source": [
    "data.df_targets.rename(columns={data.target_names[0]: \"E\"}, inplace=True)\n",
    "\n",
    "model = MODNetModel(\n",
    "    [[[\"E\"]]], \n",
    "    {\"E\": 1}, \n",
    ")\n",
    "\n",
    "model.fit_preset(data, presets, val_fraction=0.2)"
   ]
  },
  {
   "cell_type": "code",
   "execution_count": 21,
   "metadata": {},
   "outputs": [
    {
     "data": {
      "text/html": [
       "<div>\n",
       "<style scoped>\n",
       "    .dataframe tbody tr th:only-of-type {\n",
       "        vertical-align: middle;\n",
       "    }\n",
       "\n",
       "    .dataframe tbody tr th {\n",
       "        vertical-align: top;\n",
       "    }\n",
       "\n",
       "    .dataframe thead th {\n",
       "        text-align: right;\n",
       "    }\n",
       "</style>\n",
       "<table border=\"1\" class=\"dataframe\">\n",
       "  <thead>\n",
       "    <tr style=\"text-align: right;\">\n",
       "      <th></th>\n",
       "      <th>Exfoliation energy (meV)</th>\n",
       "    </tr>\n",
       "  </thead>\n",
       "  <tbody>\n",
       "    <tr>\n",
       "      <th>id0</th>\n",
       "      <td>63.593833</td>\n",
       "    </tr>\n",
       "    <tr>\n",
       "      <th>id1</th>\n",
       "      <td>134.863750</td>\n",
       "    </tr>\n",
       "    <tr>\n",
       "      <th>id2</th>\n",
       "      <td>43.114667</td>\n",
       "    </tr>\n",
       "    <tr>\n",
       "      <th>id3</th>\n",
       "      <td>240.715488</td>\n",
       "    </tr>\n",
       "    <tr>\n",
       "      <th>id4</th>\n",
       "      <td>67.442833</td>\n",
       "    </tr>\n",
       "    <tr>\n",
       "      <th>...</th>\n",
       "      <td>...</td>\n",
       "    </tr>\n",
       "    <tr>\n",
       "      <th>id631</th>\n",
       "      <td>26.426545</td>\n",
       "    </tr>\n",
       "    <tr>\n",
       "      <th>id632</th>\n",
       "      <td>43.574286</td>\n",
       "    </tr>\n",
       "    <tr>\n",
       "      <th>id633</th>\n",
       "      <td>88.808659</td>\n",
       "    </tr>\n",
       "    <tr>\n",
       "      <th>id634</th>\n",
       "      <td>132.265250</td>\n",
       "    </tr>\n",
       "    <tr>\n",
       "      <th>id635</th>\n",
       "      <td>63.564333</td>\n",
       "    </tr>\n",
       "  </tbody>\n",
       "</table>\n",
       "<p>636 rows × 1 columns</p>\n",
       "</div>"
      ],
      "text/plain": [
       "       Exfoliation energy (meV)\n",
       "id0                   63.593833\n",
       "id1                  134.863750\n",
       "id2                   43.114667\n",
       "id3                  240.715488\n",
       "id4                   67.442833\n",
       "...                         ...\n",
       "id631                 26.426545\n",
       "id632                 43.574286\n",
       "id633                 88.808659\n",
       "id634                132.265250\n",
       "id635                 63.564333\n",
       "\n",
       "[636 rows x 1 columns]"
      ]
     },
     "execution_count": 21,
     "metadata": {},
     "output_type": "execute_result"
    }
   ],
   "source": []
  },
  {
   "cell_type": "code",
   "execution_count": null,
   "metadata": {},
   "outputs": [],
   "source": []
  }
 ],
 "metadata": {
  "kernelspec": {
   "display_name": "Python [conda env:.conda-modnet] *",
   "language": "python",
   "name": "conda-env-.conda-modnet-py"
  },
  "language_info": {
   "codemirror_mode": {
    "name": "ipython",
    "version": 3
   },
   "file_extension": ".py",
   "mimetype": "text/x-python",
   "name": "python",
   "nbconvert_exporter": "python",
   "pygments_lexer": "ipython3",
   "version": "3.8.0"
  }
 },
 "nbformat": 4,
 "nbformat_minor": 4
}
