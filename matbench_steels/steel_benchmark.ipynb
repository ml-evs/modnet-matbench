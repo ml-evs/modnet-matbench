{
 "cells": [
  {
   "cell_type": "markdown",
   "metadata": {},
   "source": [
    "# MODNet 'matbench_steels' benchmarking"
   ]
  },
  {
   "cell_type": "markdown",
   "metadata": {},
   "source": [
    "The `matbench_steels` dataset from [Citrination](https://citrination.com/datasets/153092/) (contributed by Gareth Conduit, University of Cambridge) contains the composition of ~800 steels and some measured properties with variable coverage. The dataset `matbench_steels` as made available by matminer has de-duplicated the steels down to ~312 samples, and provides only the measured yield strength, the property with 100% coverage."
   ]
  },
  {
   "cell_type": "code",
   "execution_count": 41,
   "metadata": {},
   "outputs": [],
   "source": [
    "from collections import defaultdict\n",
    "import itertools\n",
    "import os\n",
    "import pandas as pd\n",
    "import matplotlib.pyplot as plt \n",
    "import numpy as np\n",
    "from IPython.display import Markdown\n",
    "from matminer.datasets import load_dataset\n",
    "from pymatgen.core import Composition\n",
    "\n",
    "from modnet.preprocessing import MODData\n",
    "#from modnet.models import MODNetModel\n",
    "from modnet.featurizers import MODFeaturizer\n",
    "from modnet.featurizers.presets import DeBreuck2020Featurizer\n",
    "\n",
    "os.environ[\"CUDA_VISIBLE_DEVICES\"] = \"1\""
   ]
  },
  {
   "cell_type": "code",
   "execution_count": 5,
   "metadata": {},
   "outputs": [
    {
     "data": {
      "text/plain": [
       "'0.1.8'"
      ]
     },
     "execution_count": 5,
     "metadata": {},
     "output_type": "execute_result"
    }
   ],
   "source": [
    "import modnet\n",
    "modnet.__version__"
   ]
  },
  {
   "cell_type": "code",
   "execution_count": 6,
   "metadata": {},
   "outputs": [
    {
     "data": {
      "text/markdown": [
       "# matbench_steels\n",
       "\n",
       "## Introduction\n",
       "\n",
       "- Small dataset of only 312 steel compositions with associated yield strengths.\n",
       "\n",
       "Results to beat:\n",
       "\n",
       "| Method | Yield strength (MPa) |\n",
       "|:-------|-----------------:|\n",
       "| AM     | 95.2 |\n",
       "| RF     | 104  |\n",
       "| Dummy  | 230  |\n",
       "\n",
       "## Notes\n",
       "\n",
       "- Extremely variable depending on validation set; probably high degree of bias in underlying data.\n",
       "- Extremely well-behaved learning curves, consistently ~50 MPa on test set but double that on validation set.\n",
       "- Errors are very long-tailed\n",
       "- Should really consider doing feature importance with left-out data\n",
       "\n",
       "## To-do\n",
       "\n",
       "- [x] Featurize\n",
       "- [x] Feature selection \n",
       "- [x] Baseline models\n",
       "- [ ] Feature importance\n",
       "\n",
       "## Results\n",
       "\n",
       "| Method | Yield strength (MPa) |\n",
       "|:-------|---------------------:|\n",
       "| Rough MODNet baseline   | 107.8 |\n"
      ],
      "text/plain": [
       "<IPython.core.display.Markdown object>"
      ]
     },
     "execution_count": 6,
     "metadata": {},
     "output_type": "execute_result"
    }
   ],
   "source": [
    "Markdown(filename=\"./README.md\")"
   ]
  },
  {
   "cell_type": "markdown",
   "metadata": {},
   "source": [
    "## Data exploration"
   ]
  },
  {
   "cell_type": "code",
   "execution_count": 7,
   "metadata": {},
   "outputs": [],
   "source": [
    "df = load_dataset(\"matbench_steels\")\n",
    "df[\"composition\"] = df[\"composition\"].map(Composition)"
   ]
  },
  {
   "cell_type": "code",
   "execution_count": null,
   "metadata": {},
   "outputs": [],
   "source": [
    "df.columns"
   ]
  },
  {
   "cell_type": "markdown",
   "metadata": {},
   "source": [
    "### Composition space"
   ]
  },
  {
   "cell_type": "code",
   "execution_count": null,
   "metadata": {},
   "outputs": [],
   "source": [
    "values = df[\"composition\"].apply(lambda s: s.get_el_amt_dict())\n",
    "elements = defaultdict(float)\n",
    "proportions = defaultdict(list)\n",
    "for s in values:\n",
    "    for e in s:\n",
    "        elements[e] += s[e]\n",
    "        proportions[e] += [s[e]]\n",
    "        \n",
    "for elem in elements:\n",
    "    elements[elem] /= len(values)\n",
    "\n",
    "mean_proportions = {elem: np.mean(proportions[elem]) for elem in proportions}\n",
    "mean_proportions = dict(sorted(mean_proportions.items(), key=lambda x: x[1], reverse=True))\n",
    "elements = dict(sorted(elements.items(), key=lambda x: x[1], reverse=True))\n",
    "\n",
    "fig, ax = plt.subplots(facecolor=\"w\");\n",
    "ax.set_yscale(\"log\")\n",
    "ax.bar(elements.keys(), elements.values())\n",
    "ax.set_ylabel(\"Average concentration of element in dataset\");"
   ]
  },
  {
   "cell_type": "code",
   "execution_count": null,
   "metadata": {},
   "outputs": [],
   "source": [
    "# distribution of element proportions across compositions\n",
    "fig, ax = plt.subplots(4, 4, facecolor=\"w\", figsize=(10, 10))\n",
    "for axis, elem in zip(itertools.product(range(0, 4), repeat=2), mean_proportions):\n",
    "    axis = (axis[1], axis[0])\n",
    "    ax[axis].hist(\n",
    "        proportions[elem], \n",
    "        bins=np.linspace(0, 1, 50), \n",
    "        density=False, \n",
    "    )\n",
    "    ax[axis].set_xlim(-0.1, 1.1)\n",
    "    ax[axis].text(0.75, 0.8, elem, fontsize=24, transform=ax[axis].transAxes, )\n",
    "    ax[axis].set_ylim(0, 312)\n",
    "\n",
    "plt.tight_layout()"
   ]
  },
  {
   "cell_type": "markdown",
   "metadata": {
    "heading_collapsed": true
   },
   "source": [
    "### Target space"
   ]
  },
  {
   "cell_type": "code",
   "execution_count": null,
   "metadata": {
    "hidden": true
   },
   "outputs": [],
   "source": [
    "df.describe()"
   ]
  },
  {
   "cell_type": "code",
   "execution_count": null,
   "metadata": {
    "hidden": true
   },
   "outputs": [],
   "source": [
    "fig, ax = plt.subplots(facecolor=\"w\")\n",
    "ax.hist(df[\"yield strength\"], bins=100, density=True);\n",
    "ax.set_ylabel(\"Frequency\")\n",
    "ax.set_xlabel(\"Yield strength (GPa)\")"
   ]
  },
  {
   "cell_type": "markdown",
   "metadata": {},
   "source": [
    "## Featurization and feature selection"
   ]
  },
  {
   "cell_type": "markdown",
   "metadata": {},
   "source": [
    "First, we define some convenience classes that pass wraps composition data in a fake structure containe, and we define a composition only featurizer preset based on `DeBreuck2020Featurizer`."
   ]
  },
  {
   "cell_type": "code",
   "execution_count": 9,
   "metadata": {},
   "outputs": [],
   "source": [
    "class CompositionOnlyFeaturizer(MODFeaturizer):\n",
    "    composition_featurizers = DeBreuck2020Featurizer.composition_featurizers\n",
    "    \n",
    "    def featurize_composition(self, df):\n",
    "        \"\"\" Applies the preset composition featurizers to the input dataframe,\n",
    "        renames some fields and cleans the output dataframe.\n",
    "\n",
    "        \"\"\"\n",
    "        from pymatgen.core.periodic_table import Element \n",
    "        import numpy as np\n",
    "        from modnet.featurizers import clean_df\n",
    "        df = super().featurize_composition(df)\n",
    "        _orbitals = {\"s\": 1, \"p\": 2, \"d\": 3, \"f\": 4}\n",
    "        df['AtomicOrbitals|HOMO_character'] = df['AtomicOrbitals|HOMO_character'].map(_orbitals)\n",
    "        df['AtomicOrbitals|LUMO_character'] = df['AtomicOrbitals|LUMO_character'].map(_orbitals)\n",
    "\n",
    "        df['AtomicOrbitals|HOMO_element'] = df['AtomicOrbitals|HOMO_element'].apply(\n",
    "            lambda x: -1 if not isinstance(x, str) else Element(x).Z\n",
    "        )\n",
    "        df['AtomicOrbitals|LUMO_element'] = df['AtomicOrbitals|LUMO_element'].apply(\n",
    "            lambda x: -1 if not isinstance(x, str) else Element(x).Z\n",
    "        )\n",
    "\n",
    "        df = df.replace([np.inf, -np.inf, np.nan], 0)\n",
    "        \n",
    "        return clean_df(df)\n",
    "\n",
    "class CompositionContainer:\n",
    "    def __init__(self, composition):\n",
    "        self.composition = composition"
   ]
  },
  {
   "cell_type": "code",
   "execution_count": 10,
   "metadata": {},
   "outputs": [
    {
     "name": "stderr",
     "output_type": "stream",
     "text": [
      "INFO:root:Loaded <modnet.preprocessing.MODData object at 0x7f0b52222580> object, created with modnet version 0.1.8~develop\n"
     ]
    }
   ],
   "source": [
    "PRECOMPUTED_MODDATA = \"./precomputed/steel_benchmark_moddata.pkl.gz\"\n",
    "\n",
    "if os.path.isfile(PRECOMPUTED_MODDATA):\n",
    "    data = MODData.load(PRECOMPUTED_MODDATA)\n",
    "else:\n",
    "    # Use a fresh copy of the dataset\n",
    "    df = load_dataset(\"matbench_steels\")\n",
    "    df[\"composition\"] = df[\"composition\"].map(Composition)\n",
    "    df[\"structure\"] = df[\"composition\"].map(CompositionContainer)\n",
    "    \n",
    "    data = MODData(\n",
    "        structures=df[\"structure\"].tolist(), \n",
    "        targets=df[\"yield strength\"].tolist(), \n",
    "        target_names=[\"yield strength (MPa)\"],\n",
    "        featurizer=CompositionOnlyFeaturizer(n_jobs=8)\n",
    "    )\n",
    "    data.featurize()\n",
    "    # As this is a small data/feature set, order all features \n",
    "    data.feature_selection(n=-1)"
   ]
  },
  {
   "cell_type": "code",
   "execution_count": null,
   "metadata": {},
   "outputs": [],
   "source": [
    "#data.optimal_features=None\n",
    "#data.cross_nmi = None\n",
    "#data.num_classes = {\"yield strength (GPa)\":0}\n",
    "#data.feature_selection(n=-1)\n",
    "#data.save(\"./precomputed/steel_benchmark_moddata_MPCNMI.pkl.gz\")"
   ]
  },
  {
   "cell_type": "code",
   "execution_count": null,
   "metadata": {
    "scrolled": true
   },
   "outputs": [],
   "source": [
    "# Look at some of the top features chosen by MODNet\n",
    "for feat in data.optimal_features[:10]:\n",
    "    fig, ax = plt.subplots(facecolor=\"w\")\n",
    "    plt.scatter(data.df_featurized[feat], data.df_targets, alpha=0.5)\n",
    "    plt.xlabel(feat)\n",
    "    plt.ylabel(\"Yield strength (MPa)\")"
   ]
  },
  {
   "cell_type": "markdown",
   "metadata": {},
   "source": [
    "## Training"
   ]
  },
  {
   "cell_type": "markdown",
   "metadata": {},
   "source": [
    "This is a very small dataset, so we must make judicious use of what data there is. First, let's generate test folds according to [matbench's suggestions](https://hackingmaterials.lbl.gov/automatminer/datasets.html#benchmarking-and-reporting-your-algorithm):"
   ]
  },
  {
   "cell_type": "code",
   "execution_count": 45,
   "metadata": {
    "scrolled": false
   },
   "outputs": [
    {
     "name": "stderr",
     "output_type": "stream",
     "text": [
      "INFO:root:Loaded <modnet.preprocessing.MODData object at 0x7f0788689310> object, created with modnet version 0.1.8\n",
      "INFO:root:Data successfully saved as folds/train_moddata_f1!\n",
      "INFO:root:Training preset #1/24: {'batch_size': 32, 'lr': 0.002, 'n_feat': 30, 'num_neurons': [[60], [30], [7], [7]], 'epochs': 1000, 'loss': 'mae', 'act': 'elu'}\n",
      "INFO:root:Compiling model...\n",
      "INFO:root:Fitting model...\n",
      "INFO:root:Validation loss: 138.728\n",
      "INFO:root:Training preset #2/24: {'batch_size': 32, 'lr': 0.001, 'n_feat': 30, 'num_neurons': [[60], [30], [7], [7]], 'epochs': 1000, 'loss': 'mae', 'act': 'elu'}\n",
      "INFO:root:Compiling model...\n",
      "INFO:root:Fitting model...\n",
      "INFO:root:Validation loss: 163.387\n",
      "INFO:root:Training preset #3/24: {'batch_size': 64, 'lr': 0.002, 'n_feat': 30, 'num_neurons': [[60], [30], [7], [7]], 'epochs': 1000, 'loss': 'mae', 'act': 'elu'}\n",
      "INFO:root:Compiling model...\n",
      "INFO:root:Fitting model...\n",
      "INFO:root:Validation loss: 137.622\n",
      "INFO:root:Training preset #4/24: {'batch_size': 64, 'lr': 0.001, 'n_feat': 30, 'num_neurons': [[60], [30], [7], [7]], 'epochs': 1000, 'loss': 'mae', 'act': 'elu'}\n",
      "INFO:root:Compiling model...\n",
      "INFO:root:Fitting model...\n",
      "INFO:root:Validation loss: 264.583\n",
      "INFO:root:Training preset #5/24: {'batch_size': 32, 'lr': 0.002, 'n_feat': 30, 'num_neurons': [[30], [15], [7], [7]], 'epochs': 1000, 'loss': 'mae', 'act': 'elu'}\n",
      "INFO:root:Compiling model...\n",
      "INFO:root:Fitting model...\n",
      "INFO:root:Validation loss: 150.251\n",
      "INFO:root:Training preset #6/24: {'batch_size': 32, 'lr': 0.001, 'n_feat': 30, 'num_neurons': [[30], [15], [7], [7]], 'epochs': 1000, 'loss': 'mae', 'act': 'elu'}\n",
      "INFO:root:Compiling model...\n",
      "INFO:root:Fitting model...\n",
      "INFO:root:Validation loss: 186.276\n",
      "INFO:root:Training preset #7/24: {'batch_size': 64, 'lr': 0.002, 'n_feat': 30, 'num_neurons': [[30], [15], [7], [7]], 'epochs': 1000, 'loss': 'mae', 'act': 'elu'}\n",
      "INFO:root:Compiling model...\n",
      "INFO:root:Fitting model...\n",
      "INFO:root:Validation loss: 150.400\n",
      "INFO:root:Training preset #8/24: {'batch_size': 64, 'lr': 0.001, 'n_feat': 30, 'num_neurons': [[30], [15], [7], [7]], 'epochs': 1000, 'loss': 'mae', 'act': 'elu'}\n",
      "INFO:root:Compiling model...\n",
      "INFO:root:Fitting model...\n",
      "INFO:root:Validation loss: 261.422\n",
      "INFO:root:Training preset #9/24: {'batch_size': 32, 'lr': 0.002, 'n_feat': 30, 'num_neurons': [[15], [15], [7], [7]], 'epochs': 1000, 'loss': 'mae', 'act': 'elu'}\n",
      "INFO:root:Compiling model...\n",
      "INFO:root:Fitting model...\n",
      "INFO:root:Validation loss: 152.546\n",
      "INFO:root:Training preset #10/24: {'batch_size': 32, 'lr': 0.001, 'n_feat': 30, 'num_neurons': [[15], [15], [7], [7]], 'epochs': 1000, 'loss': 'mae', 'act': 'elu'}\n",
      "INFO:root:Compiling model...\n",
      "INFO:root:Fitting model...\n",
      "INFO:root:Validation loss: 250.159\n",
      "INFO:root:Training preset #11/24: {'batch_size': 64, 'lr': 0.002, 'n_feat': 30, 'num_neurons': [[15], [15], [7], [7]], 'epochs': 1000, 'loss': 'mae', 'act': 'elu'}\n",
      "INFO:root:Compiling model...\n",
      "INFO:root:Fitting model...\n",
      "INFO:root:Validation loss: 187.972\n",
      "INFO:root:Training preset #12/24: {'batch_size': 64, 'lr': 0.001, 'n_feat': 30, 'num_neurons': [[15], [15], [7], [7]], 'epochs': 1000, 'loss': 'mae', 'act': 'elu'}\n",
      "INFO:root:Compiling model...\n",
      "INFO:root:Fitting model...\n",
      "INFO:root:Validation loss: 286.665\n",
      "INFO:root:Training preset #13/24: {'batch_size': 32, 'lr': 0.002, 'n_feat': 60, 'num_neurons': [[120], [60], [15], [15]], 'epochs': 1000, 'loss': 'mae', 'act': 'elu'}\n",
      "INFO:root:Compiling model...\n",
      "INFO:root:Fitting model...\n",
      "INFO:root:Validation loss: 150.076\n",
      "INFO:root:Training preset #14/24: {'batch_size': 32, 'lr': 0.001, 'n_feat': 60, 'num_neurons': [[120], [60], [15], [15]], 'epochs': 1000, 'loss': 'mae', 'act': 'elu'}\n",
      "INFO:root:Compiling model...\n",
      "INFO:root:Fitting model...\n",
      "INFO:root:Validation loss: 185.267\n",
      "INFO:root:Training preset #15/24: {'batch_size': 64, 'lr': 0.002, 'n_feat': 60, 'num_neurons': [[120], [60], [15], [15]], 'epochs': 1000, 'loss': 'mae', 'act': 'elu'}\n",
      "INFO:root:Compiling model...\n",
      "INFO:root:Fitting model...\n",
      "INFO:root:Validation loss: 146.621\n",
      "INFO:root:Training preset #16/24: {'batch_size': 64, 'lr': 0.001, 'n_feat': 60, 'num_neurons': [[120], [60], [15], [15]], 'epochs': 1000, 'loss': 'mae', 'act': 'elu'}\n",
      "INFO:root:Compiling model...\n",
      "INFO:root:Fitting model...\n",
      "INFO:root:Validation loss: 256.680\n",
      "INFO:root:Training preset #17/24: {'batch_size': 32, 'lr': 0.002, 'n_feat': 60, 'num_neurons': [[60], [30], [15], [15]], 'epochs': 1000, 'loss': 'mae', 'act': 'elu'}\n",
      "INFO:root:Compiling model...\n",
      "INFO:root:Fitting model...\n",
      "INFO:root:Validation loss: 104.534\n",
      "INFO:root:Training preset #18/24: {'batch_size': 32, 'lr': 0.001, 'n_feat': 60, 'num_neurons': [[60], [30], [15], [15]], 'epochs': 1000, 'loss': 'mae', 'act': 'elu'}\n",
      "INFO:root:Compiling model...\n",
      "INFO:root:Fitting model...\n",
      "INFO:root:Validation loss: 235.433\n",
      "INFO:root:Training preset #19/24: {'batch_size': 64, 'lr': 0.002, 'n_feat': 60, 'num_neurons': [[60], [30], [15], [15]], 'epochs': 1000, 'loss': 'mae', 'act': 'elu'}\n",
      "INFO:root:Compiling model...\n",
      "INFO:root:Fitting model...\n",
      "INFO:root:Validation loss: 201.250\n",
      "INFO:root:Training preset #20/24: {'batch_size': 64, 'lr': 0.001, 'n_feat': 60, 'num_neurons': [[60], [30], [15], [15]], 'epochs': 1000, 'loss': 'mae', 'act': 'elu'}\n",
      "INFO:root:Compiling model...\n",
      "INFO:root:Fitting model...\n",
      "INFO:root:Validation loss: 247.002\n",
      "INFO:root:Training preset #21/24: {'batch_size': 32, 'lr': 0.002, 'n_feat': 60, 'num_neurons': [[30], [30], [15], [15]], 'epochs': 1000, 'loss': 'mae', 'act': 'elu'}\n",
      "INFO:root:Compiling model...\n",
      "INFO:root:Fitting model...\n",
      "INFO:root:Validation loss: 147.947\n",
      "INFO:root:Training preset #22/24: {'batch_size': 32, 'lr': 0.001, 'n_feat': 60, 'num_neurons': [[30], [30], [15], [15]], 'epochs': 1000, 'loss': 'mae', 'act': 'elu'}\n",
      "INFO:root:Compiling model...\n",
      "INFO:root:Fitting model...\n",
      "INFO:root:Validation loss: 274.487\n",
      "INFO:root:Training preset #23/24: {'batch_size': 64, 'lr': 0.002, 'n_feat': 60, 'num_neurons': [[30], [30], [15], [15]], 'epochs': 1000, 'loss': 'mae', 'act': 'elu'}\n",
      "INFO:root:Compiling model...\n",
      "INFO:root:Fitting model...\n",
      "INFO:root:Validation loss: 240.370\n",
      "INFO:root:Training preset #24/24: {'batch_size': 64, 'lr': 0.001, 'n_feat': 60, 'num_neurons': [[30], [30], [15], [15]], 'epochs': 1000, 'loss': 'mae', 'act': 'elu'}\n",
      "INFO:root:Compiling model...\n",
      "INFO:root:Fitting model...\n",
      "INFO:root:Validation loss: 287.073\n",
      "INFO:root:Preset #17 resulted in lowest validation loss with params {'batch_size': 64, 'lr': 0.001, 'n_feat': 60, 'num_neurons': [[30], [30], [15], [15]], 'epochs': 1000, 'loss': 'mae', 'act': 'elu'}\n",
      "Fitting all data...\n",
      "INFO:root:Compiling model...\n",
      "INFO:root:Fitting model...\n",
      "INFO:root:Loaded <modnet.preprocessing.MODData object at 0x7f07286b1550> object, created with modnet version 0.1.8\n"
     ]
    },
    {
     "name": "stdout",
     "output_type": "stream",
     "text": [
      "Model #1: MAE = 96.34886648995534\n"
     ]
    },
    {
     "name": "stderr",
     "output_type": "stream",
     "text": [
      "INFO:root:Data successfully saved as folds/train_moddata_f2!\n",
      "INFO:root:Training preset #1/24: {'batch_size': 32, 'lr': 0.002, 'n_feat': 30, 'num_neurons': [[60], [30], [7], [7]], 'epochs': 1000, 'loss': 'mae', 'act': 'elu'}\n",
      "INFO:root:Compiling model...\n",
      "INFO:root:Fitting model...\n",
      "INFO:root:Validation loss: 121.060\n",
      "INFO:root:Training preset #2/24: {'batch_size': 32, 'lr': 0.001, 'n_feat': 30, 'num_neurons': [[60], [30], [7], [7]], 'epochs': 1000, 'loss': 'mae', 'act': 'elu'}\n",
      "INFO:root:Compiling model...\n",
      "INFO:root:Fitting model...\n",
      "INFO:root:Validation loss: 133.315\n",
      "INFO:root:Training preset #3/24: {'batch_size': 64, 'lr': 0.002, 'n_feat': 30, 'num_neurons': [[60], [30], [7], [7]], 'epochs': 1000, 'loss': 'mae', 'act': 'elu'}\n",
      "INFO:root:Compiling model...\n",
      "INFO:root:Fitting model...\n",
      "INFO:root:Validation loss: 111.725\n",
      "INFO:root:Training preset #4/24: {'batch_size': 64, 'lr': 0.001, 'n_feat': 30, 'num_neurons': [[60], [30], [7], [7]], 'epochs': 1000, 'loss': 'mae', 'act': 'elu'}\n",
      "INFO:root:Compiling model...\n",
      "INFO:root:Fitting model...\n",
      "INFO:root:Validation loss: 178.299\n",
      "INFO:root:Training preset #5/24: {'batch_size': 32, 'lr': 0.002, 'n_feat': 30, 'num_neurons': [[30], [15], [7], [7]], 'epochs': 1000, 'loss': 'mae', 'act': 'elu'}\n",
      "INFO:root:Compiling model...\n",
      "INFO:root:Fitting model...\n",
      "INFO:root:Validation loss: 115.644\n",
      "INFO:root:Training preset #6/24: {'batch_size': 32, 'lr': 0.001, 'n_feat': 30, 'num_neurons': [[30], [15], [7], [7]], 'epochs': 1000, 'loss': 'mae', 'act': 'elu'}\n",
      "INFO:root:Compiling model...\n",
      "INFO:root:Fitting model...\n",
      "INFO:root:Validation loss: 162.043\n",
      "INFO:root:Training preset #7/24: {'batch_size': 64, 'lr': 0.002, 'n_feat': 30, 'num_neurons': [[30], [15], [7], [7]], 'epochs': 1000, 'loss': 'mae', 'act': 'elu'}\n",
      "INFO:root:Compiling model...\n",
      "INFO:root:Fitting model...\n",
      "INFO:root:Validation loss: 130.174\n",
      "INFO:root:Training preset #8/24: {'batch_size': 64, 'lr': 0.001, 'n_feat': 30, 'num_neurons': [[30], [15], [7], [7]], 'epochs': 1000, 'loss': 'mae', 'act': 'elu'}\n",
      "INFO:root:Compiling model...\n",
      "INFO:root:Fitting model...\n",
      "INFO:root:Validation loss: 198.119\n",
      "INFO:root:Training preset #9/24: {'batch_size': 32, 'lr': 0.002, 'n_feat': 30, 'num_neurons': [[15], [15], [7], [7]], 'epochs': 1000, 'loss': 'mae', 'act': 'elu'}\n",
      "INFO:root:Compiling model...\n",
      "INFO:root:Fitting model...\n",
      "INFO:root:Validation loss: 125.444\n",
      "INFO:root:Training preset #10/24: {'batch_size': 32, 'lr': 0.001, 'n_feat': 30, 'num_neurons': [[15], [15], [7], [7]], 'epochs': 1000, 'loss': 'mae', 'act': 'elu'}\n",
      "INFO:root:Compiling model...\n",
      "INFO:root:Fitting model...\n",
      "INFO:root:Validation loss: 202.904\n",
      "INFO:root:Training preset #11/24: {'batch_size': 64, 'lr': 0.002, 'n_feat': 30, 'num_neurons': [[15], [15], [7], [7]], 'epochs': 1000, 'loss': 'mae', 'act': 'elu'}\n",
      "INFO:root:Compiling model...\n",
      "INFO:root:Fitting model...\n",
      "INFO:root:Validation loss: 159.867\n",
      "INFO:root:Training preset #12/24: {'batch_size': 64, 'lr': 0.001, 'n_feat': 30, 'num_neurons': [[15], [15], [7], [7]], 'epochs': 1000, 'loss': 'mae', 'act': 'elu'}\n",
      "INFO:root:Compiling model...\n",
      "INFO:root:Fitting model...\n",
      "INFO:root:Validation loss: 180.593\n",
      "INFO:root:Training preset #13/24: {'batch_size': 32, 'lr': 0.002, 'n_feat': 60, 'num_neurons': [[120], [60], [15], [15]], 'epochs': 1000, 'loss': 'mae', 'act': 'elu'}\n",
      "INFO:root:Compiling model...\n",
      "INFO:root:Fitting model...\n",
      "INFO:root:Validation loss: 98.073\n",
      "INFO:root:Training preset #14/24: {'batch_size': 32, 'lr': 0.001, 'n_feat': 60, 'num_neurons': [[120], [60], [15], [15]], 'epochs': 1000, 'loss': 'mae', 'act': 'elu'}\n",
      "INFO:root:Compiling model...\n",
      "INFO:root:Fitting model...\n",
      "INFO:root:Validation loss: 122.127\n",
      "INFO:root:Training preset #15/24: {'batch_size': 64, 'lr': 0.002, 'n_feat': 60, 'num_neurons': [[120], [60], [15], [15]], 'epochs': 1000, 'loss': 'mae', 'act': 'elu'}\n",
      "INFO:root:Compiling model...\n",
      "INFO:root:Fitting model...\n",
      "INFO:root:Validation loss: 107.299\n",
      "INFO:root:Training preset #16/24: {'batch_size': 64, 'lr': 0.001, 'n_feat': 60, 'num_neurons': [[120], [60], [15], [15]], 'epochs': 1000, 'loss': 'mae', 'act': 'elu'}\n",
      "INFO:root:Compiling model...\n",
      "INFO:root:Fitting model...\n",
      "INFO:root:Validation loss: 149.219\n",
      "INFO:root:Training preset #17/24: {'batch_size': 32, 'lr': 0.002, 'n_feat': 60, 'num_neurons': [[60], [30], [15], [15]], 'epochs': 1000, 'loss': 'mae', 'act': 'elu'}\n",
      "INFO:root:Compiling model...\n",
      "INFO:root:Fitting model...\n",
      "INFO:root:Validation loss: 109.754\n",
      "INFO:root:Training preset #18/24: {'batch_size': 32, 'lr': 0.001, 'n_feat': 60, 'num_neurons': [[60], [30], [15], [15]], 'epochs': 1000, 'loss': 'mae', 'act': 'elu'}\n",
      "INFO:root:Compiling model...\n",
      "INFO:root:Fitting model...\n",
      "INFO:root:Validation loss: 121.483\n",
      "INFO:root:Training preset #19/24: {'batch_size': 64, 'lr': 0.002, 'n_feat': 60, 'num_neurons': [[60], [30], [15], [15]], 'epochs': 1000, 'loss': 'mae', 'act': 'elu'}\n",
      "INFO:root:Compiling model...\n",
      "INFO:root:Fitting model...\n",
      "INFO:root:Validation loss: 107.209\n",
      "INFO:root:Training preset #20/24: {'batch_size': 64, 'lr': 0.001, 'n_feat': 60, 'num_neurons': [[60], [30], [15], [15]], 'epochs': 1000, 'loss': 'mae', 'act': 'elu'}\n",
      "INFO:root:Compiling model...\n",
      "INFO:root:Fitting model...\n",
      "INFO:root:Validation loss: 159.178\n",
      "INFO:root:Training preset #21/24: {'batch_size': 32, 'lr': 0.002, 'n_feat': 60, 'num_neurons': [[30], [30], [15], [15]], 'epochs': 1000, 'loss': 'mae', 'act': 'elu'}\n",
      "INFO:root:Compiling model...\n",
      "INFO:root:Fitting model...\n",
      "INFO:root:Validation loss: 186.842\n",
      "INFO:root:Training preset #22/24: {'batch_size': 32, 'lr': 0.001, 'n_feat': 60, 'num_neurons': [[30], [30], [15], [15]], 'epochs': 1000, 'loss': 'mae', 'act': 'elu'}\n",
      "INFO:root:Compiling model...\n",
      "INFO:root:Fitting model...\n",
      "INFO:root:Validation loss: 137.496\n",
      "INFO:root:Training preset #23/24: {'batch_size': 64, 'lr': 0.002, 'n_feat': 60, 'num_neurons': [[30], [30], [15], [15]], 'epochs': 1000, 'loss': 'mae', 'act': 'elu'}\n",
      "INFO:root:Compiling model...\n",
      "INFO:root:Fitting model...\n",
      "INFO:root:Validation loss: 173.106\n",
      "INFO:root:Training preset #24/24: {'batch_size': 64, 'lr': 0.001, 'n_feat': 60, 'num_neurons': [[30], [30], [15], [15]], 'epochs': 1000, 'loss': 'mae', 'act': 'elu'}\n",
      "INFO:root:Compiling model...\n",
      "INFO:root:Fitting model...\n",
      "INFO:root:Validation loss: 128.498\n",
      "INFO:root:Preset #13 resulted in lowest validation loss with params {'batch_size': 64, 'lr': 0.001, 'n_feat': 60, 'num_neurons': [[30], [30], [15], [15]], 'epochs': 1000, 'loss': 'mae', 'act': 'elu'}\n",
      "Fitting all data...\n",
      "INFO:root:Compiling model...\n",
      "INFO:root:Fitting model...\n",
      "INFO:root:Loaded <modnet.preprocessing.MODData object at 0x7f07c821a040> object, created with modnet version 0.1.8\n"
     ]
    },
    {
     "name": "stdout",
     "output_type": "stream",
     "text": [
      "Model #2: MAE = 94.05622674851192\n"
     ]
    },
    {
     "name": "stderr",
     "output_type": "stream",
     "text": [
      "INFO:root:Data successfully saved as folds/train_moddata_f3!\n",
      "INFO:root:Training preset #1/24: {'batch_size': 32, 'lr': 0.002, 'n_feat': 30, 'num_neurons': [[60], [30], [7], [7]], 'epochs': 1000, 'loss': 'mae', 'act': 'elu'}\n",
      "INFO:root:Compiling model...\n",
      "INFO:root:Fitting model...\n",
      "INFO:root:Validation loss: 137.686\n",
      "INFO:root:Training preset #2/24: {'batch_size': 32, 'lr': 0.001, 'n_feat': 30, 'num_neurons': [[60], [30], [7], [7]], 'epochs': 1000, 'loss': 'mae', 'act': 'elu'}\n",
      "INFO:root:Compiling model...\n",
      "INFO:root:Fitting model...\n",
      "INFO:root:Validation loss: 149.889\n",
      "INFO:root:Training preset #3/24: {'batch_size': 64, 'lr': 0.002, 'n_feat': 30, 'num_neurons': [[60], [30], [7], [7]], 'epochs': 1000, 'loss': 'mae', 'act': 'elu'}\n",
      "INFO:root:Compiling model...\n",
      "INFO:root:Fitting model...\n",
      "INFO:root:Validation loss: 106.847\n",
      "INFO:root:Training preset #4/24: {'batch_size': 64, 'lr': 0.001, 'n_feat': 30, 'num_neurons': [[60], [30], [7], [7]], 'epochs': 1000, 'loss': 'mae', 'act': 'elu'}\n",
      "INFO:root:Compiling model...\n",
      "INFO:root:Fitting model...\n",
      "INFO:root:Validation loss: 169.809\n",
      "INFO:root:Training preset #5/24: {'batch_size': 32, 'lr': 0.002, 'n_feat': 30, 'num_neurons': [[30], [15], [7], [7]], 'epochs': 1000, 'loss': 'mae', 'act': 'elu'}\n",
      "INFO:root:Compiling model...\n",
      "INFO:root:Fitting model...\n",
      "INFO:root:Validation loss: 125.986\n",
      "INFO:root:Training preset #6/24: {'batch_size': 32, 'lr': 0.001, 'n_feat': 30, 'num_neurons': [[30], [15], [7], [7]], 'epochs': 1000, 'loss': 'mae', 'act': 'elu'}\n",
      "INFO:root:Compiling model...\n",
      "INFO:root:Fitting model...\n",
      "INFO:root:Validation loss: 140.629\n",
      "INFO:root:Training preset #7/24: {'batch_size': 64, 'lr': 0.002, 'n_feat': 30, 'num_neurons': [[30], [15], [7], [7]], 'epochs': 1000, 'loss': 'mae', 'act': 'elu'}\n",
      "INFO:root:Compiling model...\n",
      "INFO:root:Fitting model...\n",
      "INFO:root:Validation loss: 132.089\n",
      "INFO:root:Training preset #8/24: {'batch_size': 64, 'lr': 0.001, 'n_feat': 30, 'num_neurons': [[30], [15], [7], [7]], 'epochs': 1000, 'loss': 'mae', 'act': 'elu'}\n",
      "INFO:root:Compiling model...\n",
      "INFO:root:Fitting model...\n",
      "INFO:root:Validation loss: 180.862\n",
      "INFO:root:Training preset #9/24: {'batch_size': 32, 'lr': 0.002, 'n_feat': 30, 'num_neurons': [[15], [15], [7], [7]], 'epochs': 1000, 'loss': 'mae', 'act': 'elu'}\n",
      "INFO:root:Compiling model...\n",
      "INFO:root:Fitting model...\n",
      "INFO:root:Validation loss: 177.545\n",
      "INFO:root:Training preset #10/24: {'batch_size': 32, 'lr': 0.001, 'n_feat': 30, 'num_neurons': [[15], [15], [7], [7]], 'epochs': 1000, 'loss': 'mae', 'act': 'elu'}\n",
      "INFO:root:Compiling model...\n",
      "INFO:root:Fitting model...\n",
      "INFO:root:Validation loss: 168.385\n",
      "INFO:root:Training preset #11/24: {'batch_size': 64, 'lr': 0.002, 'n_feat': 30, 'num_neurons': [[15], [15], [7], [7]], 'epochs': 1000, 'loss': 'mae', 'act': 'elu'}\n",
      "INFO:root:Compiling model...\n",
      "INFO:root:Fitting model...\n",
      "INFO:root:Validation loss: 151.211\n",
      "INFO:root:Training preset #12/24: {'batch_size': 64, 'lr': 0.001, 'n_feat': 30, 'num_neurons': [[15], [15], [7], [7]], 'epochs': 1000, 'loss': 'mae', 'act': 'elu'}\n",
      "INFO:root:Compiling model...\n",
      "INFO:root:Fitting model...\n",
      "INFO:root:Validation loss: 191.679\n",
      "INFO:root:Training preset #13/24: {'batch_size': 32, 'lr': 0.002, 'n_feat': 60, 'num_neurons': [[120], [60], [15], [15]], 'epochs': 1000, 'loss': 'mae', 'act': 'elu'}\n",
      "INFO:root:Compiling model...\n",
      "INFO:root:Fitting model...\n",
      "INFO:root:Validation loss: 90.795\n",
      "INFO:root:Training preset #14/24: {'batch_size': 32, 'lr': 0.001, 'n_feat': 60, 'num_neurons': [[120], [60], [15], [15]], 'epochs': 1000, 'loss': 'mae', 'act': 'elu'}\n",
      "INFO:root:Compiling model...\n",
      "INFO:root:Fitting model...\n",
      "INFO:root:Validation loss: 170.314\n",
      "INFO:root:Training preset #15/24: {'batch_size': 64, 'lr': 0.002, 'n_feat': 60, 'num_neurons': [[120], [60], [15], [15]], 'epochs': 1000, 'loss': 'mae', 'act': 'elu'}\n",
      "INFO:root:Compiling model...\n",
      "INFO:root:Fitting model...\n",
      "INFO:root:Validation loss: 100.697\n",
      "INFO:root:Training preset #16/24: {'batch_size': 64, 'lr': 0.001, 'n_feat': 60, 'num_neurons': [[120], [60], [15], [15]], 'epochs': 1000, 'loss': 'mae', 'act': 'elu'}\n",
      "INFO:root:Compiling model...\n",
      "INFO:root:Fitting model...\n",
      "INFO:root:Validation loss: 153.144\n",
      "INFO:root:Training preset #17/24: {'batch_size': 32, 'lr': 0.002, 'n_feat': 60, 'num_neurons': [[60], [30], [15], [15]], 'epochs': 1000, 'loss': 'mae', 'act': 'elu'}\n",
      "INFO:root:Compiling model...\n",
      "INFO:root:Fitting model...\n",
      "INFO:root:Validation loss: 100.043\n",
      "INFO:root:Training preset #18/24: {'batch_size': 32, 'lr': 0.001, 'n_feat': 60, 'num_neurons': [[60], [30], [15], [15]], 'epochs': 1000, 'loss': 'mae', 'act': 'elu'}\n",
      "INFO:root:Compiling model...\n",
      "INFO:root:Fitting model...\n",
      "INFO:root:Validation loss: 188.524\n",
      "INFO:root:Training preset #19/24: {'batch_size': 64, 'lr': 0.002, 'n_feat': 60, 'num_neurons': [[60], [30], [15], [15]], 'epochs': 1000, 'loss': 'mae', 'act': 'elu'}\n",
      "INFO:root:Compiling model...\n",
      "INFO:root:Fitting model...\n",
      "INFO:root:Validation loss: 142.999\n",
      "INFO:root:Training preset #20/24: {'batch_size': 64, 'lr': 0.001, 'n_feat': 60, 'num_neurons': [[60], [30], [15], [15]], 'epochs': 1000, 'loss': 'mae', 'act': 'elu'}\n",
      "INFO:root:Compiling model...\n",
      "INFO:root:Fitting model...\n",
      "INFO:root:Validation loss: 197.843\n",
      "INFO:root:Training preset #21/24: {'batch_size': 32, 'lr': 0.002, 'n_feat': 60, 'num_neurons': [[30], [30], [15], [15]], 'epochs': 1000, 'loss': 'mae', 'act': 'elu'}\n",
      "INFO:root:Compiling model...\n",
      "INFO:root:Fitting model...\n",
      "INFO:root:Validation loss: 115.701\n",
      "INFO:root:Training preset #22/24: {'batch_size': 32, 'lr': 0.001, 'n_feat': 60, 'num_neurons': [[30], [30], [15], [15]], 'epochs': 1000, 'loss': 'mae', 'act': 'elu'}\n",
      "INFO:root:Compiling model...\n",
      "INFO:root:Fitting model...\n",
      "INFO:root:Validation loss: 207.704\n",
      "INFO:root:Training preset #23/24: {'batch_size': 64, 'lr': 0.002, 'n_feat': 60, 'num_neurons': [[30], [30], [15], [15]], 'epochs': 1000, 'loss': 'mae', 'act': 'elu'}\n",
      "INFO:root:Compiling model...\n",
      "INFO:root:Fitting model...\n",
      "INFO:root:Validation loss: 184.272\n",
      "INFO:root:Training preset #24/24: {'batch_size': 64, 'lr': 0.001, 'n_feat': 60, 'num_neurons': [[30], [30], [15], [15]], 'epochs': 1000, 'loss': 'mae', 'act': 'elu'}\n",
      "INFO:root:Compiling model...\n",
      "INFO:root:Fitting model...\n",
      "INFO:root:Validation loss: 176.629\n",
      "INFO:root:Preset #13 resulted in lowest validation loss with params {'batch_size': 64, 'lr': 0.001, 'n_feat': 60, 'num_neurons': [[30], [30], [15], [15]], 'epochs': 1000, 'loss': 'mae', 'act': 'elu'}\n",
      "Fitting all data...\n",
      "INFO:root:Compiling model...\n",
      "INFO:root:Fitting model...\n",
      "INFO:root:Loaded <modnet.preprocessing.MODData object at 0x7f0613e090a0> object, created with modnet version 0.1.8\n"
     ]
    },
    {
     "name": "stdout",
     "output_type": "stream",
     "text": [
      "Model #3: MAE = 81.01807113155242\n"
     ]
    },
    {
     "name": "stderr",
     "output_type": "stream",
     "text": [
      "INFO:root:Data successfully saved as folds/train_moddata_f4!\n",
      "INFO:root:Training preset #1/24: {'batch_size': 32, 'lr': 0.002, 'n_feat': 30, 'num_neurons': [[60], [30], [7], [7]], 'epochs': 1000, 'loss': 'mae', 'act': 'elu'}\n",
      "INFO:root:Compiling model...\n",
      "INFO:root:Fitting model...\n",
      "INFO:root:Validation loss: 97.312\n",
      "INFO:root:Training preset #2/24: {'batch_size': 32, 'lr': 0.001, 'n_feat': 30, 'num_neurons': [[60], [30], [7], [7]], 'epochs': 1000, 'loss': 'mae', 'act': 'elu'}\n",
      "INFO:root:Compiling model...\n",
      "INFO:root:Fitting model...\n",
      "INFO:root:Validation loss: 227.926\n",
      "INFO:root:Training preset #3/24: {'batch_size': 64, 'lr': 0.002, 'n_feat': 30, 'num_neurons': [[60], [30], [7], [7]], 'epochs': 1000, 'loss': 'mae', 'act': 'elu'}\n",
      "INFO:root:Compiling model...\n",
      "INFO:root:Fitting model...\n",
      "INFO:root:Validation loss: 220.327\n",
      "INFO:root:Training preset #4/24: {'batch_size': 64, 'lr': 0.001, 'n_feat': 30, 'num_neurons': [[60], [30], [7], [7]], 'epochs': 1000, 'loss': 'mae', 'act': 'elu'}\n",
      "INFO:root:Compiling model...\n",
      "INFO:root:Fitting model...\n",
      "INFO:root:Validation loss: 261.258\n",
      "INFO:root:Training preset #5/24: {'batch_size': 32, 'lr': 0.002, 'n_feat': 30, 'num_neurons': [[30], [15], [7], [7]], 'epochs': 1000, 'loss': 'mae', 'act': 'elu'}\n",
      "INFO:root:Compiling model...\n",
      "INFO:root:Fitting model...\n",
      "INFO:root:Validation loss: 146.924\n",
      "INFO:root:Training preset #6/24: {'batch_size': 32, 'lr': 0.001, 'n_feat': 30, 'num_neurons': [[30], [15], [7], [7]], 'epochs': 1000, 'loss': 'mae', 'act': 'elu'}\n",
      "INFO:root:Compiling model...\n",
      "INFO:root:Fitting model...\n",
      "INFO:root:Validation loss: 240.275\n",
      "INFO:root:Training preset #7/24: {'batch_size': 64, 'lr': 0.002, 'n_feat': 30, 'num_neurons': [[30], [15], [7], [7]], 'epochs': 1000, 'loss': 'mae', 'act': 'elu'}\n",
      "INFO:root:Compiling model...\n",
      "INFO:root:Fitting model...\n",
      "INFO:root:Validation loss: 199.123\n",
      "INFO:root:Training preset #8/24: {'batch_size': 64, 'lr': 0.001, 'n_feat': 30, 'num_neurons': [[30], [15], [7], [7]], 'epochs': 1000, 'loss': 'mae', 'act': 'elu'}\n",
      "INFO:root:Compiling model...\n",
      "INFO:root:Fitting model...\n",
      "INFO:root:Validation loss: 253.670\n",
      "INFO:root:Training preset #9/24: {'batch_size': 32, 'lr': 0.002, 'n_feat': 30, 'num_neurons': [[15], [15], [7], [7]], 'epochs': 1000, 'loss': 'mae', 'act': 'elu'}\n",
      "INFO:root:Compiling model...\n",
      "INFO:root:Fitting model...\n",
      "INFO:root:Validation loss: 189.467\n",
      "INFO:root:Training preset #10/24: {'batch_size': 32, 'lr': 0.001, 'n_feat': 30, 'num_neurons': [[15], [15], [7], [7]], 'epochs': 1000, 'loss': 'mae', 'act': 'elu'}\n",
      "INFO:root:Compiling model...\n",
      "INFO:root:Fitting model...\n",
      "INFO:root:Validation loss: 271.177\n",
      "INFO:root:Training preset #11/24: {'batch_size': 64, 'lr': 0.002, 'n_feat': 30, 'num_neurons': [[15], [15], [7], [7]], 'epochs': 1000, 'loss': 'mae', 'act': 'elu'}\n",
      "INFO:root:Compiling model...\n",
      "INFO:root:Fitting model...\n",
      "INFO:root:Validation loss: 279.210\n",
      "INFO:root:Training preset #12/24: {'batch_size': 64, 'lr': 0.001, 'n_feat': 30, 'num_neurons': [[15], [15], [7], [7]], 'epochs': 1000, 'loss': 'mae', 'act': 'elu'}\n",
      "INFO:root:Compiling model...\n",
      "INFO:root:Fitting model...\n",
      "INFO:root:Validation loss: 295.707\n",
      "INFO:root:Training preset #13/24: {'batch_size': 32, 'lr': 0.002, 'n_feat': 60, 'num_neurons': [[120], [60], [15], [15]], 'epochs': 1000, 'loss': 'mae', 'act': 'elu'}\n",
      "INFO:root:Compiling model...\n",
      "INFO:root:Fitting model...\n",
      "INFO:root:Validation loss: 104.699\n",
      "INFO:root:Training preset #14/24: {'batch_size': 32, 'lr': 0.001, 'n_feat': 60, 'num_neurons': [[120], [60], [15], [15]], 'epochs': 1000, 'loss': 'mae', 'act': 'elu'}\n",
      "INFO:root:Compiling model...\n",
      "INFO:root:Fitting model...\n",
      "INFO:root:Validation loss: 194.522\n",
      "INFO:root:Training preset #15/24: {'batch_size': 64, 'lr': 0.002, 'n_feat': 60, 'num_neurons': [[120], [60], [15], [15]], 'epochs': 1000, 'loss': 'mae', 'act': 'elu'}\n",
      "INFO:root:Compiling model...\n",
      "INFO:root:Fitting model...\n",
      "INFO:root:Validation loss: 87.757\n",
      "INFO:root:Training preset #16/24: {'batch_size': 64, 'lr': 0.001, 'n_feat': 60, 'num_neurons': [[120], [60], [15], [15]], 'epochs': 1000, 'loss': 'mae', 'act': 'elu'}\n",
      "INFO:root:Compiling model...\n",
      "INFO:root:Fitting model...\n",
      "INFO:root:Validation loss: 222.103\n",
      "INFO:root:Training preset #17/24: {'batch_size': 32, 'lr': 0.002, 'n_feat': 60, 'num_neurons': [[60], [30], [15], [15]], 'epochs': 1000, 'loss': 'mae', 'act': 'elu'}\n",
      "INFO:root:Compiling model...\n",
      "INFO:root:Fitting model...\n",
      "INFO:root:Validation loss: 96.086\n",
      "INFO:root:Training preset #18/24: {'batch_size': 32, 'lr': 0.001, 'n_feat': 60, 'num_neurons': [[60], [30], [15], [15]], 'epochs': 1000, 'loss': 'mae', 'act': 'elu'}\n",
      "INFO:root:Compiling model...\n",
      "INFO:root:Fitting model...\n",
      "INFO:root:Validation loss: 226.594\n",
      "INFO:root:Training preset #19/24: {'batch_size': 64, 'lr': 0.002, 'n_feat': 60, 'num_neurons': [[60], [30], [15], [15]], 'epochs': 1000, 'loss': 'mae', 'act': 'elu'}\n",
      "INFO:root:Compiling model...\n",
      "INFO:root:Fitting model...\n",
      "INFO:root:Validation loss: 131.773\n",
      "INFO:root:Training preset #20/24: {'batch_size': 64, 'lr': 0.001, 'n_feat': 60, 'num_neurons': [[60], [30], [15], [15]], 'epochs': 1000, 'loss': 'mae', 'act': 'elu'}\n",
      "INFO:root:Compiling model...\n",
      "INFO:root:Fitting model...\n",
      "INFO:root:Validation loss: 243.746\n",
      "INFO:root:Training preset #21/24: {'batch_size': 32, 'lr': 0.002, 'n_feat': 60, 'num_neurons': [[30], [30], [15], [15]], 'epochs': 1000, 'loss': 'mae', 'act': 'elu'}\n",
      "INFO:root:Compiling model...\n",
      "INFO:root:Fitting model...\n",
      "INFO:root:Validation loss: 101.964\n",
      "INFO:root:Training preset #22/24: {'batch_size': 32, 'lr': 0.001, 'n_feat': 60, 'num_neurons': [[30], [30], [15], [15]], 'epochs': 1000, 'loss': 'mae', 'act': 'elu'}\n",
      "INFO:root:Compiling model...\n",
      "INFO:root:Fitting model...\n",
      "INFO:root:Validation loss: 226.909\n",
      "INFO:root:Training preset #23/24: {'batch_size': 64, 'lr': 0.002, 'n_feat': 60, 'num_neurons': [[30], [30], [15], [15]], 'epochs': 1000, 'loss': 'mae', 'act': 'elu'}\n",
      "INFO:root:Compiling model...\n",
      "INFO:root:Fitting model...\n",
      "INFO:root:Validation loss: 123.748\n",
      "INFO:root:Training preset #24/24: {'batch_size': 64, 'lr': 0.001, 'n_feat': 60, 'num_neurons': [[30], [30], [15], [15]], 'epochs': 1000, 'loss': 'mae', 'act': 'elu'}\n",
      "INFO:root:Compiling model...\n",
      "INFO:root:Fitting model...\n",
      "INFO:root:Validation loss: 270.966\n",
      "INFO:root:Preset #15 resulted in lowest validation loss with params {'batch_size': 64, 'lr': 0.001, 'n_feat': 60, 'num_neurons': [[30], [30], [15], [15]], 'epochs': 1000, 'loss': 'mae', 'act': 'elu'}\n",
      "Fitting all data...\n",
      "INFO:root:Compiling model...\n",
      "INFO:root:Fitting model...\n",
      "INFO:root:Loaded <modnet.preprocessing.MODData object at 0x7f08a85d2a60> object, created with modnet version 0.1.8\n"
     ]
    },
    {
     "name": "stdout",
     "output_type": "stream",
     "text": [
      "Model #4: MAE = 101.09657730594759\n"
     ]
    },
    {
     "name": "stderr",
     "output_type": "stream",
     "text": [
      "INFO:root:Data successfully saved as folds/train_moddata_f5!\n",
      "INFO:root:Training preset #1/24: {'batch_size': 32, 'lr': 0.002, 'n_feat': 30, 'num_neurons': [[60], [30], [7], [7]], 'epochs': 1000, 'loss': 'mae', 'act': 'elu'}\n",
      "INFO:root:Compiling model...\n",
      "INFO:root:Fitting model...\n",
      "INFO:root:Validation loss: 110.512\n",
      "INFO:root:Training preset #2/24: {'batch_size': 32, 'lr': 0.001, 'n_feat': 30, 'num_neurons': [[60], [30], [7], [7]], 'epochs': 1000, 'loss': 'mae', 'act': 'elu'}\n",
      "INFO:root:Compiling model...\n",
      "INFO:root:Fitting model...\n",
      "INFO:root:Validation loss: 134.002\n",
      "INFO:root:Training preset #3/24: {'batch_size': 64, 'lr': 0.002, 'n_feat': 30, 'num_neurons': [[60], [30], [7], [7]], 'epochs': 1000, 'loss': 'mae', 'act': 'elu'}\n",
      "INFO:root:Compiling model...\n",
      "INFO:root:Fitting model...\n",
      "INFO:root:Validation loss: 142.572\n",
      "INFO:root:Training preset #4/24: {'batch_size': 64, 'lr': 0.001, 'n_feat': 30, 'num_neurons': [[60], [30], [7], [7]], 'epochs': 1000, 'loss': 'mae', 'act': 'elu'}\n",
      "INFO:root:Compiling model...\n",
      "INFO:root:Fitting model...\n",
      "INFO:root:Validation loss: 136.860\n",
      "INFO:root:Training preset #5/24: {'batch_size': 32, 'lr': 0.002, 'n_feat': 30, 'num_neurons': [[30], [15], [7], [7]], 'epochs': 1000, 'loss': 'mae', 'act': 'elu'}\n",
      "INFO:root:Compiling model...\n",
      "INFO:root:Fitting model...\n",
      "INFO:root:Validation loss: 137.334\n",
      "INFO:root:Training preset #6/24: {'batch_size': 32, 'lr': 0.001, 'n_feat': 30, 'num_neurons': [[30], [15], [7], [7]], 'epochs': 1000, 'loss': 'mae', 'act': 'elu'}\n",
      "INFO:root:Compiling model...\n",
      "INFO:root:Fitting model...\n",
      "INFO:root:Validation loss: 129.750\n",
      "INFO:root:Training preset #7/24: {'batch_size': 64, 'lr': 0.002, 'n_feat': 30, 'num_neurons': [[30], [15], [7], [7]], 'epochs': 1000, 'loss': 'mae', 'act': 'elu'}\n",
      "INFO:root:Compiling model...\n",
      "INFO:root:Fitting model...\n",
      "INFO:root:Validation loss: 131.908\n",
      "INFO:root:Training preset #8/24: {'batch_size': 64, 'lr': 0.001, 'n_feat': 30, 'num_neurons': [[30], [15], [7], [7]], 'epochs': 1000, 'loss': 'mae', 'act': 'elu'}\n",
      "INFO:root:Compiling model...\n",
      "INFO:root:Fitting model...\n",
      "INFO:root:Validation loss: 140.166\n",
      "INFO:root:Training preset #9/24: {'batch_size': 32, 'lr': 0.002, 'n_feat': 30, 'num_neurons': [[15], [15], [7], [7]], 'epochs': 1000, 'loss': 'mae', 'act': 'elu'}\n",
      "INFO:root:Compiling model...\n",
      "INFO:root:Fitting model...\n",
      "INFO:root:Validation loss: 145.196\n",
      "INFO:root:Training preset #10/24: {'batch_size': 32, 'lr': 0.001, 'n_feat': 30, 'num_neurons': [[15], [15], [7], [7]], 'epochs': 1000, 'loss': 'mae', 'act': 'elu'}\n",
      "INFO:root:Compiling model...\n",
      "INFO:root:Fitting model...\n",
      "INFO:root:Validation loss: 138.404\n",
      "INFO:root:Training preset #11/24: {'batch_size': 64, 'lr': 0.002, 'n_feat': 30, 'num_neurons': [[15], [15], [7], [7]], 'epochs': 1000, 'loss': 'mae', 'act': 'elu'}\n",
      "INFO:root:Compiling model...\n",
      "INFO:root:Fitting model...\n",
      "INFO:root:Validation loss: 132.481\n",
      "INFO:root:Training preset #12/24: {'batch_size': 64, 'lr': 0.001, 'n_feat': 30, 'num_neurons': [[15], [15], [7], [7]], 'epochs': 1000, 'loss': 'mae', 'act': 'elu'}\n",
      "INFO:root:Compiling model...\n",
      "INFO:root:Fitting model...\n",
      "INFO:root:Validation loss: 162.575\n",
      "INFO:root:Training preset #13/24: {'batch_size': 32, 'lr': 0.002, 'n_feat': 60, 'num_neurons': [[120], [60], [15], [15]], 'epochs': 1000, 'loss': 'mae', 'act': 'elu'}\n",
      "INFO:root:Compiling model...\n",
      "INFO:root:Fitting model...\n",
      "INFO:root:Validation loss: 102.640\n",
      "INFO:root:Training preset #14/24: {'batch_size': 32, 'lr': 0.001, 'n_feat': 60, 'num_neurons': [[120], [60], [15], [15]], 'epochs': 1000, 'loss': 'mae', 'act': 'elu'}\n",
      "INFO:root:Compiling model...\n",
      "INFO:root:Fitting model...\n",
      "INFO:root:Validation loss: 100.569\n",
      "INFO:root:Training preset #15/24: {'batch_size': 64, 'lr': 0.002, 'n_feat': 60, 'num_neurons': [[120], [60], [15], [15]], 'epochs': 1000, 'loss': 'mae', 'act': 'elu'}\n",
      "INFO:root:Compiling model...\n",
      "INFO:root:Fitting model...\n",
      "INFO:root:Validation loss: 85.099\n",
      "INFO:root:Training preset #16/24: {'batch_size': 64, 'lr': 0.001, 'n_feat': 60, 'num_neurons': [[120], [60], [15], [15]], 'epochs': 1000, 'loss': 'mae', 'act': 'elu'}\n",
      "INFO:root:Compiling model...\n",
      "INFO:root:Fitting model...\n",
      "INFO:root:Validation loss: 214.564\n",
      "INFO:root:Training preset #17/24: {'batch_size': 32, 'lr': 0.002, 'n_feat': 60, 'num_neurons': [[60], [30], [15], [15]], 'epochs': 1000, 'loss': 'mae', 'act': 'elu'}\n",
      "INFO:root:Compiling model...\n",
      "INFO:root:Fitting model...\n",
      "INFO:root:Validation loss: 128.024\n",
      "INFO:root:Training preset #18/24: {'batch_size': 32, 'lr': 0.001, 'n_feat': 60, 'num_neurons': [[60], [30], [15], [15]], 'epochs': 1000, 'loss': 'mae', 'act': 'elu'}\n",
      "INFO:root:Compiling model...\n",
      "INFO:root:Fitting model...\n",
      "INFO:root:Validation loss: 171.951\n",
      "INFO:root:Training preset #19/24: {'batch_size': 64, 'lr': 0.002, 'n_feat': 60, 'num_neurons': [[60], [30], [15], [15]], 'epochs': 1000, 'loss': 'mae', 'act': 'elu'}\n",
      "INFO:root:Compiling model...\n",
      "INFO:root:Fitting model...\n",
      "INFO:root:Validation loss: 94.017\n",
      "INFO:root:Training preset #20/24: {'batch_size': 64, 'lr': 0.001, 'n_feat': 60, 'num_neurons': [[60], [30], [15], [15]], 'epochs': 1000, 'loss': 'mae', 'act': 'elu'}\n",
      "INFO:root:Compiling model...\n",
      "INFO:root:Fitting model...\n",
      "INFO:root:Validation loss: 205.857\n",
      "INFO:root:Training preset #21/24: {'batch_size': 32, 'lr': 0.002, 'n_feat': 60, 'num_neurons': [[30], [30], [15], [15]], 'epochs': 1000, 'loss': 'mae', 'act': 'elu'}\n",
      "INFO:root:Compiling model...\n",
      "INFO:root:Fitting model...\n",
      "INFO:root:Validation loss: 153.848\n",
      "INFO:root:Training preset #22/24: {'batch_size': 32, 'lr': 0.001, 'n_feat': 60, 'num_neurons': [[30], [30], [15], [15]], 'epochs': 1000, 'loss': 'mae', 'act': 'elu'}\n",
      "INFO:root:Compiling model...\n",
      "INFO:root:Fitting model...\n",
      "INFO:root:Validation loss: 201.050\n",
      "INFO:root:Training preset #23/24: {'batch_size': 64, 'lr': 0.002, 'n_feat': 60, 'num_neurons': [[30], [30], [15], [15]], 'epochs': 1000, 'loss': 'mae', 'act': 'elu'}\n",
      "INFO:root:Compiling model...\n",
      "INFO:root:Fitting model...\n",
      "INFO:root:Validation loss: 80.226\n",
      "INFO:root:Training preset #24/24: {'batch_size': 64, 'lr': 0.001, 'n_feat': 60, 'num_neurons': [[30], [30], [15], [15]], 'epochs': 1000, 'loss': 'mae', 'act': 'elu'}\n",
      "INFO:root:Compiling model...\n",
      "INFO:root:Fitting model...\n",
      "INFO:root:Validation loss: 163.611\n",
      "INFO:root:Preset #23 resulted in lowest validation loss with params {'batch_size': 64, 'lr': 0.001, 'n_feat': 60, 'num_neurons': [[30], [30], [15], [15]], 'epochs': 1000, 'loss': 'mae', 'act': 'elu'}\n",
      "Fitting all data...\n",
      "INFO:root:Compiling model...\n",
      "INFO:root:Fitting model...\n"
     ]
    },
    {
     "name": "stdout",
     "output_type": "stream",
     "text": [
      "Model #5: MAE = 120.72307187972531\n"
     ]
    },
    {
     "data": {
      "text/plain": [
       "98.64856271113851"
      ]
     },
     "execution_count": 45,
     "metadata": {},
     "output_type": "execute_result"
    }
   ],
   "source": [
    "from modnet.matbench.benchmark import matbench_benchmark\n",
    "from modnet.model_presets import gen_presets\n",
    "\n",
    "presets = gen_presets(len(data.get_optimal_descriptors()), 0.8*0.8*len(data.df_featurized))\n",
    "for ind, preset in enumerate(presets):\n",
    "    presets[ind][\"lr\"] /= 5\n",
    "\n",
    "data.df_targets.rename(columns={\"yield strength (GPa)\": \"sigma\"}, inplace=True)\n",
    "\n",
    "best_settings = {\n",
    "    \"increase_bs\":False,\n",
    "    \"num_neurons\": [[64], [32], [8], [8]],\n",
    "    \"n_feat\": len(data.get_optimal_descriptors()),\n",
    "    \"lr\": 0.005,\n",
    "    \"epochs\": 500,\n",
    "    \"verbose\": 0,\n",
    "    \"act\": \"elu\",\n",
    "    \"batch_size\": 32,\n",
    "    \"loss\": \"mae\",\n",
    "    \"xscale\": \"standard\",\n",
    "}\n",
    "\n",
    "results = matbench_benchmark(data, [[[\"sigma\"]]], {\"sigma\": 1}, best_settings,save_folds=True, presets=presets)\n",
    "np.mean(results['scores'])"
   ]
  },
  {
   "cell_type": "code",
   "execution_count": 17,
   "metadata": {
    "jupyter": {
     "outputs_hidden": false
    },
    "pycharm": {
     "name": "#%%\n"
    }
   },
   "outputs": [
    {
     "data": {
      "text/plain": [
       "dict_keys(['loss', 'mae'])"
      ]
     },
     "execution_count": 17,
     "metadata": {},
     "output_type": "execute_result"
    }
   ],
   "source": [
    "results[\"models\"][0].history.history.keys()"
   ]
  },
  {
   "cell_type": "code",
   "execution_count": 19,
   "metadata": {
    "jupyter": {
     "outputs_hidden": false
    },
    "pycharm": {
     "name": "#%%\n"
    }
   },
   "outputs": [
    {
     "data": {
      "image/png": "[encoded data removed]",
      "text/plain": [
       "<Figure size 432x288 with 1 Axes>"
      ]
     },
     "metadata": {
      "needs_background": "light"
     },
     "output_type": "display_data"
    }
   ],
   "source": [
    "for i,c in zip(range(5),['b','k','r','g','y']):\n",
    "    #plt.plot(results[\"models\"][i].history.history[\"loss\"][50:],c=c)\n",
    "    plt.plot(results[\"models\"][i].history.history[\"mae\"][50:],':',c=c)"
   ]
  },
  {
   "cell_type": "code",
   "execution_count": 35,
   "metadata": {},
   "outputs": [
    {
     "data": {
      "image/png": "[encoded data removed]",
      "text/plain": [
       "<Figure size 432x288 with 1 Axes>"
      ]
     },
     "metadata": {
      "needs_background": "light"
     },
     "output_type": "display_data"
    }
   ],
   "source": [
    "for i,c in zip(range(1),['b','k','r','g','y']):\n",
    "    for j in range(8, 9):\n",
    "        #plt.plot(results[\"models\"][i].history.history[\"loss\"][50:],c=c)\n",
    "        plt.plot(results[\"all_nested_models\"][i][j].history.history[\"val_loss\"][100:], c=c)"
   ]
  },
  {
   "cell_type": "code",
   "execution_count": 20,
   "metadata": {},
   "outputs": [
    {
     "ename": "KeyError",
     "evalue": "'val_loss'",
     "output_type": "error",
     "traceback": [
      "\u001b[0;31m---------------------------------------------------------------------------\u001b[0m",
      "\u001b[0;31mKeyError\u001b[0m                                  Traceback (most recent call last)",
      "\u001b[0;32m<ipython-input-20-aa2d844a5947>\u001b[0m in \u001b[0;36m<module>\u001b[0;34m\u001b[0m\n\u001b[1;32m      1\u001b[0m \u001b[0;32mfor\u001b[0m \u001b[0mi\u001b[0m\u001b[0;34m,\u001b[0m\u001b[0mc\u001b[0m \u001b[0;32min\u001b[0m \u001b[0mzip\u001b[0m\u001b[0;34m(\u001b[0m\u001b[0mrange\u001b[0m\u001b[0;34m(\u001b[0m\u001b[0;36m5\u001b[0m\u001b[0;34m)\u001b[0m\u001b[0;34m,\u001b[0m\u001b[0;34m[\u001b[0m\u001b[0;34m'b'\u001b[0m\u001b[0;34m,\u001b[0m\u001b[0;34m'k'\u001b[0m\u001b[0;34m,\u001b[0m\u001b[0;34m'r'\u001b[0m\u001b[0;34m,\u001b[0m\u001b[0;34m'g'\u001b[0m\u001b[0;34m,\u001b[0m\u001b[0;34m'y'\u001b[0m\u001b[0;34m]\u001b[0m\u001b[0;34m)\u001b[0m\u001b[0;34m:\u001b[0m\u001b[0;34m\u001b[0m\u001b[0;34m\u001b[0m\u001b[0m\n\u001b[1;32m      2\u001b[0m     \u001b[0mplt\u001b[0m\u001b[0;34m.\u001b[0m\u001b[0mplot\u001b[0m\u001b[0;34m(\u001b[0m\u001b[0mresults\u001b[0m\u001b[0;34m[\u001b[0m\u001b[0;34m\"models\"\u001b[0m\u001b[0;34m]\u001b[0m\u001b[0;34m[\u001b[0m\u001b[0mi\u001b[0m\u001b[0;34m]\u001b[0m\u001b[0;34m.\u001b[0m\u001b[0mhistory\u001b[0m\u001b[0;34m.\u001b[0m\u001b[0mhistory\u001b[0m\u001b[0;34m[\u001b[0m\u001b[0;34m\"loss\"\u001b[0m\u001b[0;34m]\u001b[0m\u001b[0;34m[\u001b[0m\u001b[0;36m50\u001b[0m\u001b[0;34m:\u001b[0m\u001b[0;34m]\u001b[0m\u001b[0;34m,\u001b[0m\u001b[0mc\u001b[0m\u001b[0;34m=\u001b[0m\u001b[0mc\u001b[0m\u001b[0;34m)\u001b[0m\u001b[0;34m\u001b[0m\u001b[0;34m\u001b[0m\u001b[0m\n\u001b[0;32m----> 3\u001b[0;31m     \u001b[0mplt\u001b[0m\u001b[0;34m.\u001b[0m\u001b[0mplot\u001b[0m\u001b[0;34m(\u001b[0m\u001b[0mresults\u001b[0m\u001b[0;34m[\u001b[0m\u001b[0;34m\"models\"\u001b[0m\u001b[0;34m]\u001b[0m\u001b[0;34m[\u001b[0m\u001b[0mi\u001b[0m\u001b[0;34m]\u001b[0m\u001b[0;34m.\u001b[0m\u001b[0mhistory\u001b[0m\u001b[0;34m.\u001b[0m\u001b[0mhistory\u001b[0m\u001b[0;34m[\u001b[0m\u001b[0;34m\"val_loss\"\u001b[0m\u001b[0;34m]\u001b[0m\u001b[0;34m[\u001b[0m\u001b[0;36m50\u001b[0m\u001b[0;34m:\u001b[0m\u001b[0;34m]\u001b[0m\u001b[0;34m,\u001b[0m\u001b[0;34m':'\u001b[0m\u001b[0;34m,\u001b[0m\u001b[0mc\u001b[0m\u001b[0;34m=\u001b[0m\u001b[0mc\u001b[0m\u001b[0;34m)\u001b[0m\u001b[0;34m\u001b[0m\u001b[0;34m\u001b[0m\u001b[0m\n\u001b[0m",
      "\u001b[0;31mKeyError\u001b[0m: 'val_loss'"
     ]
    },
    {
     "data": {
      "image/png": "[encoded data removed]",
      "text/plain": [
       "<Figure size 432x288 with 1 Axes>"
      ]
     },
     "metadata": {
      "needs_background": "light"
     },
     "output_type": "display_data"
    }
   ],
   "source": [
    "for i,c in zip(range(5),['b','k','r','g','y']):\n",
    "    plt.plot(results[\"models\"][i].history.history[\"loss\"][50:],c=c)\n",
    "    plt.plot(results[\"models\"][i].history.history[\"val_loss\"][50:],':',c=c)"
   ]
  },
  {
   "cell_type": "code",
   "execution_count": null,
   "metadata": {},
   "outputs": [],
   "source": [
    "for i,c in zip(range(5),['b','k','r','g','y']):\n",
    "    plt.plot(results[\"models\"][i].history.history[\"loss\"][50:],c=c)\n",
    "    plt.plot(results[\"models\"][i].history.history[\"val_loss\"][50:],':',c=c)"
   ]
  },
  {
   "cell_type": "code",
   "execution_count": null,
   "metadata": {},
   "outputs": [],
   "source": [
    "import seaborn as sns\n",
    "reg_df = pd.DataFrame(\n",
    "    np.array([\n",
    "        [x for targ in results[\"targets\"] for x in targ],\n",
    "        [y for pred in results[\"predictions\"] for y in pred],\n",
    "        [e for err in results[\"errors\"] for e in err]\n",
    "    ]).T,\n",
    "    columns=[\"targets\", \"predictions\", \"errors\"]\n",
    ")\n",
    "splits = []\n",
    "for i in range(5):\n",
    "    for j in range(len(results[\"targets\"][i])):\n",
    "        splits.append(i)\n",
    "reg_df[\"split\"] = splits"
   ]
  },
  {
   "cell_type": "code",
   "execution_count": null,
   "metadata": {},
   "outputs": [],
   "source": [
    "fig, ax = plt.subplots()\n",
    "#ax.set_aspect(\"equal\")\n",
    "sns.scatterplot(data=reg_df, x=\"targets\", y=\"predictions\", hue=\"split\", palette=\"Dark2\", ax=ax, alpha=0.5)\n",
    "sns.regplot(data=reg_df, x=\"targets\", y=\"predictions\", ax=ax, scatter=False, color=\"k\")\n",
    "# plt.plot(*ax.get_xlim(), *ax.get_xlim(), c=\"k\",alpha=0.5)\n",
    "plt.xlabel(\"True\")\n",
    "plt.ylabel(\"Pred.\")"
   ]
  },
  {
   "cell_type": "code",
   "execution_count": null,
   "metadata": {},
   "outputs": [],
   "source": [
    "g = sns.jointplot(data=reg_df, x=\"targets\", y=\"predictions\", hue=\"split\", palette=\"Dark2\", alpha=0.0, marginal_kws={\"shade\": False})\n",
    "g.plot_joint(sns.scatterplot, hue=None, c=\"black\", s=5, alpha=0.8)\n",
    "g.plot_joint(sns.kdeplot, color=\"split\", zorder=0, levels=5, alpha=0.5)"
   ]
  },
  {
   "cell_type": "markdown",
   "metadata": {},
   "source": [
    "## Feature selection"
   ]
  },
  {
   "cell_type": "code",
   "execution_count": null,
   "metadata": {},
   "outputs": [],
   "source": [
    "def process(data):\n",
    "    x = data.get_featurized_df()[model.optimal_descriptors[:model.n_feat]]\n",
    "    x = model._scaler.transform(x)\n",
    "    x = np.nan_to_num(x)\n",
    "    return x"
   ]
  },
  {
   "cell_type": "code",
   "execution_count": null,
   "metadata": {},
   "outputs": [],
   "source": [
    "try:\n",
    "    matbench_kfold_splits()\n",
    "except:\n",
    "    os.chdir(\"..\")\n",
    "    from modnet_matbench.utils import matbench_kfold_splits\n"
   ]
  },
  {
   "cell_type": "code",
   "execution_count": null,
   "metadata": {},
   "outputs": [],
   "source": [
    "import shap\n",
    "shap.initjs()\n",
    "for train, test in matbench_kfold_splits(data):\n",
    "    train_moddata, test_moddata = data.split((train, test))\n",
    "    break\n",
    "\n",
    "X_train = shap.sample(process(train_moddata))\n",
    "explainer = shap.KernelExplainer(model.model.predict, X_train)"
   ]
  },
  {
   "cell_type": "code",
   "execution_count": null,
   "metadata": {},
   "outputs": [],
   "source": [
    "shap_values = explainer.shap_values(X_train, nsamples=1000)"
   ]
  },
  {
   "cell_type": "code",
   "execution_count": null,
   "metadata": {},
   "outputs": [],
   "source": [
    "shap.force_plot(\n",
    "    explainer.expected_value, \n",
    "    shap_values[0], \n",
    "    feature_names=model.optimal_descriptors[:model.n_feat], \n",
    "    out_names=[\"Yield strength (GPa)\"],\n",
    ")"
   ]
  },
  {
   "cell_type": "code",
   "execution_count": null,
   "metadata": {},
   "outputs": [],
   "source": [
    "shap.summary_plot(shap_values[0], X_train, max_display=32, plot_type=\"dot\", feature_names=model.optimal_descriptors[:model.n_feat])"
   ]
  }
 ],
 "metadata": {
  "kernelspec": {
   "display_name": "Python [conda env:.conda-modnet] *",
   "language": "python",
   "name": "conda-env-.conda-modnet-py"
  },
  "language_info": {
   "codemirror_mode": {
    "name": "ipython",
    "version": 3
   },
   "file_extension": ".py",
   "mimetype": "text/x-python",
   "name": "python",
   "nbconvert_exporter": "python",
   "pygments_lexer": "ipython3",
   "version": "3.8.0"
  }
 },
 "nbformat": 4,
 "nbformat_minor": 4
}
